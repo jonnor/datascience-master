{
 "cells": [
  {
   "cell_type": "code",
   "execution_count": 41,
   "metadata": {},
   "outputs": [],
   "source": [
    "%matplotlib inline\n",
    "\n",
    "import numpy\n",
    "import pandas\n",
    "import matplotlib.pyplot as plt\n",
    "\n",
    "import sklearn\n",
    "from sklearn.pipeline import Pipeline, make_pipeline\n",
    "from sklearn.preprocessing import StandardScaler\n",
    "from sklearn.mixture import GaussianMixture\n",
    "from sklearn.ensemble import RandomForestClassifier\n",
    "from sklearn.naive_bayes import GaussianNB\n",
    "from sklearn import model_selection\n",
    "from sklearn import metrics\n",
    "\n",
    "import librosa\n",
    "import librosa.display"
   ]
  },
  {
   "cell_type": "code",
   "execution_count": 42,
   "metadata": {},
   "outputs": [],
   "source": [
    "import tarfile\n",
    "import re\n",
    "import io\n",
    "    \n",
    "def load_dataset(tarpath, labelpath, limit=None):\n",
    "    labels = pandas.read_csv(labelpath, index_col='itemid')\n",
    "    dataset = []\n",
    "    labeldata = []\n",
    "    \n",
    "    with tarfile.open(tarpath, mode=\"r|gz\") as tar:\n",
    "        regex = r\".*\\/(\\d+)\\..*\"\n",
    "        for i, member in enumerate(tar):\n",
    "            if limit is not None:\n",
    "                if i >= limit:\n",
    "                    break\n",
    "\n",
    "            sample = int(re.findall(regex, member.name)[0])\n",
    "            content = tar.extractfile(member).read()\n",
    "            data = pandas.read_csv(io.BytesIO(content), encoding='utf8')\n",
    "\n",
    "            #features = features_from_mfcc(data)\n",
    "            features = data\n",
    "            hasbird = labels.hasbird[sample].astype('bool')\n",
    "            dataset.append(features)\n",
    "            labeldata.append(hasbird)\n",
    "        \n",
    "    return dataset, labeldata\n"
   ]
  },
  {
   "cell_type": "code",
   "execution_count": 44,
   "metadata": {},
   "outputs": [],
   "source": [
    "dataset = load_dataset('data/ff1010bird.mfcc.tgz', 'data/ff1010bird.labels.csv', limit=5000)"
   ]
  },
  {
   "cell_type": "code",
   "execution_count": 9,
   "metadata": {},
   "outputs": [],
   "source": [
    "def plot_mfcc(mfcc):\n",
    "    plt.figure(figsize=(10, 4))\n",
    "    librosa.display.specshow(mfcc, x_axis='time')\n",
    "    plt.colorbar()\n",
    "    plt.title('MFCC')\n",
    "    plt.tight_layout()\n",
    "\n",
    "def plot_spectrogram(S, title='Mel spectrogram', fmax=8000):\n",
    "    plt.figure(figsize=(10, 4))\n",
    "    d = librosa.power_to_db(S, ref=numpy.max)\n",
    "    librosa.display.specshow(d, y_axis='mel', x_axis='time', fmin=500, fmax=fmax)\n",
    "    plt.colorbar(format='%+2.0f dB')\n",
    "    plt.title(title)\n",
    "    plt.tight_layout()\n",
    "\n",
    "#print(X[1].T.shape)\n",
    "#print(numpy.mean(X[1].T, axis=1).shape)\n",
    "\n",
    "#plot_mfcc(X[1].T)\n",
    "#plot_mfcc(meansub(X[1].T))"
   ]
  },
  {
   "cell_type": "code",
   "execution_count": 12,
   "metadata": {},
   "outputs": [],
   "source": [
    "def plot_precision_recall(Y_test, Y_score):\n",
    "    average_precision = metrics.average_precision_score(Y_test, Y_score)\n",
    "    precision, recall, _ = metrics.precision_recall_curve(Y_test, Y_score)\n",
    "\n",
    "    plt.step(recall, precision, color='b', alpha=0.2, where='post')\n",
    "    plt.fill_between(recall, precision, step='post', alpha=0.2, color='b')\n",
    "\n",
    "    plt.xlabel('Recall')\n",
    "    plt.ylabel('Precision')\n",
    "    plt.ylim([0.0, 1.05])\n",
    "    plt.xlim([0.0, 1.0])\n",
    "    plt.title('2-class Precision-Recall curve: AP={0:0.2f}'.format(average_precision))"
   ]
  },
  {
   "cell_type": "code",
   "execution_count": 54,
   "metadata": {},
   "outputs": [
    {
     "name": "stdout",
     "output_type": "stream",
     "text": [
      "cv: 0.7602 0.0212 || [0.73961802 0.79437405 0.7559873  0.73829817 0.77250687]\n",
      "ROC AUC 0.7497898481207436\n",
      "recall 0.39037433155080214\n"
     ]
    },
    {
     "data": {
      "text/plain": [
       "array([[1069,   57],\n",
       "       [ 228,  146]])"
      ]
     },
     "execution_count": 54,
     "metadata": {},
     "output_type": "execute_result"
    }
   ],
   "source": [
    "from scipy import ndimage\n",
    "\n",
    "def meansub(s):\n",
    "    return s - (numpy.mean(s, axis=0) + 1e-8)\n",
    "\n",
    "def features_from_mfcc(stored):\n",
    "    mfcc = stored.T\n",
    "    mfcc = meansub(mfcc)\n",
    "    #mfcc = mfcc / numpy.sum(mfcc)\n",
    "    filt = ndimage.median_filter(mfcc, (1, 1))\n",
    "    \n",
    "    delta = librosa.feature.delta(mfcc, width=9, order=1)\n",
    "    \n",
    "    features = numpy.concatenate([\n",
    "        #numpy.mean(mfcc, axis=1),\n",
    "        #numpy.std(mfcc, axis=1),\n",
    "        numpy.min(filt, axis=1),\n",
    "        numpy.max(filt, axis=1),\n",
    "        #numpy.min(delta, axis=1),\n",
    "        #numpy.max(delta, axis=1),\n",
    "    ])\n",
    "    \n",
    "    return features\n",
    "\n",
    "def get_features(dataset):\n",
    "    data, labels = dataset\n",
    "    features = [features_from_mfcc(m) for m in data]\n",
    "    return numpy.array(features), numpy.array(labels)\n",
    "\n",
    "X, Y = get_features(dataset)\n",
    "X_train, X_test, Y_train, Y_test = model_selection.train_test_split(X, Y, test_size=0.3, random_state=1)\n",
    "X.shape, Y.shape, numpy.mean(Y)\n",
    "\n",
    "rf = make_pipeline(\n",
    "    StandardScaler(),\n",
    "    RandomForestClassifier(n_estimators=100, random_state=1),\n",
    ")\n",
    "\n",
    "scores = model_selection.cross_val_score(rf, X_train, Y_train, scoring='roc_auc', cv=5)\n",
    "print('cv: {:.4f} {:.4f} ||'.format(numpy.mean(scores), numpy.std(scores)), scores)\n",
    "rf.fit(X_train, Y_train)\n",
    "roc_auc = metrics.roc_auc_score(Y_test, rf.predict_proba(X_test)[:,1])\n",
    "Y_pred = rf.predict(X_test)\n",
    "recall = metrics.recall_score(Y_test, Y_pred)\n",
    "print('ROC AUC', roc_auc)\n",
    "print('recall', recall)\n",
    "\n",
    "metrics.confusion_matrix(Y_test, Y_pred)"
   ]
  },
  {
   "cell_type": "code",
   "execution_count": 51,
   "metadata": {},
   "outputs": [
    {
     "data": {
      "text/plain": [
       "array([[0.81450382, 0.31052632],\n",
       "       [0.18549618, 0.68947368]])"
      ]
     },
     "execution_count": 51,
     "metadata": {},
     "output_type": "execute_result"
    }
   ],
   "source": [
    "cf = metrics.confusion_matrix(Y_test, Y_pred)\n",
    "cf / cf.sum(axis=0)"
   ]
  },
  {
   "cell_type": "code",
   "execution_count": 13,
   "metadata": {},
   "outputs": [
    {
     "data": {
      "image/png": "[encoded data removed]",
      "text/plain": [
       "<Figure size 432x288 with 1 Axes>"
      ]
     },
     "metadata": {},
     "output_type": "display_data"
    }
   ],
   "source": [
    "plot_precision_recall(Y_test, rf.predict_proba(X_test)[:,1])"
   ]
  },
  {
   "cell_type": "code",
   "execution_count": 125,
   "metadata": {},
   "outputs": [
    {
     "data": {
      "text/plain": [
       "<matplotlib.axes._subplots.AxesSubplot at 0x7fccd043b160>"
      ]
     },
     "execution_count": 125,
     "metadata": {},
     "output_type": "execute_result"
    },
    {
     "data": {
      "image/png": "[encoded data removed]",
      "text/plain": [
       "<Figure size 432x288 with 1 Axes>"
      ]
     },
     "metadata": {},
     "output_type": "display_data"
    }
   ],
   "source": [
    "pandas.DataFrame(rf.steps[1][1].feature_importances_).plot()"
   ]
  },
  {
   "cell_type": "code",
   "execution_count": null,
   "metadata": {},
   "outputs": [],
   "source": []
  }
 ],
 "metadata": {
  "kernelspec": {
   "display_name": "Python 3",
   "language": "python",
   "name": "python3"
  },
  "language_info": {
   "codemirror_mode": {
    "name": "ipython",
    "version": 3
   },
   "file_extension": ".py",
   "mimetype": "text/x-python",
   "name": "python",
   "nbconvert_exporter": "python",
   "pygments_lexer": "ipython3",
   "version": "3.6.5"
  }
 },
 "nbformat": 4,
 "nbformat_minor": 2
}
