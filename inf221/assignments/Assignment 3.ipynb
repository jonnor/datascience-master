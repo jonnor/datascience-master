{
 "cells": [
  {
   "cell_type": "markdown",
   "metadata": {},
   "source": [
    "# INF221 Assignment 3\n",
    "Jon Nordby"
   ]
  },
  {
   "cell_type": "code",
   "execution_count": 6,
   "metadata": {
    "collapsed": true
   },
   "outputs": [],
   "source": [
    "%matplotlib inline\n",
    "\n",
    "import math\n",
    "import random\n",
    "\n",
    "import matplotlib\n",
    "import pandas"
   ]
  },
  {
   "cell_type": "markdown",
   "metadata": {},
   "source": [
    "## Exercise 10\n",
    "\n",
    "CLRS 4.1-1: What does Find-Maximum-Subarray return when all elements of A are negative?\n"
   ]
  },
  {
   "cell_type": "markdown",
   "metadata": {},
   "source": [
    "zero / empty-set ? "
   ]
  },
  {
   "cell_type": "markdown",
   "metadata": {},
   "source": [
    "## Exercise 11\n",
    "\n",
    "CLRS 4.1-3 (partial):\n",
    "\n",
    "Implement both the brute-force and the recursive algorithms for the maximum-subarray problem on your own computer using Python. What problem size $n_0$ gives the crossover point at which the recursive algorithm beats the brute force algorithm?\n",
    "\n",
    "Hints:\n",
    "\n",
    "Use Python module timeit to time execution of your code. \n",
    "To create input data, use cumulative sums of random numbers as in the example towards the end of Lecture 4.\n"
   ]
  },
  {
   "cell_type": "code",
   "execution_count": 2,
   "metadata": {
    "collapsed": true
   },
   "outputs": [],
   "source": [
    "# page 68-74\n",
    "def maximum_subarray_bruteforce(A):\n",
    "    pass\n",
    "\n",
    "\n",
    "def maximum_subarray_recursive(A):\n",
    "    pass\n",
    "\n"
   ]
  },
  {
   "cell_type": "markdown",
   "metadata": {},
   "source": [
    "## Exercise 12\n",
    "\n",
    "CLRS 4.3-1 & 2:\n",
    "\n",
    "a) Show that the solution of $T(n)=T(n-1)+n$ is $O(n^2)$.\n",
    "\n",
    "b) Show that the solution of $T(n) = T(\\lceil n/2 \\rceil)+1$ is $O(\\lg n)$."
   ]
  },
  {
   "cell_type": "markdown",
   "metadata": {},
   "source": [
    " Recursion\n",
    " Substitution method?\n",
    " See Assignment 2, Ex 7"
   ]
  },
  {
   "cell_type": "markdown",
   "metadata": {},
   "source": [
    "## Exercise 13\n",
    "CLRS 4.3-3\n",
    "\n",
    "We saw that the solution of $T(n)=2T(\\lfloor n/2 \\rfloor)+n$ is $O(n\\lg n)$.\n",
    "Show that the solution of this recurrence is also: $\\Omega(n\\lg n)$ and conclude that the solution is $\\Theta(n\\lg n)$.\n",
    "\n",
    "Hint: Use the same approach as for the upper bound in Ch 4.3. You will then need to find at some point an expression that is smaller than $\\lfloor n/2 \\rfloor \\lg(\\lfloor n/2 \\rfloor)$. Here, it can be useful to use different lower bounds for $\\lfloor n/2 \\rfloor$ outside and inside the logarithm.\n"
   ]
  },
  {
   "cell_type": "markdown",
   "metadata": {},
   "source": [
    "## Exercise 14\n",
    "CLRS 4.4-1, 5:\n",
    "\n",
    "Use recursion trees to determine a good asymptotic upper bound on the recurrences given below and then use the substitution method to verify your answers.\n",
    "\n",
    "Note: This exercise can give you up to two points extra credit. You receive one point each for solving a) and b), and a third point for a tight bound in b).\n",
    "\n",
    "a) $T(n) = 3T(\\lfloor n/2\\rfloor)+n$\n",
    "\n",
    "Hint: The recursion tree analysis analysis is similar to the first example in Ch 4.4. For the proof using the substitution method, also take a look at the \"Subtleties\" section of Ch 4.3.\n",
    "\n",
    "b) $T(n) = T(n-1)+T(n/2) + nT(n)$\n",
    "\n",
    "Hint: To obtain an upper bound, perform a \"worst case\" analysis along the left edge of the recursion tree and assume that all levels are full. Prove that bound using the substitution method. For extra credit, attempt at tighter bound!"
   ]
  },
  {
   "cell_type": "markdown",
   "metadata": {},
   "source": [
    "Page 86-90"
   ]
  },
  {
   "cell_type": "markdown",
   "metadata": {},
   "source": [
    "## Exercise 15\n",
    "CLRS 4.5-1:\n",
    "\n",
    "Use the master method to give tight asymptotic bounds for the following recurrences:\n",
    "\n",
    "a) $T(n) = 2T(n/4)+1$\n",
    "\n",
    "b) $T(n) = 2T(n/4) + \\sqrt{n}$\n",
    "\n",
    "c) $T(n) = 2T(n/4)+nT(n)$\n",
    "\n",
    "d) $T(n) = 2T(n/4)+n^2$"
   ]
  },
  {
   "cell_type": "markdown",
   "metadata": {},
   "source": [
    "Page 93 - 96\n",
    "Check that the method applies (possibly rearranging T ?)\n",
    "\n",
    "$T(n) = aT(n/b) + f(n)$ where $a \\geq 1$ and $b \\gt 1$ and $f(n)$ is asymptotically positive function.\n",
    "\n",
    "Dermine which case it falls into\n",
    "\n",
    "1. If $ f(n) = O(n^{\\log_b a-e}) $ for some constant $e > 0$, then $T(n) = \\Theta(n^{\\log_b a})$.\n",
    "\n",
    "2. If $f(n) = \\Theta(n^{\\log_b a})$ , then $ T(n) = \\Theta(n^{\\log_b a} \\lg n)$.\n",
    "\n",
    "3. If $ f(n) = \\Omega(n^{\\log_b a+e})$ for some constant $e > 0$, and if $af(n/b) \\leq cf(n)$ for\n",
    "some constant $c < 1$ and all sufficiently large $n$, then $T(n) = \\Theta(f(n))$.\n",
    "\n",
    "Note, in case 1 and 3 $f(n)$must be *polynomally* smaller/larger than $n^{\\log_b a-e}$, that is, asymptotcally larger by a factor $n^e$ for some constant $e \\gt 0$\n",
    "\n",
    "Calculate"
   ]
  },
  {
   "cell_type": "code",
   "execution_count": null,
   "metadata": {
    "collapsed": true
   },
   "outputs": [],
   "source": []
  }
 ],
 "metadata": {
  "kernelspec": {
   "display_name": "Python 3",
   "language": "python",
   "name": "python3"
  },
  "language_info": {
   "codemirror_mode": {
    "name": "ipython",
    "version": 3
   },
   "file_extension": ".py",
   "mimetype": "text/x-python",
   "name": "python",
   "nbconvert_exporter": "python",
   "pygments_lexer": "ipython3",
   "version": "3.6.2"
  }
 },
 "nbformat": 4,
 "nbformat_minor": 2
}
