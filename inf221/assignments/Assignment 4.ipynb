{
 "cells": [
  {
   "cell_type": "markdown",
   "metadata": {},
   "source": [
    "# Assignment 4\n",
    "Jon Nordby\n"
   ]
  },
  {
   "cell_type": "code",
   "execution_count": 2,
   "metadata": {
    "collapsed": true
   },
   "outputs": [],
   "source": [
    "%matplotlib inline\n",
    "import random\n",
    "import math\n",
    "\n",
    "import pandas\n",
    "import matplotlib.pyplot as plt"
   ]
  },
  {
   "cell_type": "markdown",
   "metadata": {},
   "source": [
    "## Exercise 16\n",
    "\n",
    "In the Select-IDE algorithm (lecture 6), what is the probability that you\n",
    "\n",
    "### 1. Select only a single IDE?\n",
    "\n",
    "The algorithm initial selects the first candidate. And then only switches away from the current IDE if the candidate has higher score.\n",
    "\n",
    "To select only one IDE, the first candidate would need to have the highest score. The other n-1 can be in any position, giving probability $ P(\\text{select-one}) = \\frac{(n-1)!}{(n)!} = \\frac{1}{n} $"
   ]
  },
  {
   "cell_type": "markdown",
   "metadata": {},
   "source": [
    "### 2. Select n different IDEs?\n",
    "\n",
    "Selecting N different IDEs in a sequence of N candidates only happens if the scores are in in strictly increasing order.\n",
    "\n",
    "There is only one permutation of the sequence with this order, giving probability $ P(\\text{select-all}) = \\frac{1}{n!} $"
   ]
  },
  {
   "cell_type": "markdown",
   "metadata": {},
   "source": [
    "### 3. Select exactly two IDEs?"
   ]
  },
  {
   "cell_type": "markdown",
   "metadata": {},
   "source": [
    "## Exercise 17\n",
    "\n",
    "CLRS 5.2-5: Let A[1..n] be an array of n distinct numbers.\n",
    "If i < j and A[i] > A[j], then the pair (i, j) is called an inversion.\n",
    "Suppose that all the elements of A form a uniform random permutation\n",
    "(that any ordering is equally likely) of <1, 2, ..., n>.\n",
    "Use indicator random variables to compute the expected number of inversions."
   ]
  },
  {
   "cell_type": "markdown",
   "metadata": {},
   "source": [
    "To compute the number of we need to compare each i with each j, which is all the combinations of two numbers.\n",
    "\n",
    "The probability of an (i, j) pair being an inversion is the probability of A[i] > [j]. Since the values are uniformly distributed with no duplicate values, it has the same chance of being true as false:\n",
    "\n",
    "$ P(\\text{ij-is-inversion}) = X_{inv} = \\frac{1}{2} $\n",
    "\n",
    "Using k-combination $ \\frac{n!}{k!(n-k)!} $ with $k=2$, there are $ \\frac{n!}{2!(n-2)!} = \\frac{n(n-1)(n-2)!}{2!(n-2)!} = \\frac{n(n-1)}{4} $ combinations.\n",
    "\n",
    "The expected number of inversions is the \n",
    "\n",
    "$ E = I*X_{inv} = \\frac{n(n-1)}{4}*\\frac{1}{2} = \\frac{n(n-1)}{8} $"
   ]
  },
  {
   "cell_type": "markdown",
   "metadata": {},
   "source": [
    "## Exercise 18\n",
    "\n",
    "CLRS 5.3-2: The following procedure is supposed to generate any permutation of A with equal probability, except the identity permutation (leaving A unchanged). Does this do so?\n",
    "```\n",
    "Permute-Without-Identity(A)\n",
    "  n = A.length\n",
    "  for i = 1 to n-1\n",
    "    swap A[i] with A[Random(i+1, n)]\n",
    "```\n",
    "\n",
    "Hint: Begin by experimenting with small arrays A. Assume that all elements of A are unique."
   ]
  },
  {
   "cell_type": "markdown",
   "metadata": {},
   "source": [
    "This algorithm *always* swaps each item away, and there is no way for the item be swapped back to the same position. Thus all permutations where one or more of the items stay in the original location cannot happen."
   ]
  },
  {
   "cell_type": "code",
   "execution_count": 10,
   "metadata": {},
   "outputs": [
    {
     "name": "stdout",
     "output_type": "stream",
     "text": [
      "original: [0, 1, 2]\n",
      "[2, 0, 1]\n",
      "[2, 0, 1]\n",
      "[2, 0, 1]\n",
      "[2, 0, 1]\n",
      "[1, 2, 0]\n",
      "[1, 2, 0]\n",
      "[1, 2, 0]\n",
      "[1, 2, 0]\n",
      "[1, 2, 0]\n",
      "[1, 2, 0]\n",
      "[2, 0, 1]\n",
      "[1, 2, 0]\n",
      "[2, 0, 1]\n",
      "[2, 0, 1]\n",
      "[2, 0, 1]\n"
     ]
    }
   ],
   "source": [
    "def permutation_without_identity(arr):\n",
    "    n = len(arr)\n",
    "    for i in range(0, n-1):\n",
    "        swapidx = random.randint(i+1, n-1)\n",
    "        arr[i], arr[swapidx] = arr[swapidx], arr[i]\n",
    "    return arr\n",
    "\n",
    "A = list(range(0, 3))\n",
    "permutations = [permutation_without_identity(A.copy()) for _ in range(0, 15)]\n",
    "print('original:', A)\n",
    "print('\\n'.join(str(a) for a in permutations))"
   ]
  },
  {
   "cell_type": "markdown",
   "metadata": {
    "collapsed": true
   },
   "source": [
    "Experiment confirms that permutations where 0 stays at index 0, or 1 at index 1, or 2 at index 2 does not occur."
   ]
  },
  {
   "cell_type": "markdown",
   "metadata": {
    "collapsed": true
   },
   "source": [
    "## Exercise 19\n",
    "\n",
    "CLRS 6.2-5: The Max-Heapify algorithm is recursive. There is only a single recursive function call, and it occurs at the very end of the algorithm. This is an example of tail recursion. Since function calls can be quite expensive, one usually tries to avoid tail recursion by replacing recursion by a loop construct.\n",
    "\n",
    "Write a Max-Heapify algorithm that uses looping instead of recursion (pseudocode)!"
   ]
  },
  {
   "cell_type": "markdown",
   "metadata": {
    "collapsed": true
   },
   "source": [
    "Following conventions in CLRS\n",
    "```\n",
    "Max-Heapify-Looping(A, i)\n",
    "  \n",
    "  while True\n",
    "    l = left(i)\n",
    "    r = right(i)\n",
    "    if l < A.heap-size and A[l] > A[i]\n",
    "      largest = l\n",
    "    if r < A.heap-size and A[r] > A[largest]\n",
    "      largest = r\n",
    "    if largest != i\n",
    "      exchange A[i] with A[largest]\n",
    "      i = largest\n",
    "    else\n",
    "      break\n",
    "```"
   ]
  },
  {
   "cell_type": "markdown",
   "metadata": {},
   "source": [
    "### Extra credit\n",
    "Implement recursive and iterative Max-Heapify and Build-Max-Heap in Python and compare their performance on random input arrays."
   ]
  },
  {
   "cell_type": "markdown",
   "metadata": {},
   "source": [
    "#### Recursive implementation"
   ]
  },
  {
   "cell_type": "code",
   "execution_count": 57,
   "metadata": {},
   "outputs": [
    {
     "data": {
      "text/plain": [
       "'tests passed'"
      ]
     },
     "execution_count": 57,
     "metadata": {},
     "output_type": "execute_result"
    }
   ],
   "source": [
    "def max_heapify_recursive(H, p):\n",
    "    l = 2*p + 1\n",
    "    r = 2*p + 2\n",
    "    largest = p\n",
    "    length = len(H)\n",
    "    if l < length and H[l] > H[largest]:\n",
    "        largest = l\n",
    "    if r < length and H[r] > H[largest]:\n",
    "        largest = r\n",
    "    if largest != p:\n",
    "        H[largest], H[p] = H[p], H[largest]\n",
    "        max_heapify_recursive(H, largest)\n",
    "        \n",
    "def build_max_heap_recursive(A):\n",
    "    H = A.copy()\n",
    "    for i in range(len(H)//2, -1, -1):\n",
    "        max_heapify_recursive(H, i)\n",
    "    return H\n",
    "\n",
    "def get(A, i, default=None):\n",
    "    try:\n",
    "        return A[i]\n",
    "    except IndexError:\n",
    "        return default\n",
    "\n",
    "def test_max_heap(build_max_heap):\n",
    "    for _ in range(0, 10):\n",
    "        A = [ random.randint(-99, 99) for _ in range(7) ]\n",
    "        H = build_max_heap(A)\n",
    "\n",
    "        # Check that max-heap property is kept: parent is always larger than children\n",
    "        for i in range(len(H)//2, -1, -1):\n",
    "            p = H[i]\n",
    "            l = get(H, i*2 + 1, -math.inf)\n",
    "            r = get(H, i*2 + 2, -math.inf)\n",
    "            assert p >= l\n",
    "            assert p >= r\n",
    "            \n",
    "\n",
    "test_max_heap(build_max_heap_recursive)\n",
    "'tests passed'"
   ]
  },
  {
   "cell_type": "markdown",
   "metadata": {},
   "source": [
    "#### Iterative implementation"
   ]
  },
  {
   "cell_type": "code",
   "execution_count": 58,
   "metadata": {},
   "outputs": [
    {
     "data": {
      "text/plain": [
       "'tests passed'"
      ]
     },
     "execution_count": 58,
     "metadata": {},
     "output_type": "execute_result"
    }
   ],
   "source": [
    "def max_heapify_iterative(H, top):\n",
    "    p = top\n",
    "    length = len(H)\n",
    "    while True:\n",
    "        l = 2*p + 1\n",
    "        r = 2*p + 2\n",
    "        largest = p\n",
    "        if l < length and H[l] > H[largest]:\n",
    "            largest = l\n",
    "        if r < length and H[r] > H[largest]:\n",
    "            largest = r\n",
    "        if largest != p:\n",
    "            H[largest], H[p] = H[p], H[largest]\n",
    "            p = largest\n",
    "        else:\n",
    "            break\n",
    "\n",
    "def build_max_heap_iterative(A):\n",
    "    H = A.copy()\n",
    "    for i in range(len(H)//2, -1, -1):\n",
    "        max_heapify_iterative(H, i)\n",
    "    return H\n",
    "\n",
    "test_max_heap(build_max_heap_iterative)\n",
    "'tests passed'"
   ]
  },
  {
   "cell_type": "markdown",
   "metadata": {},
   "source": [
    "#### Recursive versus iterative heap building"
   ]
  },
  {
   "cell_type": "code",
   "execution_count": 43,
   "metadata": {
    "collapsed": true
   },
   "outputs": [],
   "source": [
    "def random_integers(l):\n",
    "    return [ random.randint(-9999, 9999) for _ in range(l+1) ]\n",
    "heap_inputs = random_integers(10000)"
   ]
  },
  {
   "cell_type": "code",
   "execution_count": 44,
   "metadata": {},
   "outputs": [
    {
     "name": "stdout",
     "output_type": "stream",
     "text": [
      "10 loops, best of 3: 22.4 ms per loop\n"
     ]
    }
   ],
   "source": [
    "%timeit build_max_heap_recursive(heap_inputs)"
   ]
  },
  {
   "cell_type": "code",
   "execution_count": 45,
   "metadata": {},
   "outputs": [
    {
     "name": "stdout",
     "output_type": "stream",
     "text": [
      "10 loops, best of 3: 19.5 ms per loop\n"
     ]
    }
   ],
   "source": [
    "%timeit build_max_heap_iterative(heap_inputs)"
   ]
  },
  {
   "cell_type": "markdown",
   "metadata": {},
   "source": [
    "The iterative version is approximately 10% faster than the recursive one  "
   ]
  },
  {
   "cell_type": "markdown",
   "metadata": {},
   "source": [
    "## Exercise 20\n",
    "\n",
    "CLRS 6.5-7\n",
    "\n",
    "* Show how to implement a FIFO queue with a priority queue.\n",
    "* Show how to implement a LIFO stack with a priority queue."
   ]
  },
  {
   "cell_type": "markdown",
   "metadata": {},
   "source": [
    "Using Python as executable pseudocode.\n",
    "\n",
    "Note: No explicit handling of overrun/underrun. We also assume that integers are arbitrary length, which in Python they can be, but in other languages would be finite and thus subject to overflow."
   ]
  },
  {
   "cell_type": "code",
   "execution_count": 30,
   "metadata": {},
   "outputs": [
    {
     "name": "stdout",
     "output_type": "stream",
     "text": [
      "tests passed\n"
     ]
    }
   ],
   "source": [
    "from queue import PriorityQueue\n",
    "\n",
    "class Stack():\n",
    "    def __init__(self, size):\n",
    "        self._queue = PriorityQueue(size) # minimum-priority-queue\n",
    "        self._priority = 0\n",
    "\n",
    "    def pop(self):\n",
    "        priority, val = self._queue.get()\n",
    "        return val\n",
    "\n",
    "    def push(self, val):\n",
    "        # ensure this value will be first returned (LIFO),\n",
    "        # by assigning priorities monotonically decreasing \n",
    "        self._priority -= 1\n",
    "        self._queue.put((self._priority, val))\n",
    "    \n",
    "\n",
    "def check_lifo(values):\n",
    "    s = Stack(len(values))\n",
    "    for val in values:\n",
    "        # check that push/pop gives same element back\n",
    "        s.push(val)\n",
    "        popped = s.pop()\n",
    "        assert popped == val\n",
    "        # put the element so can check results when filled\n",
    "        s.push(val)\n",
    "\n",
    "    out = [ s.pop() for _ in enumerate(values) ]\n",
    "\n",
    "    rev = list(reversed(out))\n",
    "    assert values == rev\n",
    "\n",
    "check_lifo([random.randint(-999, 999) for _ in range(5)])\n",
    "print('tests passed')"
   ]
  },
  {
   "cell_type": "code",
   "execution_count": 35,
   "metadata": {},
   "outputs": [
    {
     "name": "stdout",
     "output_type": "stream",
     "text": [
      "tests passed\n"
     ]
    }
   ],
   "source": [
    "class Queue():\n",
    "    def __init__(self, size):\n",
    "        self._queue = PriorityQueue(size) # minimum-priority-queue\n",
    "        self._priority = 0\n",
    "\n",
    "    def dequeue(self):\n",
    "        priority, val = self._queue.get()\n",
    "        return val\n",
    "        \n",
    "    def enqueue(self, val):\n",
    "        # ensure that the value will be retrieved last (FIFO)\n",
    "        # by assigning priorities monotonically increasing\n",
    "        self._priority += 1\n",
    "        self._queue.put((self._priority, val))\n",
    "\n",
    "def check_fifo(values):\n",
    "    # check that order is preserved, first in should be first out\n",
    "    q = Queue(len(values))\n",
    "    for val in values:\n",
    "        q.enqueue(val)\n",
    "\n",
    "    out = [ q.dequeue() for _ in enumerate(values) ]\n",
    "    assert out == values\n",
    "\n",
    "check_fifo([random.randint(-999, 999) for _ in range(5)])\n",
    "print('tests passed')"
   ]
  },
  {
   "cell_type": "markdown",
   "metadata": {},
   "source": [
    "If the underlying priority queue had been a max-priority-queue instead of min-priority-queue, then priority order would have to be inverted: LIFO would assign increasing priority values, and FIFO decreasing priority values."
   ]
  }
 ],
 "metadata": {
  "kernelspec": {
   "display_name": "Python 3",
   "language": "python",
   "name": "python3"
  },
  "language_info": {
   "codemirror_mode": {
    "name": "ipython",
    "version": 3
   },
   "file_extension": ".py",
   "mimetype": "text/x-python",
   "name": "python",
   "nbconvert_exporter": "python",
   "pygments_lexer": "ipython3",
   "version": "3.6.2"
  }
 },
 "nbformat": 4,
 "nbformat_minor": 2
}
