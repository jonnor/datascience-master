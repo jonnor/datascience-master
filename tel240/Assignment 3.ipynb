{
 "cells": [
  {
   "cell_type": "markdown",
   "metadata": {},
   "source": [
    "# Assignment 3 TEL240\n",
    "Jon Nordby\n",
    "\n",
    "## 1 Diferential equations\n",
    "\n",
    "### 1.1: Exercise 1\n",
    "\n",
    "Consider the system described by the following differential equation $ÿ+5 ẏ+6y = u$,\n",
    "being u(t) the system input and y(t) the system output. For an input of $u(t) = 2t$,\n",
    "the system output is given by $y(t) = y_n(t)+y_f(t)$, in which $y_n$ is the system natural\n",
    "response, and $y_f$ is the system forced response.\n",
    "\n",
    "#### (a)\n",
    "> For all initial conditions equal to zero, calculate $y_n$ and $y_f$\n",
    "\n",
    "$y(0)=0, \\dot{y}(0)=0, \\ddot{y}(0)=0$ means we can ignore the initial conditions when performing Laplace transform.\n",
    "\n",
    "$$\n",
    "\\ddot{y}+5\\dot{y}+6y = u\n",
    "Y(s) = U(s)\n",
    "s^2 + 5s + 6 = U(s)\n",
    "$$\n",
    "\n",
    "We get transfer function:\n",
    "\n",
    "$G(s) = \\frac{Y(s)}{U(s)} = \\frac{1}{s^2 + 5s + 6}$\n",
    "\n",
    "##### Natural response\n",
    "\n",
    "$y_n(t) = 0$ because input u(t)=0 (by definition of natural response) and initial values are 0.\n",
    "\n",
    "##### Forced response\n",
    "\n",
    "For $y_f(t)$ we have u(t)=2t, $U(s) = \\frac{2}{s^2}$\n",
    "\n",
    "$$ Y(s) = G(s)*U(s) = \\frac{1}{s^2 + 5s + 6} * \\frac{2}{s^2} =\n",
    " \\frac{2}{s^2(s^2 + 5s + 6)} = \\frac{2}{s^2(s+2)(s+3)} $$\n",
    "\n",
    "\n",
    "This system has 4 poles, two idential for the outer $s^2$ at locations $p_0=p_1=0$ with multiplicities $m_0=m_1=2$, and $p_2=-2, m_2=1$ and $p_3=-3,m_3=1$\n",
    "\n",
    "Can then use method of residues to perform the inverse Laplace transformation.\n",
    "\n",
    "For simple poles. $$\\lim_{s->p} (s-c) X(s) e^{st}$$\n",
    "\n",
    "Ex for $p_3=-3$: $$\\lim_{s->-1}\\frac{2}{s^2(s+3)}e^{st} = \\frac{2}{(-3)^2(-3+2)}e^{-3t} = -\\frac{2}{9}e^{-3t} $$\n",
    "\n",
    "Summing each of the residues to get\n",
    "\n",
    "$$y(t) = 2 [\\frac{t}{6} - \\frac{e^{-3t}}{9} + \\frac{e^{-2t}}{4} - \\frac{5}{36}]$$\n"
   ]
  },
  {
   "cell_type": "markdown",
   "metadata": {},
   "source": [
    "#### (b)\n",
    "For $\\dot{y}(0) = 1$ and $y(0) = 2$, calculate $y_n$ and $y_f$\n",
    "\n",
    "`TODO: do Laplace transform including initials`\n",
    "\n",
    "`TODO: do inverse Laplace transform`\n",
    "\n",
    "#### (c)\n",
    "For all initial conditions equal to zero, sketch the response y for a square wave\n",
    "input of amplitude 1 and period equal to 10 seconds (Fig. 1).\n",
    "\n",
    "$ẏ(0) = 5$ and $y(0) = 5$. is shown in orange\n",
    "\n",
    "![](ass3-ex1-sketch.jpg)\n"
   ]
  },
  {
   "cell_type": "markdown",
   "metadata": {},
   "source": [
    "#### (d)\n",
    "Create the system in MATLAB/Simulink. For item (c), print the block diagram, the input and the system output.\n",
    "\n",
    "We convert from transfer function to state-space representation. This allows to easily provide non-zero initial conditions."
   ]
  },
  {
   "cell_type": "code",
   "execution_count": 16,
   "metadata": {},
   "outputs": [
    {
     "name": "stdout",
     "output_type": "stream",
     "text": [
      "[[-5. -6.]\n",
      " [ 1.  0.]]\n",
      "\n",
      "[[1.]\n",
      " [0.]]\n",
      "\n",
      "[[0. 1.]]\n",
      "\n",
      "[[0.]]\n"
     ]
    }
   ],
   "source": [
    "from scipy import signal\n",
    "\n",
    "num, den = [1], [1, 5, 6]\n",
    "a, b, c, d = signal.tf2ss(num, den)\n",
    "print(a, b, c, d, sep='\\n\\n')"
   ]
  },
  {
   "cell_type": "markdown",
   "metadata": {},
   "source": [
    "![](ass3-ex1-diagram-statespace.png)\n",
    "\n",
    "![](ass3-ex1-statespace-values.png)\n",
    "\n",
    "With initial conditions = 0\n",
    "\n",
    "![](ass3-ex1-squarewave-initial0.png)\n",
    "\n",
    "With $ẏ(0) = 5$ and $y(0) = 5$\n",
    "\n",
    "![](ass3-ex1-squarewave-initial5-5.png)\n",
    "    "
   ]
  },
  {
   "cell_type": "markdown",
   "metadata": {},
   "source": [
    "#### (e)\n",
    "> Explain the differences between the two responses\n",
    "\n",
    "When initial values are zero the response starts close. The first transition into the periodic response is gradual.\n",
    "\n",
    "When initial values are 5 we start far away from the typical response, and is abruptly forced towards it. The next cycles are unaffected, the forced response has taken over from the natural response."
   ]
  },
  {
   "cell_type": "markdown",
   "metadata": {},
   "source": [
    "## 2 Ziegler-Nichols' method\n",
    "\n",
    "### 2.1: Exercise 2\n",
    "\n",
    "Consider the system described by the following differential equation: $ÿ + 4 ẏ + 8y − 3 = u$,\n",
    "being $u(t)$ the system input, $y(t)$ the system output,\n",
    "and $−3$ a constant disturbance from outside the system.\n",
    "Given that, answer the following questions:\n",
    "\n",
    "#### (a)\n",
    "> What is the system order?\n",
    "\n",
    "This is a second order system, since $\\ddot{y}$ is the highest term that appears\n",
    "\n",
    "> Is it possible to get oscillations in this system? Of what type (damped, constant amplitude, unstable)?\n",
    "\n",
    "If the system is underdampened one can get oscillation in form of exponentially-dampened sinewaves.\n",
    "\n",
    "#### (b)\n",
    "> Can this system with a PID-controller be tuned by using the Ziegler-Nichols method?\n",
    "\n",
    "We cannot use Zieger-Nichols for closed-loop, as it requires being able to have constant-amplitude oscillations when driven with a.\n",
    "In a real-life system there might be enough time-delay that .\n",
    "\n",
    "We might be able to use Ziegler-Nichols for open-loop system, which assumes a first-order time-delayed system.\n",
    "A *overdampened* second-order has similar dynamics.\n",
    "\n",
    "\n",
    "#### (c)\n",
    "Draw the system in Simulink.\n",
    "\n",
    "![System diagram with controller](ass3-ex2-diagram.png)\n",
    "\n",
    "Considering $y(0) = 0$ and $\\dot{y}(0) = 0$ as initial conditions and a P-controller with gain $K_p = 5$.\n",
    "Print the output $y(t)$ of the system for a unit step as a reference input $y_d$ after 10s\n",
    "\n",
    "![System diagram with controller](ass3-ex2-plot.png)\n",
    "\n",
    "\n",
    "#### (d)\n",
    "> Explain why the system response plotted in item (c) has two different patterns,\n",
    "> one before 10s and another one after 10s.\n",
    "\n",
    "* The initial conditions are are all 0 and the setpoint is 0, so before t=10 the output is 0.\n",
    "* After t=10 the setpoint is 1, and the system is stimulated by the P controller. Because the low K_p the stable level reached is far from 1.0.\n",
    "\n",
    "#### (e)\n",
    "About items (c) and (d), find the stationary value for the first response (from $y_d = 0$) from the system equations.\n",
    "\n",
    "$$ G(s) = \\frac{Y(s)}{U(s)} = \\frac{1}{s^2+4s+8} $$ has stationary $g=1/8$\n",
    "\n",
    "For a P-regulator the stationary value approaches the setpoint `r` with"
   ]
  },
  {
   "cell_type": "code",
   "execution_count": 3,
   "metadata": {},
   "outputs": [
    {
     "data": {
      "text/plain": [
       "0.38461538461538464"
      ]
     },
     "execution_count": 3,
     "metadata": {},
     "output_type": "execute_result"
    }
   ],
   "source": [
    "def p_stationary(g, kp, r=1.0):\n",
    "    k=1/g\n",
    "    return (kp*r)/(kp+k)\n",
    "p_stationary(g=1/8, kp=5)"
   ]
  },
  {
   "cell_type": "markdown",
   "metadata": {},
   "source": [
    "Which is close to the 0.379 measured over. Probably our measurement was too close to the transient."
   ]
  },
  {
   "cell_type": "markdown",
   "metadata": {},
   "source": [
    "\n",
    "\n",
    "#### (f)\n",
    "Assume now that there is a time-delay between our controller and the system.\n",
    "This may be the case if our controller is very slow to compute the control\n",
    "signal or if the actuators are slow to respond. Assume that the time-delay is of 1s.\n",
    "\n",
    "> How does the response of the system change?\n",
    "\n",
    "The original response will be shifted to the right. If used in closed loop, such a system might oscillate with just a P-controller - must use PI or PID to create a stable system. Ziegler-Nichols for closed loop can be used to find the appropriate parameters.\n",
    "\n",
    "\n",
    "#### (g)\n",
    "Use Ziegler-Nichols' method in closed loop to find the optimal PID gains for the controller.\n",
    "\n",
    "**1:** Setting a step from 0->1 (at t=1) as the reference.\n",
    "\n",
    "**2:** Setting kI=0,kD=0 and trying increasing kP until system oscillates with constant amplitude. Occurs for $kP_c=9$\n",
    "\n",
    "![System response in stationary oscillation](ass3-ex2-zn-oscill-p9.png)\n",
    "\n",
    "**3:** Determining period of oscillation from graph to $T_c=3$ seconds.\n",
    "\n",
    "**4:** Using Ziegler-Nicols heuristics for PID\n",
    "\n",
    "$K_c=0.6*Kp_c = 0.6*9 = 5.4$,\n",
    "\n",
    "$T_i=0.5*T_c = 0.5*3 = 1.5$,\n",
    "\n",
    "$T_d=0.125*T_c = 0.123*3 = 0.375$ \n",
    "\n",
    "**5:** Converting to gains for PID regulator on parallel form.\n",
    "\n",
    "$Kp=Kc = 5.4$,\n",
    "\n",
    "$K_i = K_p/T_i = 5.4/1.5 = 3.6$,\n",
    "\n",
    "$K_d = K_p*T_d = 5.4*0.374 = 2.0$\n",
    "\n",
    "> Describe the system response.\n",
    "\n",
    "The system response is now stable with little overshoot.\n",
    "\n",
    "![System response after tuning](ass3-ex2-zn-tuned.png)\n"
   ]
  },
  {
   "cell_type": "code",
   "execution_count": null,
   "metadata": {},
   "outputs": [],
   "source": []
  }
 ],
 "metadata": {
  "kernelspec": {
   "display_name": "Python 3",
   "language": "python",
   "name": "python3"
  },
  "language_info": {
   "codemirror_mode": {
    "name": "ipython",
    "version": 3
   },
   "file_extension": ".py",
   "mimetype": "text/x-python",
   "name": "python",
   "nbconvert_exporter": "python",
   "pygments_lexer": "ipython3",
   "version": "3.6.4"
  }
 },
 "nbformat": 4,
 "nbformat_minor": 2
}
