{
 "cells": [
  {
   "cell_type": "markdown",
   "metadata": {},
   "source": [
    "# INF221 Assignment 2"
   ]
  },
  {
   "cell_type": "markdown",
   "metadata": {},
   "source": [
    "## Exercise 5\n",
    "Express the function $\\frac{n^3}{1000}-100n^2-100n+3$ in terms of $\\Theta$-notation. Find suitable constants $c_1,\\:c_2,\\:n_0$."
   ]
  },
  {
   "cell_type": "markdown",
   "metadata": {},
   "source": [
    "## Exercise 6\n",
    "Re-write merge sort (in Python) so that it does not use sentinels, but instead stops once either L or R has had all its elements copied back to A, and then copies the remainder of the other array back to A."
   ]
  },
  {
   "cell_type": "code",
   "execution_count": 4,
   "metadata": {
    "collapsed": true
   },
   "outputs": [],
   "source": [
    "# TODO: find the (pseudo)code which does use sentinels"
   ]
  },
  {
   "cell_type": "markdown",
   "metadata": {},
   "source": [
    "## Excercise 7\n",
    "Use mathematical induction to show that when $n$ is an exact power of 2, the solution of the recurrence\n",
    "\n",
    "$$T(n)=\\begin{cases} 2 & \\text{if}\\; n = 2 \\\\ 2T(n/2)+n &\\text{if}\\; n = 2^k, \\text{for}\\; k>1\\end{cases}$$\n",
    "\n",
    "is $T(n)=n\\lg n$"
   ]
  },
  {
   "cell_type": "markdown",
   "metadata": {},
   "source": [
    "## Exercise 8\n",
    "Show that for any real constants a and b, where $b > 0$, the following holds: $(n+a)^b = \\Theta(n^b)$"
   ]
  },
  {
   "cell_type": "markdown",
   "metadata": {},
   "source": [
    "## Exercise 9\n",
    "\n",
    "Explain why the statement, \"The running time of algorithm A is at least $O(n^2)$\" is meaningless."
   ]
  },
  {
   "cell_type": "markdown",
   "metadata": {},
   "source": [
    "? O-notation specifies asymptotic growth bounds"
   ]
  },
  {
   "cell_type": "markdown",
   "metadata": {},
   "source": [
    "## Challenge 1\n",
    "Cormen et al, Problem 3-2. Fill in the table, provide arguments for your answers."
   ]
  },
  {
   "cell_type": "code",
   "execution_count": null,
   "metadata": {
    "collapsed": true
   },
   "outputs": [],
   "source": [
    "# TODO: find the table in the book"
   ]
  }
 ],
 "metadata": {
  "kernelspec": {
   "display_name": "Python 3",
   "language": "python",
   "name": "python3"
  },
  "language_info": {
   "codemirror_mode": {
    "name": "ipython",
    "version": 3
   },
   "file_extension": ".py",
   "mimetype": "text/x-python",
   "name": "python",
   "nbconvert_exporter": "python",
   "pygments_lexer": "ipython3",
   "version": "3.6.2"
  }
 },
 "nbformat": 4,
 "nbformat_minor": 2
}
