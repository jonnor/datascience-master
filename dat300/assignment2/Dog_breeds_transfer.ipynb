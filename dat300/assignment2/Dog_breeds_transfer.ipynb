{
  "nbformat": 4,
  "nbformat_minor": 0,
  "metadata": {
    "colab": {
      "name": "Dog breeds transfer.ipynb",
      "version": "0.3.2",
      "provenance": [],
      "collapsed_sections": [],
      "toc_visible": true
    },
    "kernelspec": {
      "name": "python3",
      "display_name": "Python 3"
    },
    "accelerator": "GPU"
  },
  "cells": [
    {
      "metadata": {
        "id": "1zYpvPzwz3m_",
        "colab_type": "text"
      },
      "cell_type": "markdown",
      "source": [
        "# Classifying dog species with Convolutional Neural Networks\n",
        "DAT300, group CA2-10. Jon Nordby and Espen Sønneland.\n",
        "\n",
        "\n",
        "## Kaggle setup\n",
        "Downloads data from https://www.kaggle.com/c/dat300-2018-dogs"
      ]
    },
    {
      "metadata": {
        "id": "paWTz67gLwxY",
        "colab_type": "code",
        "outputId": "355a996c-6fb5-4fff-9e00-0784fec601fa",
        "colab": {
          "base_uri": "https://localhost:8080/",
          "height": 34
        }
      },
      "cell_type": "code",
      "source": [
        "!pip install -q kaggle && echo Kaggle installed"
      ],
      "execution_count": 0,
      "outputs": [
        {
          "output_type": "stream",
          "text": [
            "Kaggle installed\n"
          ],
          "name": "stdout"
        }
      ]
    },
    {
      "metadata": {
        "id": "x240wcGZL1OH",
        "colab_type": "code",
        "outputId": "21f6d417-f78f-4f4b-9c0d-4c7c6eb9b8f0",
        "colab": {
          "base_uri": "https://localhost:8080/",
          "height": 52
        }
      },
      "cell_type": "code",
      "source": [
        "from google.colab import drive\n",
        "import shutil, os, os.path\n",
        "drive.mount('/content/drive')\n",
        "if not os.path.exists('/root/.kaggle'):\n",
        "  os.makedirs('/root/.kaggle/')\n",
        "shutil.copyfile('/content/drive/My Drive/kaggle.json', '/root/.kaggle/kaggle.json')\n",
        "'Kaggle API key installed'"
      ],
      "execution_count": 0,
      "outputs": [
        {
          "output_type": "stream",
          "text": [
            "Drive already mounted at /content/drive; to attempt to forcibly remount, call drive.mount(\"/content/drive\", force_remount=True).\n"
          ],
          "name": "stdout"
        },
        {
          "output_type": "execute_result",
          "data": {
            "text/plain": [
              "'Kaggle API key installed'"
            ]
          },
          "metadata": {
            "tags": []
          },
          "execution_count": 6
        }
      ]
    },
    {
      "metadata": {
        "id": "xxZKXQt8g60X",
        "colab_type": "code",
        "outputId": "20cd3d35-882e-48e8-8ed8-d8d6c8963867",
        "colab": {
          "base_uri": "https://localhost:8080/",
          "height": 173
        }
      },
      "cell_type": "code",
      "source": [
        "!kaggle competitions download -c dat300-2018-dogs -p data/\n",
        "!unzip -n -q 'data/*.zip' -d data/\n",
        "!ls data/train/*.jpg | wc -l\n",
        "!ls data/test/*.jpg | wc -l"
      ],
      "execution_count": 0,
      "outputs": [
        {
          "output_type": "stream",
          "text": [
            "Warning: Your Kaggle API key is readable by otherusers on this system! To fix this, you can run'chmod 600 /root/.kaggle/kaggle.json'\n",
            "sampleSubmission.csv.zip: Skipping, found more recently modified local copy (use --force to force download)\n",
            "labels.csv: Skipping, found more recently modified local copy (use --force to force download)\n",
            "test.zip: Skipping, found more recently modified local copy (use --force to force download)\n",
            "train.zip: Skipping, found more recently modified local copy (use --force to force download)\n",
            "\n",
            "3 archives were successfully processed.\n",
            "10290\n",
            "10290\n"
          ],
          "name": "stdout"
        }
      ]
    },
    {
      "metadata": {
        "id": "yjXtVMqphifK",
        "colab_type": "code",
        "colab": {}
      },
      "cell_type": "code",
      "source": [
        "import time\n",
        "import os\n",
        "import re\n",
        "\n",
        "import pandas\n",
        "import numpy\n",
        "import matplotlib.pyplot as plt\n",
        "\n",
        "import sklearn\n",
        "\n",
        "import sklearn.preprocessing\n",
        "import sklearn.model_selection\n",
        "import sklearn.pipeline\n",
        "\n",
        "import sklearn.linear_model\n",
        "import sklearn.ensemble\n",
        "import sklearn.svm\n",
        "\n",
        "import keras\n",
        "import keras.wrappers.scikit_learn"
      ],
      "execution_count": 0,
      "outputs": []
    },
    {
      "metadata": {
        "id": "rnDG8pJghzpY",
        "colab_type": "code",
        "outputId": "9b924967-09c8-4e8a-a39d-02428c980374",
        "colab": {
          "base_uri": "https://localhost:8080/",
          "height": 192
        }
      },
      "cell_type": "code",
      "source": [
        "labels = pandas.read_csv('data/labels.csv', index_col='id')\n",
        "\n",
        "print(labels.shape)\n",
        "labels.head(3)"
      ],
      "execution_count": 0,
      "outputs": [
        {
          "output_type": "stream",
          "text": [
            "(10290, 1)\n"
          ],
          "name": "stdout"
        },
        {
          "output_type": "execute_result",
          "data": {
            "text/html": [
              "<div>\n",
              "<style scoped>\n",
              "    .dataframe tbody tr th:only-of-type {\n",
              "        vertical-align: middle;\n",
              "    }\n",
              "\n",
              "    .dataframe tbody tr th {\n",
              "        vertical-align: top;\n",
              "    }\n",
              "\n",
              "    .dataframe thead th {\n",
              "        text-align: right;\n",
              "    }\n",
              "</style>\n",
              "<table border=\"1\" class=\"dataframe\">\n",
              "  <thead>\n",
              "    <tr style=\"text-align: right;\">\n",
              "      <th></th>\n",
              "      <th>breed</th>\n",
              "    </tr>\n",
              "    <tr>\n",
              "      <th>id</th>\n",
              "      <th></th>\n",
              "    </tr>\n",
              "  </thead>\n",
              "  <tbody>\n",
              "    <tr>\n",
              "      <th>0</th>\n",
              "      <td>soft-coated_wheaten_terrier</td>\n",
              "    </tr>\n",
              "    <tr>\n",
              "      <th>1</th>\n",
              "      <td>Tibetan_terrier</td>\n",
              "    </tr>\n",
              "    <tr>\n",
              "      <th>2</th>\n",
              "      <td>Lhasa</td>\n",
              "    </tr>\n",
              "  </tbody>\n",
              "</table>\n",
              "</div>"
            ],
            "text/plain": [
              "                          breed\n",
              "id                             \n",
              "0   soft-coated_wheaten_terrier\n",
              "1               Tibetan_terrier\n",
              "2                         Lhasa"
            ]
          },
          "metadata": {
            "tags": []
          },
          "execution_count": 11
        }
      ]
    },
    {
      "metadata": {
        "id": "QCtj7AMgkZ_Z",
        "colab_type": "code",
        "outputId": "7388fffa-c560-466e-8a50-dba67d1c3dc5",
        "colab": {
          "base_uri": "https://localhost:8080/",
          "height": 52
        }
      },
      "cell_type": "code",
      "source": [
        "print('number of breeds', len(labels.breed.unique()))\n",
        "print('images per breed (average)', len(labels)/len(labels.breed.unique()))\n",
        " "
      ],
      "execution_count": 0,
      "outputs": [
        {
          "output_type": "stream",
          "text": [
            "number of breeds 120\n",
            "images per breed (average) 85.75\n"
          ],
          "name": "stdout"
        }
      ]
    },
    {
      "metadata": {
        "id": "zv0La7rOItbT",
        "colab_type": "text"
      },
      "cell_type": "markdown",
      "source": [
        "Under 100 images per class is considered **very few** for training deep learning models."
      ]
    },
    {
      "metadata": {
        "id": "EWxuw4-EXJXS",
        "colab_type": "code",
        "outputId": "11d3c99a-d0c7-4bae-c020-453daaf26a0d",
        "colab": {
          "base_uri": "https://localhost:8080/",
          "height": 143
        }
      },
      "cell_type": "code",
      "source": [
        "# Create a pandas.DataFrame with the samples (id, filename)\n",
        "def files_dataframe(directory):\n",
        "  import glob\n",
        "  import re\n",
        "  files = {}\n",
        "  for filename in glob.iglob(directory+'/*.jpg'):\n",
        "    m = re.findall('dog(\\d+).jpg', filename)\n",
        "    file_id = int(m[0])\n",
        "    files[file_id] = os.path.basename(filename)\n",
        "  filenames = list(files.values())\n",
        "\n",
        "  ids = list(files.keys())\n",
        "  df = pandas.DataFrame({\n",
        "      'filename': filenames,\n",
        "      'filepath': [ os.path.join(directory, f) for f in filenames ],\n",
        "  }, index=ids)\n",
        "  df.sort_index(inplace=True) # make sure ordered by id\n",
        "  assert df.filename.values[0] == 'dog0.jpg'\n",
        "  return df\n",
        "\n",
        "train_files = files_dataframe('data/train')\n",
        "_ = files_dataframe('data/test') # just ensure it runs without error\n",
        "train_data = train_files.join(labels)\n",
        "train_data.head(3)"
      ],
      "execution_count": 0,
      "outputs": [
        {
          "output_type": "execute_result",
          "data": {
            "text/html": [
              "<div>\n",
              "<style scoped>\n",
              "    .dataframe tbody tr th:only-of-type {\n",
              "        vertical-align: middle;\n",
              "    }\n",
              "\n",
              "    .dataframe tbody tr th {\n",
              "        vertical-align: top;\n",
              "    }\n",
              "\n",
              "    .dataframe thead th {\n",
              "        text-align: right;\n",
              "    }\n",
              "</style>\n",
              "<table border=\"1\" class=\"dataframe\">\n",
              "  <thead>\n",
              "    <tr style=\"text-align: right;\">\n",
              "      <th></th>\n",
              "      <th>filename</th>\n",
              "      <th>filepath</th>\n",
              "      <th>breed</th>\n",
              "    </tr>\n",
              "  </thead>\n",
              "  <tbody>\n",
              "    <tr>\n",
              "      <th>0</th>\n",
              "      <td>dog0.jpg</td>\n",
              "      <td>data/train/dog0.jpg</td>\n",
              "      <td>soft-coated_wheaten_terrier</td>\n",
              "    </tr>\n",
              "    <tr>\n",
              "      <th>1</th>\n",
              "      <td>dog1.jpg</td>\n",
              "      <td>data/train/dog1.jpg</td>\n",
              "      <td>Tibetan_terrier</td>\n",
              "    </tr>\n",
              "    <tr>\n",
              "      <th>2</th>\n",
              "      <td>dog2.jpg</td>\n",
              "      <td>data/train/dog2.jpg</td>\n",
              "      <td>Lhasa</td>\n",
              "    </tr>\n",
              "  </tbody>\n",
              "</table>\n",
              "</div>"
            ],
            "text/plain": [
              "   filename             filepath                        breed\n",
              "0  dog0.jpg  data/train/dog0.jpg  soft-coated_wheaten_terrier\n",
              "1  dog1.jpg  data/train/dog1.jpg              Tibetan_terrier\n",
              "2  dog2.jpg  data/train/dog2.jpg                        Lhasa"
            ]
          },
          "metadata": {
            "tags": []
          },
          "execution_count": 101
        }
      ]
    },
    {
      "metadata": {
        "id": "_x8rcdyI00ej",
        "colab_type": "text"
      },
      "cell_type": "markdown",
      "source": [
        "## Transfer learning from pre-trained model\n",
        "\n",
        "MobileNet is a strong but small Convolutional Neural Network that has been trained on the general ImageNet classification task. The task contains classes 'cat' and 'dog', so hopefully it has learned feature representations that can be used also to distinguish between dog breeds.\n",
        "\n",
        "We compute the its activation maps, and use them as features for training a very simple classifier."
      ]
    },
    {
      "metadata": {
        "id": "95TZAqyApRA7",
        "colab_type": "code",
        "colab": {}
      },
      "cell_type": "code",
      "source": [
        "\n",
        "def build_model():\n",
        "    from keras.applications import mobilenet_v2\n",
        "       \n",
        "    image_w, image_lh = (224, 224)\n",
        "    model = mobilenet_v2.MobileNetV2(weights='imagenet',\n",
        "                           input_shape=(image_w, image_h, 3),\n",
        "                           include_top=False, pooling='avg')\n",
        "    preprocess_input = mobilenet_v2.preprocess_input\n",
        "    return model, preprocess_input\n",
        "  \n",
        "MobileNet = build_model()"
      ],
      "execution_count": 0,
      "outputs": []
    },
    {
      "metadata": {
        "id": "vaWS4-Fak5dl",
        "colab_type": "code",
        "outputId": "9b30cab9-2d1a-4f67-b79b-0b4b23020cf0",
        "colab": {
          "base_uri": "https://localhost:8080/",
          "height": 69
        }
      },
      "cell_type": "code",
      "source": [
        "def calculate_features(model, img_path, img_shape=(224, 224)):\n",
        "    model, preprocess_input = model\n",
        "    \n",
        "    img = keras.preprocessing.image.load_img(img_path, target_size=img_shape)\n",
        "    x = keras.preprocessing.image.img_to_array(img)\n",
        "    x = numpy.expand_dims(x, axis=0)\n",
        "    x = preprocess_input(x)\n",
        "    f = model.predict(x)\n",
        "    return f.reshape(-1)\n",
        "\n",
        "# Return existing features if found, else compute them and then return\n",
        "def get_features(model, files, name,\n",
        "                 outdir='/content/drive/My Drive/dat300-dogs',\n",
        "                 version=3,\n",
        "                 force_recompute=False):\n",
        "  def filepath(name):\n",
        "    return os.path.join(outdir, \"features_{}_{}.npy\".format(name, version))\n",
        "\n",
        "  def load_or_compute(inputfiles, outpath):\n",
        "    dirpath = os.path.dirname(outpath)\n",
        "    if not os.path.exists(dirpath):\n",
        "      os.makedirs(dirpath)\n",
        "    \n",
        "    features = None\n",
        "    if os.path.exists(outpath):\n",
        "      features = numpy.load(open(outpath, 'rb'))\n",
        "    else:\n",
        "      print('could not find {}: computing'.format(outpath))\n",
        "      ff = [calculate_features(model, f) for f in inputfiles]\n",
        "      features = numpy.array(ff)\n",
        "      numpy.save(open(outpath, 'wb'), features)\n",
        "    return features\n",
        "  \n",
        "  def delete_if_exists(path):\n",
        "      if os.path.exists(path):\n",
        "        os.unlink(path)\n",
        "  \n",
        "  featuresfile = filepath(name)\n",
        "  \n",
        "  if force_recompute:\n",
        "    print('forcing recompute of', featuresfile)\n",
        "    delete_if_exists(featuresfile)\n",
        "    \n",
        "  features = load_or_compute(files, featuresfile)\n",
        "  return features\n",
        "\n",
        "# test on a small (fast) subset of data\n",
        "_features = get_features(MobileNet, train_data.filepath[0:10], 'mobilenet_train', version=0, force_recompute=True)\n",
        "assert _features.shape[0] == 10, _features.shape\n",
        "assert _features.shape[1] == 1280, _features.shape\n",
        "'ok'\n",
        "  "
      ],
      "execution_count": 0,
      "outputs": [
        {
          "output_type": "stream",
          "text": [
            "forcing recompute of /content/drive/My Drive/dat300-dogs/features_mobilenet_train_0.npy\n",
            "could not find /content/drive/My Drive/dat300-dogs/features_mobilenet_train_0.npy: computing\n"
          ],
          "name": "stdout"
        },
        {
          "output_type": "execute_result",
          "data": {
            "text/plain": [
              "'ok'"
            ]
          },
          "metadata": {
            "tags": []
          },
          "execution_count": 104
        }
      ]
    },
    {
      "metadata": {
        "id": "13djlwW5Xg2k",
        "colab_type": "code",
        "colab": {}
      },
      "cell_type": "code",
      "source": [
        "test_data = files_dataframe('data/test')\n",
        "mobilenet_features_test = get_features(MobileNet, test_data.filepath, 'mobilenet_test')\n",
        "mobilenet_features_train = get_features(MobileNet, train_data.filepath, 'mobilenet_train')"
      ],
      "execution_count": 0,
      "outputs": []
    },
    {
      "metadata": {
        "id": "tHpZfh1AVyzX",
        "colab_type": "code",
        "colab": {}
      },
      "cell_type": "code",
      "source": [
        ""
      ],
      "execution_count": 0,
      "outputs": []
    },
    {
      "metadata": {
        "id": "UGQ9q4pSOiwn",
        "colab_type": "code",
        "outputId": "5654f657-328a-44d3-b3bc-4656c4c6a296",
        "colab": {
          "base_uri": "https://localhost:8080/",
          "height": 52
        }
      },
      "cell_type": "code",
      "source": [
        "def train_logreg(X, y):\n",
        "  from sklearn.model_selection import train_test_split\n",
        "  from sklearn.linear_model import LogisticRegression\n",
        " \n",
        "  y = pandas.get_dummies(y)\n",
        "  n_classes = y.shape[1]\n",
        "\n",
        "  def multienc(y):\n",
        "    #print('y', y.shape)\n",
        "    return (y * range(n_classes)).sum(axis=1)\n",
        "  \n",
        "  X_train, X_val, y_train, y_val = train_test_split(X, y,\n",
        "                                                    test_size=0.33, random_state=42)\n",
        "  estimator = LogisticRegression(multi_class='multinomial', solver='lbfgs', random_state=1)\n",
        "  estimator.fit(X_train, multienc(y_train))\n",
        "  \n",
        "  train_loss = sklearn.metrics.log_loss(y_train, estimator.predict_proba(X_train))\n",
        "  train_acc = sklearn.metrics.accuracy_score(multienc(y_train), estimator.predict(X_train))\n",
        "  print('train loss={:.2f} accuracy={:.1f}%'.format(train_loss, train_acc*100))\n",
        "  \n",
        "  val_loss = sklearn.metrics.log_loss(y_val, estimator.predict_proba(X_val))\n",
        "  val_acc = sklearn.metrics.accuracy_score(multienc(y_val), estimator.predict(X_val))\n",
        "  print('val   loss={:.2f} accuracy={:.1f}%'.format(val_loss, val_acc*100))\n",
        "  \n",
        "  return estimator\n",
        "\n",
        "labelencoder = sklearn.preprocessing.LabelEncoder()\n",
        "#onehotencoder = sklearn.preprocessing.OneHotEncoder()\n",
        "y_ = labelencoder.fit_transform(train_data.breed)\n",
        "#y_ = onehotencoder.fit_transform(y_.reshape(-1, 1)).todense()\n",
        "mobilenet_logreg = train_logreg(mobilenet_features_train, y_)\n"
      ],
      "execution_count": 0,
      "outputs": [
        {
          "output_type": "stream",
          "text": [
            "train loss=0.01 accuracy=99.9%\n",
            "val   loss=0.64 accuracy=80.9%\n"
          ],
          "name": "stdout"
        }
      ]
    },
    {
      "metadata": {
        "id": "oWXG8EDA487Z",
        "colab_type": "text"
      },
      "cell_type": "markdown",
      "source": [
        "\n"
      ]
    },
    {
      "metadata": {
        "id": "IadEk4GYzpUC",
        "colab_type": "text"
      },
      "cell_type": "markdown",
      "source": [
        "# Kaggle submission"
      ]
    },
    {
      "metadata": {
        "id": "BWkwXK_bhki1",
        "colab_type": "code",
        "outputId": "78a852b6-99e6-446a-9545-994881754706",
        "colab": {
          "base_uri": "https://localhost:8080/",
          "height": 72
        }
      },
      "cell_type": "code",
      "source": [
        "import subprocess\n",
        "\n",
        "\n",
        "def make_submission(competition, submit=True):\n",
        "  # TODO: allow to pass in model,data\n",
        "  name = 'MobileNetsV2 LogisticRegresion'\n",
        "  model = mobilenet_logreg\n",
        "  X = mobilenet_features_test\n",
        "  \n",
        "  y = model.predict_proba(X)\n",
        "  columns = { c: y[:, i] for i,c in enumerate(labelencoder.classes_) }\n",
        "  columns['id'] = range(0, len(X))\n",
        "  predictions = pandas.DataFrame(columns)\n",
        "\n",
        "  # make sure id goes first\n",
        "  column_order = list(set(predictions.columns) - set(['id']))\n",
        "  column_order.insert(0, 'id')\n",
        "  \n",
        "  filename = 'pred_{}.csv'.format(name.replace(' ', '_'))\n",
        "  predictions.to_csv(filename, index=False, columns=column_order)\n",
        "  \n",
        "  if submit:\n",
        "    args = [\n",
        "        'kaggle', 'competitions', 'submit',\n",
        "        '-c', competition,\n",
        "        '-f', filename,\n",
        "        '-m', name,\n",
        "    ]\n",
        "    try:\n",
        "      out = subprocess.check_output(args)\n",
        "    except subprocess.CalledProcessError as e:\n",
        "        print('error', e)\n",
        "    print(out)\n",
        "  \n",
        "  return filename\n",
        "  \n",
        "make_submission('dat300-2018-dogs', submit=True)"
      ],
      "execution_count": 0,
      "outputs": [
        {
          "output_type": "stream",
          "text": [
            "b\"Warning: Your Kaggle API key is readable by otherusers on this system! To fix this, you can run'chmod 600 /root/.kaggle/kaggle.json'\\nSuccessfully submitted to Dog breeds\"\n"
          ],
          "name": "stdout"
        },
        {
          "output_type": "execute_result",
          "data": {
            "text/plain": [
              "'pred_MobileNetsV2_LogisticRegresion.csv'"
            ]
          },
          "metadata": {
            "tags": []
          },
          "execution_count": 154
        }
      ]
    },
    {
      "metadata": {
        "id": "efx165CrQ4tW",
        "colab_type": "text"
      },
      "cell_type": "markdown",
      "source": [
        ""
      ]
    }
  ]
}