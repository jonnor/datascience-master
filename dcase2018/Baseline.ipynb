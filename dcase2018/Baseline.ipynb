{
 "cells": [
  {
   "cell_type": "code",
   "execution_count": 59,
   "metadata": {},
   "outputs": [],
   "source": [
    "%matplotlib inline\n",
    "\n",
    "import time\n",
    "import tarfile\n",
    "import re\n",
    "import io\n",
    "\n",
    "import numpy\n",
    "import pandas\n",
    "import matplotlib.pyplot as plt\n",
    "\n",
    "import sklearn\n",
    "from sklearn.pipeline import Pipeline, make_pipeline\n",
    "from sklearn.preprocessing import StandardScaler\n",
    "from sklearn.mixture import GaussianMixture\n",
    "from sklearn.ensemble import RandomForestClassifier, GradientBoostingClassifier\n",
    "from sklearn.naive_bayes import GaussianNB\n",
    "from sklearn import model_selection\n",
    "from sklearn import metrics\n",
    "\n",
    "import librosa\n",
    "import librosa.display"
   ]
  },
  {
   "cell_type": "code",
   "execution_count": 2,
   "metadata": {},
   "outputs": [],
   "source": [
    "\n",
    "def load_dataset(featurespath, labelpath=None, datadir='data/'):    \n",
    "    features = pandas.read_csv(datadir+featurespath)\n",
    "    #regex = re.compile(r'wav\\/(.*).wav')\n",
    "    #itemid = features.filename.astype('str').str.replace(pat=regex, repl=lambda m: m.group(1), regex=True)\n",
    "    itemid = features.filename.str.replace('.wav', '', regex=False).str.replace('wav/', '')\n",
    "    itemid = itemid.str.replace('PolandNFC_test_', '')\n",
    "    itemid = itemid.str.replace('wabrlrb10k_test_', '')\n",
    "    itemid = itemid.str.replace('chern_', '')\n",
    "    features.index = itemid\n",
    "\n",
    "    data = features.copy()\n",
    "    \n",
    "    if labelpath:\n",
    "        labels = pandas.read_csv(datadir+labelpath, index_col='itemid')\n",
    "        labels.index = labels.index.astype('str')\n",
    "        data['hasbird'] = labels.hasbird.astype('bool')\n",
    "\n",
    "    return data\n"
   ]
  },
  {
   "cell_type": "code",
   "execution_count": 3,
   "metadata": {},
   "outputs": [
    {
     "name": "stdout",
     "output_type": "stream",
     "text": [
      "training (15690, 66)\n",
      "competition (12620, 65)\n"
     ]
    }
   ],
   "source": [
    "train_ff1010 = load_dataset('ff1010bird_wav.melmax.csv', 'ff1010bird.labels.csv')\n",
    "train_warblr = load_dataset('warblrb10k_public_wav.melmax.csv', 'warblrb10k.labels.csv')\n",
    "predict_poland = load_dataset('PolandNFC_test_wav.melmax.csv')\n",
    "predict_warblr = load_dataset('wabrlrb10k_test_wav.melmax.csv')\n",
    "predict_chern = load_dataset('chern_wav.melmax.csv')\n",
    "\n",
    "compete = pandas.concat([predict_warblr, predict_chern, predict_poland])\n",
    "\n",
    "dataset = pandas.concat([train_ff1010, train_warblr])\n",
    "print('training', dataset.shape)\n",
    "print('competition', compete.shape)"
   ]
  },
  {
   "cell_type": "code",
   "execution_count": 4,
   "metadata": {},
   "outputs": [],
   "source": [
    "def plot_precision_recall(Y_test, Y_score):\n",
    "    average_precision = metrics.average_precision_score(Y_test, Y_score)\n",
    "    precision, recall, _ = metrics.precision_recall_curve(Y_test, Y_score)\n",
    "\n",
    "    plt.step(recall, precision, color='b', alpha=0.2, where='post')\n",
    "    plt.fill_between(recall, precision, step='post', alpha=0.2, color='b')\n",
    "\n",
    "    plt.xlabel('Recall')\n",
    "    plt.ylabel('Precision')\n",
    "    plt.ylim([0.0, 1.05])\n",
    "    plt.xlim([0.0, 1.0])\n",
    "    plt.title('2-class Precision-Recall curve: AP={0:0.2f}'.format(average_precision))"
   ]
  },
  {
   "cell_type": "code",
   "execution_count": 89,
   "metadata": {},
   "outputs": [
    {
     "data": {
      "text/plain": [
       "(15690, 24)"
      ]
     },
     "execution_count": 89,
     "metadata": {},
     "output_type": "execute_result"
    }
   ],
   "source": [
    "X.shape\n",
    "X.iloc[:,numpy.array(best_features)].shape"
   ]
  },
  {
   "cell_type": "code",
   "execution_count": 90,
   "metadata": {},
   "outputs": [
    {
     "name": "stdout",
     "output_type": "stream",
     "text": [
      "dataset (15690, 24) (15690,) 0.5086042065009561\n",
      "Train time 12.55774188041687\n",
      "Train score: 0.8334 0.0059 || [0.84386327 0.82582143 0.83335337 0.83229964 0.83153654]\n",
      "Test score: 0.8312 0.0160 || [0.82264094 0.86236955 0.828534   0.82429185 0.81805963]\n",
      "recall 0.7718855218855218\n"
     ]
    },
    {
     "data": {
      "text/plain": [
       "array([[1771,  560],\n",
       "       [ 542, 1834]])"
      ]
     },
     "execution_count": 90,
     "metadata": {},
     "output_type": "execute_result"
    }
   ],
   "source": [
    "label_columns = ['hasbird']\n",
    "ignore_columns = ['filename']\n",
    "feature_columns = list(set(dataset.columns) - set(label_columns) - set(ignore_columns))\n",
    "X = dataset[feature_columns]\n",
    "\n",
    "X = X.iloc[:,numpy.array(best_features)]\n",
    "\n",
    "Y = dataset[label_columns[0]]\n",
    "X_train, X_test, Y_train, Y_test = model_selection.train_test_split(X, Y, test_size=0.3, random_state=1)\n",
    "print('dataset', X.shape, Y.shape, numpy.mean(Y))\n",
    "\n",
    "rf = make_pipeline(\n",
    "    RandomForestClassifier(n_estimators=100, random_state=1),\n",
    ")\n",
    "\n",
    "start = time.time()\n",
    "rf.fit(X_train, Y_train)\n",
    "end = time.time()\n",
    "print('Train time', end-start)\n",
    "\n",
    "train = model_selection.cross_val_score(rf, X_train, Y_train, scoring='roc_auc', cv=5)\n",
    "print('Train score: {:.4f} {:.4f} ||'.format(numpy.mean(train), numpy.std(train)), train)\n",
    "\n",
    "test = model_selection.cross_val_score(rf, X_test, Y_test, scoring='roc_auc', cv=5)\n",
    "print('Test score: {:.4f} {:.4f} ||'.format(numpy.mean(test), numpy.std(test)), test)\n",
    "\n",
    "# test\n",
    "Y_pred = rf.predict(X_test)\n",
    "recall = metrics.recall_score(Y_test, Y_pred)\n",
    "print('recall', recall)\n",
    "\n",
    "metrics.confusion_matrix(Y_test, Y_pred)"
   ]
  },
  {
   "cell_type": "code",
   "execution_count": 91,
   "metadata": {},
   "outputs": [
    {
     "data": {
      "text/plain": [
       "array([[76.57, 23.39],\n",
       "       [23.43, 76.61]])"
      ]
     },
     "execution_count": 91,
     "metadata": {},
     "output_type": "execute_result"
    }
   ],
   "source": [
    "cf = metrics.confusion_matrix(Y_test, Y_pred)\n",
    "numpy.round(cf / cf.sum(axis=0), 4)*100"
   ]
  },
  {
   "cell_type": "code",
   "execution_count": 92,
   "metadata": {},
   "outputs": [
    {
     "data": {
      "image/png": "[encoded data removed]",
      "text/plain": [
       "<Figure size 432x288 with 1 Axes>"
      ]
     },
     "metadata": {},
     "output_type": "display_data"
    }
   ],
   "source": [
    "plot_precision_recall(Y_test, rf.predict_proba(X_test)[:,1])"
   ]
  },
  {
   "cell_type": "code",
   "execution_count": 87,
   "metadata": {},
   "outputs": [
    {
     "name": "stdout",
     "output_type": "stream",
     "text": [
      "order [ 6  7 48 38 39 60 57 21 61 10 31  4 51 25 13 16 24 37 47 23 62 53 50 22\n",
      "  0  2  8  5 54 40  1 12 36 56 20 52 32 63 46 35 58 59 34  3 18 15 45 44\n",
      " 30 26 11 49 42 28 43 27 14 41 55 19 17  9 29 33]\n"
     ]
    },
    {
     "data": {
      "image/png": "[encoded data removed]",
      "text/plain": [
       "<Figure size 864x216 with 1 Axes>"
      ]
     },
     "metadata": {},
     "output_type": "display_data"
    }
   ],
   "source": [
    "importance = rf.steps[0][1].feature_importances_\n",
    "order = numpy.argsort(importance)[::-1]\n",
    "print('order', order)\n",
    "f = plt.figure(figsize=(12,3))\n",
    "p = f.add_subplot(111)\n",
    "x = list(range(len(importance)))\n",
    "p.plot(x, importance[order])\n",
    "tt = [str(t) for t in order]\n",
    "p.set_xticks(x, tt)\n",
    "None"
   ]
  },
  {
   "cell_type": "code",
   "execution_count": 88,
   "metadata": {},
   "outputs": [
    {
     "data": {
      "text/plain": [
       "[6,\n",
       " 7,\n",
       " 48,\n",
       " 38,\n",
       " 39,\n",
       " 60,\n",
       " 57,\n",
       " 21,\n",
       " 61,\n",
       " 10,\n",
       " 31,\n",
       " 4,\n",
       " 51,\n",
       " 25,\n",
       " 13,\n",
       " 16,\n",
       " 24,\n",
       " 37,\n",
       " 47,\n",
       " 23,\n",
       " 62,\n",
       " 53,\n",
       " 50,\n",
       " 22]"
      ]
     },
     "execution_count": 88,
     "metadata": {},
     "output_type": "execute_result"
    }
   ],
   "source": [
    "best_features = list(order[:24])\n",
    "best_features"
   ]
  },
  {
   "cell_type": "code",
   "execution_count": 94,
   "metadata": {},
   "outputs": [],
   "source": [
    "X_compete = compete[feature_columns]\n",
    "X_compete = X_compete.iloc[:,numpy.array(best_features)]\n",
    "df = pandas.DataFrame({\n",
    "    'item': X_compete.index, \n",
    "    'prediction': rf.predict(X_compete).astype('int'),\n",
    "})\n",
    "\n",
    "# check all items correctly named\n",
    "example = pandas.read_csv('example.csv', header=None)\n",
    "diff = set(example[0]).symmetric_difference(df.item)\n",
    "assert diff == set()\n",
    "\n",
    "df.to_csv('prediction.csv', index=False, header=False)"
   ]
  },
  {
   "cell_type": "code",
   "execution_count": null,
   "metadata": {},
   "outputs": [],
   "source": []
  }
 ],
 "metadata": {
  "kernelspec": {
   "display_name": "Python 3",
   "language": "python",
   "name": "python3"
  },
  "language_info": {
   "codemirror_mode": {
    "name": "ipython",
    "version": 3
   },
   "file_extension": ".py",
   "mimetype": "text/x-python",
   "name": "python",
   "nbconvert_exporter": "python",
   "pygments_lexer": "ipython3",
   "version": "3.6.6"
  }
 },
 "nbformat": 4,
 "nbformat_minor": 2
}
