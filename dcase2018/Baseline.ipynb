{
 "cells": [
  {
   "cell_type": "code",
   "execution_count": 2,
   "metadata": {},
   "outputs": [],
   "source": [
    "%matplotlib inline\n",
    "\n",
    "import numpy\n",
    "import pandas\n",
    "import matplotlib.pyplot as plt\n",
    "\n",
    "import sklearn\n",
    "from sklearn.pipeline import Pipeline, make_pipeline\n",
    "from sklearn.preprocessing import StandardScaler\n",
    "from sklearn.mixture import GaussianMixture\n",
    "from sklearn import model_selection"
   ]
  },
  {
   "cell_type": "code",
   "execution_count": 33,
   "metadata": {},
   "outputs": [],
   "source": [
    "import tarfile\n",
    "import re\n",
    "import io\n",
    "\n",
    "# TODO: also calculate delta-frame features?\n",
    "def features_from_mfcc(mfcc):\n",
    "    return mfcc.values[:, 0:13].flatten()\n",
    "    \n",
    "def load_dataset(tarpath, labelpath):\n",
    "    labels = pandas.read_csv(labelpath, index_col='itemid')\n",
    "    dataset = []\n",
    "    labeldata = []\n",
    "    \n",
    "    with tarfile.open(tarpath, mode=\"r|gz\") as tar:\n",
    "        regex = r\".*\\/(\\d+)\\..*\"\n",
    "        for i, member in enumerate(tar):\n",
    "            if i > 2000:\n",
    "                break\n",
    "\n",
    "            sample = int(re.findall(regex, member.name)[0])\n",
    "            content = tar.extractfile(member).read()\n",
    "            data = pandas.read_csv(io.BytesIO(content), encoding='utf8')\n",
    "\n",
    "            features = features_from_mfcc(data)\n",
    "            hasbird = labels.hasbird[sample]\n",
    "            dataset.append(features)\n",
    "            labeldata.append(hasbird)\n",
    "        \n",
    "    return numpy.array(dataset), numpy.array(labeldata)\n",
    "\n",
    "X, Y = load_dataset('data/ff1010bird.mfcc.tgz', 'data/ff1010bird.labels.csv')\n"
   ]
  },
  {
   "cell_type": "code",
   "execution_count": 34,
   "metadata": {},
   "outputs": [
    {
     "data": {
      "text/plain": [
       "((2001, 5603), (2001,))"
      ]
     },
     "execution_count": 34,
     "metadata": {},
     "output_type": "execute_result"
    }
   ],
   "source": [
    "X.shape, Y.shape"
   ]
  },
  {
   "cell_type": "code",
   "execution_count": 37,
   "metadata": {},
   "outputs": [
    {
     "data": {
      "text/plain": [
       "array([0.69421488, 0.74166667, 0.76666667, 0.75833333, 0.74166667])"
      ]
     },
     "execution_count": 37,
     "metadata": {},
     "output_type": "execute_result"
    }
   ],
   "source": [
    "# Asssumes MFCC features as input\n",
    "gmm = make_pipeline(\n",
    "    StandardScaler(),\n",
    "    GaussianMixture(n_components=1, covariance_type='spherical'),\n",
    ")\n",
    "\n",
    "X_train, X_test, Y_train, Y_test = model_selection.train_test_split(X, Y, test_size=0.3, random_state=1)\n",
    "scores = model_selection.cross_val_score(gmm, X_test, Y_test, scoring='accuracy', cv=5)\n",
    "scores"
   ]
  },
  {
   "cell_type": "code",
   "execution_count": null,
   "metadata": {},
   "outputs": [],
   "source": []
  }
 ],
 "metadata": {
  "kernelspec": {
   "display_name": "Python 3",
   "language": "python",
   "name": "python3"
  },
  "language_info": {
   "codemirror_mode": {
    "name": "ipython",
    "version": 3
   },
   "file_extension": ".py",
   "mimetype": "text/x-python",
   "name": "python",
   "nbconvert_exporter": "python",
   "pygments_lexer": "ipython3",
   "version": "3.6.5"
  }
 },
 "nbformat": 4,
 "nbformat_minor": 2
}
