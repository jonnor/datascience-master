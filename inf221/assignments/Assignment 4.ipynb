{
 "cells": [
  {
   "cell_type": "markdown",
   "metadata": {},
   "source": [
    "# Assignment 4\n",
    "Jon Nordby\n"
   ]
  },
  {
   "cell_type": "code",
   "execution_count": 11,
   "metadata": {
    "collapsed": true
   },
   "outputs": [],
   "source": [
    "%matplotlib inline\n",
    "import random\n",
    "import math\n",
    "\n",
    "import pandas\n",
    "import matplotlib.pyplot as plt"
   ]
  },
  {
   "cell_type": "markdown",
   "metadata": {},
   "source": [
    "## Exercise 16\n",
    "\n",
    "In the Select-IDE algorithm (lecture 6), what is the probability that you\n",
    "\n",
    "### 1. Select only a single IDE?\n",
    "\n",
    "The algorithm initial selects the first candidate. And then only switches away from the current IDE if the candidate has higher score.\n",
    "\n",
    "To select only one IDE, the first candidate would need to have the highest score. The other n-1 can be in any position, giving probability $ P(\\text{select-one}) = \\frac{(n-1)!}{(n)!} = \\frac{1}{n} $"
   ]
  },
  {
   "cell_type": "markdown",
   "metadata": {},
   "source": [
    "### 2. Select n different IDEs?\n",
    "\n",
    "Selecting N different IDEs in a sequence of N candidates only happens if the scores are in in strictly increasing order.\n",
    "\n",
    "There is only one permutation of the sequence with this order, giving probability $ P(\\text{select-all}) = \\frac{1}{n!} $"
   ]
  },
  {
   "cell_type": "markdown",
   "metadata": {},
   "source": [
    "### 3. Select exactly two IDEs?"
   ]
  },
  {
   "cell_type": "markdown",
   "metadata": {},
   "source": [
    "## Exercise 17\n",
    "\n",
    "CLRS 5.2-5: Let A[1..n] be an array of n distinct numbers.\n",
    "If i < j and A[i] > A[j], then the pair (i, j) is called an inversion.\n",
    "Suppose that all the elements of A form a uniform random permutation\n",
    "(that any ordering is equally likely) of <1, 2, ..., n>.\n",
    "Use indicator random variables to compute the expected number of inversions."
   ]
  },
  {
   "cell_type": "markdown",
   "metadata": {},
   "source": [
    "To compute the number of we need to compare each i with each j, which is all the combinations of two numbers.\n",
    "\n",
    "The probability of an (i, j) pair being an inversion is the probability of A[i] > [j]. Since the values are uniformly distributed with no duplicate values, it has the same chance of being true as false:\n",
    "\n",
    "$ P(\\text{ij-is-inversion}) = X_{inv} = \\frac{1}{2} $\n",
    "\n",
    "Using k-combination $ \\frac{n!}{k!(n-k)!} $ with $k=2$, there are $ \\frac{n!}{2!(n-2)!} = \\frac{n(n-1)(n-2)!}{2!(n-2)!} = \\frac{n(n-1)}{4} $ combinations.\n",
    "\n",
    "The expected number of inversions is the \n",
    "\n",
    "$ E = I*X_{inv} = \\frac{n(n-1)}{4}*\\frac{1}{2} = \\frac{n(n-1)}{8} $"
   ]
  },
  {
   "cell_type": "markdown",
   "metadata": {},
   "source": [
    "## Exercise 18\n",
    "\n",
    "CLRS 5.3-2: The following procedure is supposed to generate any permutation of A with equal probability, except the identity permutation (leaving A unchanged). Does this do so?\n",
    "```\n",
    "Permute-Without-Identity(A)\n",
    "  n = A.length\n",
    "  for i = 1 to n-1\n",
    "    swap A[i] with A[Random(i+1, n)]\n",
    "```\n",
    "\n",
    "Hint: Begin by experimenting with small arrays A. Assume that all elements of A are unique."
   ]
  },
  {
   "cell_type": "markdown",
   "metadata": {},
   "source": [
    "This algorithm *always* swaps each item away, and there is no way for the item be swapped back to the same position. Thus all permutations where one or more of the items stay in the original location cannot happen."
   ]
  },
  {
   "cell_type": "code",
   "execution_count": 10,
   "metadata": {},
   "outputs": [
    {
     "name": "stdout",
     "output_type": "stream",
     "text": [
      "original: [0, 1, 2]\n",
      "[2, 0, 1]\n",
      "[2, 0, 1]\n",
      "[2, 0, 1]\n",
      "[2, 0, 1]\n",
      "[1, 2, 0]\n",
      "[1, 2, 0]\n",
      "[1, 2, 0]\n",
      "[1, 2, 0]\n",
      "[1, 2, 0]\n",
      "[1, 2, 0]\n",
      "[2, 0, 1]\n",
      "[1, 2, 0]\n",
      "[2, 0, 1]\n",
      "[2, 0, 1]\n",
      "[2, 0, 1]\n"
     ]
    }
   ],
   "source": [
    "def permutation_without_identity(arr):\n",
    "    n = len(arr)\n",
    "    for i in range(0, n-1):\n",
    "        swapidx = random.randint(i+1, n-1)\n",
    "        arr[i], arr[swapidx] = arr[swapidx], arr[i]\n",
    "    return arr\n",
    "\n",
    "A = list(range(0, 3))\n",
    "permutations = [permutation_without_identity(A.copy()) for _ in range(0, 15)]\n",
    "print('original:', A)\n",
    "print('\\n'.join(str(a) for a in permutations))"
   ]
  },
  {
   "cell_type": "markdown",
   "metadata": {
    "collapsed": true
   },
   "source": [
    "Experiment confirms that permutations where 0 stays at index 0, or 1 at index 1, or 2 at index 2 does not occur."
   ]
  },
  {
   "cell_type": "markdown",
   "metadata": {
    "collapsed": true
   },
   "source": [
    "## Exercise 19\n",
    "\n",
    "CLRS 6.2-5: The Max-Heapify algorithm is recursive. There is only a single recursive function call, and it occurs at the very end of the algorithm. This is an example of tail recursion. Since function calls can be quite expensive, one usually tries to avoid tail recursion by replacing recursion by a loop construct.\n",
    "\n",
    "Write a Max-Heapify algorithm that uses looping instead of recursion (pseudocode)!"
   ]
  },
  {
   "cell_type": "markdown",
   "metadata": {
    "collapsed": true
   },
   "source": []
  },
  {
   "cell_type": "markdown",
   "metadata": {},
   "source": [
    "### Extra credit\n",
    "Implement recursive and iterative Max-Heapify and Build-Max-Heap in Python and compare their performance on random input arrays."
   ]
  },
  {
   "cell_type": "code",
   "execution_count": 126,
   "metadata": {},
   "outputs": [
    {
     "name": "stdout",
     "output_type": "stream",
     "text": [
      "\ti 2\n",
      "[66, None, None]\n",
      "largest 2 66\n",
      "\ti 1\n",
      "[25, 80, 31]\n",
      "largest 3 80\n",
      "[25, None, None]\n",
      "largest 3 25\n",
      "\ti 0\n",
      "[78, 80, 66]\n",
      "largest 1 80\n",
      "[78, 25, 31]\n",
      "largest 1 78\n",
      "[80, 78, 66, 25, 31] [80, 78, 66, 31, 25]\n"
     ]
    },
    {
     "ename": "AssertionError",
     "evalue": "[80, 78, 66, 25, 31] != [80, 78, 66, 31, 25]",
     "output_type": "error",
     "traceback": [
      "\u001b[0;31m---------------------------------------------------------------------------\u001b[0m",
      "\u001b[0;31mAssertionError\u001b[0m                            Traceback (most recent call last)",
      "\u001b[0;32m<ipython-input-126-94fd6a48c81d>\u001b[0m in \u001b[0;36m<module>\u001b[0;34m()\u001b[0m\n\u001b[1;32m     58\u001b[0m         \u001b[0;32massert\u001b[0m \u001b[0mH\u001b[0m \u001b[0;34m==\u001b[0m \u001b[0mex\u001b[0m\u001b[0;34m,\u001b[0m \u001b[0;34m\"{} != {}\"\u001b[0m\u001b[0;34m.\u001b[0m\u001b[0mformat\u001b[0m\u001b[0;34m(\u001b[0m\u001b[0mH\u001b[0m\u001b[0;34m,\u001b[0m \u001b[0mex\u001b[0m\u001b[0;34m)\u001b[0m\u001b[0;34m\u001b[0m\u001b[0m\n\u001b[1;32m     59\u001b[0m \u001b[0;34m\u001b[0m\u001b[0m\n\u001b[0;32m---> 60\u001b[0;31m \u001b[0mtest_max_heap\u001b[0m\u001b[0;34m(\u001b[0m\u001b[0mbuild_max_heap_recursive\u001b[0m\u001b[0;34m)\u001b[0m\u001b[0;34m\u001b[0m\u001b[0m\n\u001b[0m\u001b[1;32m     61\u001b[0m \u001b[0;34m'tests passed'\u001b[0m\u001b[0;34m\u001b[0m\u001b[0m\n",
      "\u001b[0;32m<ipython-input-126-94fd6a48c81d>\u001b[0m in \u001b[0;36mtest_max_heap\u001b[0;34m(build_max_heap)\u001b[0m\n\u001b[1;32m     56\u001b[0m         \u001b[0mex\u001b[0m \u001b[0;34m=\u001b[0m \u001b[0msorted\u001b[0m\u001b[0;34m(\u001b[0m\u001b[0mA\u001b[0m\u001b[0;34m,\u001b[0m \u001b[0mreverse\u001b[0m\u001b[0;34m=\u001b[0m\u001b[0;32mTrue\u001b[0m\u001b[0;34m)\u001b[0m\u001b[0;34m\u001b[0m\u001b[0m\n\u001b[1;32m     57\u001b[0m         \u001b[0mprint\u001b[0m\u001b[0;34m(\u001b[0m\u001b[0mH\u001b[0m\u001b[0;34m,\u001b[0m \u001b[0mex\u001b[0m\u001b[0;34m)\u001b[0m\u001b[0;34m\u001b[0m\u001b[0m\n\u001b[0;32m---> 58\u001b[0;31m         \u001b[0;32massert\u001b[0m \u001b[0mH\u001b[0m \u001b[0;34m==\u001b[0m \u001b[0mex\u001b[0m\u001b[0;34m,\u001b[0m \u001b[0;34m\"{} != {}\"\u001b[0m\u001b[0;34m.\u001b[0m\u001b[0mformat\u001b[0m\u001b[0;34m(\u001b[0m\u001b[0mH\u001b[0m\u001b[0;34m,\u001b[0m \u001b[0mex\u001b[0m\u001b[0;34m)\u001b[0m\u001b[0;34m\u001b[0m\u001b[0m\n\u001b[0m\u001b[1;32m     59\u001b[0m \u001b[0;34m\u001b[0m\u001b[0m\n\u001b[1;32m     60\u001b[0m \u001b[0mtest_max_heap\u001b[0m\u001b[0;34m(\u001b[0m\u001b[0mbuild_max_heap_recursive\u001b[0m\u001b[0;34m)\u001b[0m\u001b[0;34m\u001b[0m\u001b[0m\n",
      "\u001b[0;31mAssertionError\u001b[0m: [80, 78, 66, 25, 31] != [80, 78, 66, 31, 25]"
     ]
    }
   ],
   "source": [
    "class Heap(list):\n",
    "    def __init__(self, *args):\n",
    "        list.__init__(self, *args)\n",
    "        self.size = 0\n",
    "\n",
    "def parent(i):\n",
    "    return math.floor(i/2)\n",
    "def left(i):\n",
    "    return 2*i + 1\n",
    "def right(i):\n",
    "    return 2*i + 2\n",
    "\n",
    "assert left(0) == 1, \"{}\".format(left(0))\n",
    "assert right(0) == 2, \"{}\".format(right(0))\n",
    "assert left(3) == 7, \"{}\".format(left(3))\n",
    "assert right(3) == 8, \"{}\".format(left(3))\n",
    "\n",
    "def get(A, i, default=None):\n",
    "    try:\n",
    "        return A[i]\n",
    "    except IndexError:\n",
    "        return default\n",
    "\n",
    "def max_heapify_recursive(H, p):\n",
    "    l = left(p)\n",
    "    r = right(p)\n",
    "    largest = p\n",
    "    \n",
    "    def g(*indices):\n",
    "        return [get(H, i) for i in indices]\n",
    "            \n",
    "    print(g(p, l, r))\n",
    "    \n",
    "    if l < H.size and H[l] > H[largest]:\n",
    "        largest = l\n",
    "    if r < H.size and H[r] > H[largest]:\n",
    "        largest = r\n",
    "    print('largest', largest, H[largest])\n",
    "    if largest != p:\n",
    "        H[largest], H[p] = H[p], H[largest]\n",
    "        max_heapify_recursive(H, largest)\n",
    "        \n",
    "def build_max_heap_recursive(A):\n",
    "    H = Heap(A.copy())\n",
    "    H.size = len(H)\n",
    "    for i in range(math.floor(len(H)/2), -1, -1):\n",
    "        print('\\ti', i)\n",
    "        max_heapify_recursive(H, i)\n",
    "    return H\n",
    "\n",
    "\n",
    "def test_max_heap(build_max_heap):\n",
    "    for _ in range(0, 10):\n",
    "        A = [ random.randint(0, 99) for _ in range(5) ]\n",
    "        H = build_max_heap(A)\n",
    "        ex = sorted(A, reverse=True)\n",
    "        print(H, ex)\n",
    "        assert H == ex, \"{} != {}\".format(H, ex)\n",
    "\n",
    "test_max_heap(build_max_heap_recursive)\n",
    "'tests passed'"
   ]
  },
  {
   "cell_type": "markdown",
   "metadata": {},
   "source": [
    "## Exercise 20\n",
    "\n",
    "CLRS 6.5-7\n",
    "\n",
    "* Show how to implement a FIFO queue with a priority queue.\n",
    "* Show how to implement a LIFO stack with a priority queue."
   ]
  },
  {
   "cell_type": "markdown",
   "metadata": {},
   "source": [
    "Using Python as executable pseudocode.\n",
    "\n",
    "Note: No explicit handling of overrun/underrun. We also assume that integers are arbitrary length, which in Python they can be, but in other languages would be finite and thus subject to overflow."
   ]
  },
  {
   "cell_type": "code",
   "execution_count": 30,
   "metadata": {},
   "outputs": [
    {
     "name": "stdout",
     "output_type": "stream",
     "text": [
      "tests passed\n"
     ]
    }
   ],
   "source": [
    "from queue import PriorityQueue\n",
    "\n",
    "class Stack():\n",
    "    def __init__(self, size):\n",
    "        self._queue = PriorityQueue(size) # minimum-priority-queue\n",
    "        self._priority = 0\n",
    "\n",
    "    def pop(self):\n",
    "        priority, val = self._queue.get()\n",
    "        return val\n",
    "\n",
    "    def push(self, val):\n",
    "        # ensure this value will be first returned (LIFO),\n",
    "        # by assigning priorities monotonically decreasing \n",
    "        self._priority -= 1\n",
    "        self._queue.put((self._priority, val))\n",
    "    \n",
    "\n",
    "def check_lifo(values):\n",
    "    s = Stack(len(values))\n",
    "    for val in values:\n",
    "        # check that push/pop gives same element back\n",
    "        s.push(val)\n",
    "        popped = s.pop()\n",
    "        assert popped == val\n",
    "        # put the element so can check results when filled\n",
    "        s.push(val)\n",
    "\n",
    "    out = [ s.pop() for _ in enumerate(values) ]\n",
    "\n",
    "    rev = list(reversed(out))\n",
    "    assert values == rev\n",
    "\n",
    "check_lifo([random.randint(-999, 999) for _ in range(5)])\n",
    "print('tests passed')"
   ]
  },
  {
   "cell_type": "code",
   "execution_count": 35,
   "metadata": {},
   "outputs": [
    {
     "name": "stdout",
     "output_type": "stream",
     "text": [
      "tests passed\n"
     ]
    }
   ],
   "source": [
    "class Queue():\n",
    "    def __init__(self, size):\n",
    "        self._queue = PriorityQueue(size) # minimum-priority-queue\n",
    "        self._priority = 0\n",
    "\n",
    "    def dequeue(self):\n",
    "        priority, val = self._queue.get()\n",
    "        return val\n",
    "        \n",
    "    def enqueue(self, val):\n",
    "        # ensure that the value will be retrieved last (FIFO)\n",
    "        # by assigning priorities monotonically increasing\n",
    "        self._priority += 1\n",
    "        self._queue.put((self._priority, val))\n",
    "\n",
    "def check_fifo(values):\n",
    "    # check that order is preserved, first in should be first out\n",
    "    q = Queue(len(values))\n",
    "    for val in values:\n",
    "        q.enqueue(val)\n",
    "\n",
    "    out = [ q.dequeue() for _ in enumerate(values) ]\n",
    "    assert out == values\n",
    "\n",
    "check_fifo([random.randint(-999, 999) for _ in range(5)])\n",
    "print('tests passed')"
   ]
  },
  {
   "cell_type": "markdown",
   "metadata": {},
   "source": [
    "If the underlying priority queue had been a max-priority-queue instead of min-priority-queue, then priority order would have to be inverted: LIFO would assign increasing priority values, and FIFO decreasing priority values."
   ]
  }
 ],
 "metadata": {
  "kernelspec": {
   "display_name": "Python 3",
   "language": "python",
   "name": "python3"
  },
  "language_info": {
   "codemirror_mode": {
    "name": "ipython",
    "version": 3
   },
   "file_extension": ".py",
   "mimetype": "text/x-python",
   "name": "python",
   "nbconvert_exporter": "python",
   "pygments_lexer": "ipython3",
   "version": "3.6.2"
  }
 },
 "nbformat": 4,
 "nbformat_minor": 2
}
