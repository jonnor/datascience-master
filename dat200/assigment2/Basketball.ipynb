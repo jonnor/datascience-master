{
 "cells": [
  {
   "cell_type": "code",
   "execution_count": 97,
   "metadata": {
    "collapsed": true
   },
   "outputs": [],
   "source": [
    "%matplotlib inline\n",
    "\n",
    "import time\n",
    "\n",
    "import pandas\n",
    "import numpy\n",
    "import matplotlib.pyplot as plt\n",
    "import seaborn\n",
    "\n",
    "import sklearn\n",
    "import sklearn.metrics\n",
    "import sklearn.preprocessing\n",
    "from sklearn.preprocessing import StandardScaler\n",
    "from sklearn.model_selection import train_test_split\n",
    "from sklearn.model_selection import ParameterGrid\n",
    "\n",
    "# ML methods\n",
    "from sklearn.svm import LinearSVC # C=1.0\n",
    "from sklearn.svm import SVC # C=1.0, kernel=’rbf’, gamma=’auto’\n",
    "from sklearn.linear_model import LogisticRegression # C=1.0, penalty=’l2’ \n",
    "from sklearn.ensemble import RandomForestClassifier # n_estimators=10, max_depth=None, max_features=’auto’, criterion='gini'\n"
   ]
  },
  {
   "cell_type": "markdown",
   "metadata": {},
   "source": [
    "# Raw data"
   ]
  },
  {
   "cell_type": "code",
   "execution_count": 4,
   "metadata": {
    "scrolled": true
   },
   "outputs": [
    {
     "data": {
      "text/html": [
       "<div>\n",
       "<style scoped>\n",
       "    .dataframe tbody tr th:only-of-type {\n",
       "        vertical-align: middle;\n",
       "    }\n",
       "\n",
       "    .dataframe tbody tr th {\n",
       "        vertical-align: top;\n",
       "    }\n",
       "\n",
       "    .dataframe thead th {\n",
       "        text-align: right;\n",
       "    }\n",
       "</style>\n",
       "<table border=\"1\" class=\"dataframe\">\n",
       "  <thead>\n",
       "    <tr style=\"text-align: right;\">\n",
       "      <th></th>\n",
       "      <th>combined_shot_type</th>\n",
       "      <th>loc_x</th>\n",
       "      <th>loc_y</th>\n",
       "      <th>minutes_remaining</th>\n",
       "      <th>period</th>\n",
       "      <th>playoffs</th>\n",
       "      <th>season</th>\n",
       "      <th>seconds_remaining</th>\n",
       "      <th>shot_distance</th>\n",
       "      <th>shot_made_flag</th>\n",
       "      <th>shot_type</th>\n",
       "      <th>shot_zone_area</th>\n",
       "      <th>shot_zone_range</th>\n",
       "      <th>opponent</th>\n",
       "      <th>shot_id</th>\n",
       "    </tr>\n",
       "  </thead>\n",
       "  <tbody>\n",
       "    <tr>\n",
       "      <th>0</th>\n",
       "      <td>Jump Shot</td>\n",
       "      <td>-157</td>\n",
       "      <td>0</td>\n",
       "      <td>10</td>\n",
       "      <td>1</td>\n",
       "      <td>0</td>\n",
       "      <td>2000-01</td>\n",
       "      <td>22</td>\n",
       "      <td>15</td>\n",
       "      <td>0.0</td>\n",
       "      <td>2PT Field Goal</td>\n",
       "      <td>Left Side(L)</td>\n",
       "      <td>8-16 ft.</td>\n",
       "      <td>POR</td>\n",
       "      <td>2</td>\n",
       "    </tr>\n",
       "    <tr>\n",
       "      <th>1</th>\n",
       "      <td>Jump Shot</td>\n",
       "      <td>-101</td>\n",
       "      <td>135</td>\n",
       "      <td>7</td>\n",
       "      <td>1</td>\n",
       "      <td>0</td>\n",
       "      <td>2000-01</td>\n",
       "      <td>45</td>\n",
       "      <td>16</td>\n",
       "      <td>1.0</td>\n",
       "      <td>2PT Field Goal</td>\n",
       "      <td>Left Side Center(LC)</td>\n",
       "      <td>16-24 ft.</td>\n",
       "      <td>POR</td>\n",
       "      <td>3</td>\n",
       "    </tr>\n",
       "  </tbody>\n",
       "</table>\n",
       "</div>"
      ],
      "text/plain": [
       "  combined_shot_type  loc_x  loc_y  minutes_remaining  period  playoffs  \\\n",
       "0          Jump Shot   -157      0                 10       1         0   \n",
       "1          Jump Shot   -101    135                  7       1         0   \n",
       "\n",
       "    season  seconds_remaining  shot_distance  shot_made_flag       shot_type  \\\n",
       "0  2000-01                 22             15             0.0  2PT Field Goal   \n",
       "1  2000-01                 45             16             1.0  2PT Field Goal   \n",
       "\n",
       "         shot_zone_area shot_zone_range opponent  shot_id  \n",
       "0          Left Side(L)        8-16 ft.      POR        2  \n",
       "1  Left Side Center(LC)       16-24 ft.      POR        3  "
      ]
     },
     "execution_count": 4,
     "metadata": {},
     "output_type": "execute_result"
    }
   ],
   "source": [
    "raw = pandas.read_csv('./KB_data.csv')\n",
    "raw[:2]"
   ]
  },
  {
   "cell_type": "markdown",
   "metadata": {},
   "source": [
    "# Cleaning & Enriching\n",
    "\n",
    "\n",
    "## Raw features\n",
    "\n",
    "* shot_distance\n",
    "* loc_x/y: Where on the court. Strong correlation with shot_distance,\n",
    "* shot_zone_range: Redundant, categorical version of shot_distance\n",
    "* shot_type: Seems only field goals are included, no penalty shots? Redundant, information is in shot_distance\n",
    "* shot_zone_area: Rendant, informatino is in loc_x/loc_y\n",
    "* opponent: Categorical. Approx 20 values\n",
    "* combined_shot_type: Some correlation with shot_distance. Eg: Dunk always very close, Jump shots mostly far away\n",
    "* minutes/seconds_remaining: In the period \n",
    "* period: Categorical\n",
    "* season: Related to time (of career). \n",
    "* playoffs: 1/0. Different kind of game\n",
    "\n",
    "## Constructed\n",
    "\n",
    "Possible\n",
    "\n",
    "* Nonlinear shot_distance\n",
    "* time_played = (period * 15 * 60) + (minutes_remaining * 60) + (seconds_remaining) # note: Estimate, since player might not actually play all the time\n",
    "\n"
   ]
  },
  {
   "cell_type": "code",
   "execution_count": 122,
   "metadata": {},
   "outputs": [],
   "source": [
    "preprocessed = raw.copy()\n",
    "\n",
    "# MAYBE: Remove rare super longshots. But only for training, exists in compete set\n",
    "# raw = raw[raw['shot_distance'] < 30.0]"
   ]
  },
  {
   "cell_type": "markdown",
   "metadata": {},
   "source": [
    "# Tools"
   ]
  },
  {
   "cell_type": "code",
   "execution_count": 101,
   "metadata": {
    "collapsed": true
   },
   "outputs": [],
   "source": [
    "# Poor-mans GridSearchCV\n",
    "def grid_search(estimator, grid, X, Y, splits=100, test_size=0.3):\n",
    "    pp = ParameterGrid(grid)\n",
    "    \n",
    "    results = []\n",
    "    \n",
    "    # Calculate the best hyperparameters\n",
    "    for model_idx, parameters in enumerate(pp):\n",
    "\n",
    "        training_accuracies = []\n",
    "        testing_accuracies = []\n",
    "        for seed in range(0, splits):\n",
    "            start_time = time.time()\n",
    "            X_train, X_test, Y_train, Y_test = train_test_split(X, Y, test_size=test_size, random_state=seed)\n",
    "            \n",
    "            model = estimator(**parameters)\n",
    "            model.fit(X_train, Y_train)\n",
    "            \n",
    "            Y_train_pred = model.predict(X_train)\n",
    "            Y_test_pred = model.predict(X_test)\n",
    "            \n",
    "            train_score = sklearn.metrics.accuracy_score(Y_train, Y_train_pred) \n",
    "            test_score = sklearn.metrics.accuracy_score(Y_test, Y_test_pred)\n",
    "            \n",
    "            training_accuracies.append(train_score)\n",
    "            testing_accuracies.append(test_score)\n",
    "            end_time = time.time()\n",
    "            print('iteration %d: %.2f seconds' % (seed, end_time-start_time))\n",
    "            \n",
    "        result = {\n",
    "            'training_accuracy': numpy.average(training_accuracies),\n",
    "            'testing_accuracy': numpy.average(testing_accuracies),\n",
    "            'parameters': parameters,\n",
    "        }\n",
    "        results.append(result)\n",
    "\n",
    "    # Select best result and retrain model on whole dataset\n",
    "    by_accuracy = sorted(results, key=lambda r: r['testing_accuracy'])\n",
    "    best_parameters = by_accuracy[0]['parameters']\n",
    "    model = estimator(**best_parameters)\n",
    "    model.fit(X, Y)\n",
    "            \n",
    "    return model, results "
   ]
  },
  {
   "cell_type": "markdown",
   "metadata": {},
   "source": [
    "## Model"
   ]
  },
  {
   "cell_type": "code",
   "execution_count": 158,
   "metadata": {},
   "outputs": [
    {
     "name": "stdout",
     "output_type": "stream",
     "text": [
      "iteration 0: 0.42 seconds\n",
      "iteration 1: 0.43 seconds\n",
      "iteration 2: 0.38 seconds\n",
      "iteration 0: 0.44 seconds\n",
      "iteration 1: 0.43 seconds\n",
      "iteration 2: 0.42 seconds\n",
      "iteration 0: 0.48 seconds\n",
      "iteration 1: 0.48 seconds\n",
      "iteration 2: 0.46 seconds\n",
      "iteration 0: 0.53 seconds\n",
      "iteration 1: 0.52 seconds\n",
      "iteration 2: 0.47 seconds\n",
      "iteration 0: 0.54 seconds\n",
      "iteration 1: 0.53 seconds\n",
      "iteration 2: 0.46 seconds\n",
      "iteration 0: 0.54 seconds\n",
      "iteration 1: 0.54 seconds\n",
      "iteration 2: 0.55 seconds\n"
     ]
    },
    {
     "data": {
      "text/html": [
       "<div>\n",
       "<style scoped>\n",
       "    .dataframe tbody tr th:only-of-type {\n",
       "        vertical-align: middle;\n",
       "    }\n",
       "\n",
       "    .dataframe tbody tr th {\n",
       "        vertical-align: top;\n",
       "    }\n",
       "\n",
       "    .dataframe thead th {\n",
       "        text-align: right;\n",
       "    }\n",
       "</style>\n",
       "<table border=\"1\" class=\"dataframe\">\n",
       "  <thead>\n",
       "    <tr style=\"text-align: right;\">\n",
       "      <th></th>\n",
       "      <th>game_time</th>\n",
       "      <th>loc_x</th>\n",
       "      <th>period_time</th>\n",
       "      <th>playoffs</th>\n",
       "      <th>shot_distance</th>\n",
       "      <th>shot_distance_squared</th>\n",
       "      <th>season_1997-98</th>\n",
       "      <th>season_1998-99</th>\n",
       "      <th>season_1999-00</th>\n",
       "      <th>season_2000-01</th>\n",
       "      <th>...</th>\n",
       "      <th>opponent_PHI</th>\n",
       "      <th>opponent_PHX</th>\n",
       "      <th>opponent_POR</th>\n",
       "      <th>opponent_SAC</th>\n",
       "      <th>opponent_SAS</th>\n",
       "      <th>opponent_SEA</th>\n",
       "      <th>opponent_TOR</th>\n",
       "      <th>opponent_UTA</th>\n",
       "      <th>opponent_VAN</th>\n",
       "      <th>opponent_WAS</th>\n",
       "    </tr>\n",
       "  </thead>\n",
       "  <tbody>\n",
       "    <tr>\n",
       "      <th>0</th>\n",
       "      <td>0.0</td>\n",
       "      <td>0.0</td>\n",
       "      <td>0.0</td>\n",
       "      <td>0</td>\n",
       "      <td>0.0</td>\n",
       "      <td>0.0</td>\n",
       "      <td>0</td>\n",
       "      <td>0</td>\n",
       "      <td>0</td>\n",
       "      <td>1</td>\n",
       "      <td>...</td>\n",
       "      <td>0</td>\n",
       "      <td>0</td>\n",
       "      <td>1</td>\n",
       "      <td>0</td>\n",
       "      <td>0</td>\n",
       "      <td>0</td>\n",
       "      <td>0</td>\n",
       "      <td>0</td>\n",
       "      <td>0</td>\n",
       "      <td>0</td>\n",
       "    </tr>\n",
       "  </tbody>\n",
       "</table>\n",
       "<p>1 rows × 68 columns</p>\n",
       "</div>"
      ],
      "text/plain": [
       "   game_time  loc_x  period_time playoffs  shot_distance  \\\n",
       "0        0.0    0.0          0.0        0            0.0   \n",
       "\n",
       "   shot_distance_squared  season_1997-98  season_1998-99  season_1999-00  \\\n",
       "0                    0.0               0               0               0   \n",
       "\n",
       "   season_2000-01      ...       opponent_PHI  opponent_PHX  opponent_POR  \\\n",
       "0               1      ...                  0             0             1   \n",
       "\n",
       "   opponent_SAC  opponent_SAS  opponent_SEA  opponent_TOR  opponent_UTA  \\\n",
       "0             0             0             0             0             0   \n",
       "\n",
       "   opponent_VAN  opponent_WAS  \n",
       "0             0             0  \n",
       "\n",
       "[1 rows x 68 columns]"
      ]
     },
     "execution_count": 158,
     "metadata": {},
     "output_type": "execute_result"
    }
   ],
   "source": [
    "def scale_series(series):\n",
    "    d = series.values.astype(float).reshape(1, -1)\n",
    "    return StandardScaler().fit_transform(d)[0,:]\n",
    "\n",
    "class FeatureEncoder():\n",
    "\n",
    "    def __init__(self):\n",
    "        pass\n",
    "        \n",
    "    def transform(self, data):\n",
    "        period_mins = 15\n",
    "        period_time = (data['minutes_remaining'] * 60) + (data['seconds_remaining'])\n",
    "        game_time = (data['period']*period_mins*60)\n",
    "        \n",
    "        shot_distance_squared = data['shot_distance'] * data['shot_distance']\n",
    "        # could calculate angle from loc_x/y\n",
    "        \n",
    "        features = pandas.DataFrame({\n",
    "            'shot_type': data['combined_shot_type'].astype('category'),\n",
    "            'season': data['season'].astype('category'),\n",
    "            'opponent': data['opponent'].astype('category'),\n",
    "            'playoffs': data['playoffs'].astype('category'),\n",
    "\n",
    "            'game_time': scale_series(game_time),\n",
    "            'period_time': scale_series(period_time),\n",
    "            'period': data['period'].astype('category'),\n",
    "            \n",
    "            'loc_x': scale_series(data['loc_x']), \n",
    "            'shot_distance': scale_series(data['shot_distance']),            \n",
    "            'shot_distance_squared': scale_series(shot_distance_squared),\n",
    "        })\n",
    "\n",
    "        categorical = set(['shot_type', 'period', 'season', 'opponent'])\n",
    "        #selected = \n",
    "        \n",
    "        d = pandas.get_dummies(features, columns=list(categorical), drop_first=True)\n",
    "        return d\n",
    "    \n",
    "\n",
    "encoder = FeatureEncoder()\n",
    "usage_set = preprocessed[preprocessed['shot_made_flag'].notnull()]\n",
    "\n",
    "encoded = encoder.transform(usage_set)\n",
    "X = encoded\n",
    "Y = usage_set['shot_made_flag'].astype(numpy.bool)\n",
    "    \n",
    "def get_model(**params):\n",
    "    params['dual'] = False # 10x faster\n",
    "    return LinearSVC(**params)\n",
    "    \n",
    "best_model, r = grid_search(get_model, { 'C': [0.01, 0.1, 1.0, 10.0, 100.0, 1000.0] }, X, Y, splits=3)\n",
    "encoded[:1]"
   ]
  },
  {
   "cell_type": "code",
   "execution_count": 159,
   "metadata": {},
   "outputs": [
    {
     "name": "stdout",
     "output_type": "stream",
     "text": [
      "        0_params  1_training  2_testing\n",
      "0    {'C': 0.01}    0.613101   0.615566\n",
      "1     {'C': 0.1}    0.613838   0.615298\n",
      "2     {'C': 1.0}    0.614022   0.615030\n",
      "3    {'C': 10.0}    0.614022   0.614922\n",
      "4   {'C': 100.0}    0.614022   0.614922\n",
      "5  {'C': 1000.0}    0.614022   0.614922\n"
     ]
    },
    {
     "data": {
      "text/plain": [
       "<matplotlib.axes._subplots.AxesSubplot at 0x7fda9df3fc88>"
      ]
     },
     "execution_count": 159,
     "metadata": {},
     "output_type": "execute_result"
    },
    {
     "data": {
      "image/png": "[encoded data removed]",
      "text/plain": [
       "<matplotlib.figure.Figure at 0x7fda9f5ea748>"
      ]
     },
     "metadata": {},
     "output_type": "display_data"
    }
   ],
   "source": [
    "def plot_results(res):\n",
    "    training = map(lambda r: r['training_accuracy'], res)\n",
    "    testing = map(lambda r: r['testing_accuracy'], res)\n",
    "    params = map(lambda r: repr(r['parameters']), res)\n",
    "    \n",
    "    df = pandas.DataFrame({\n",
    "        '0_params': list(params),\n",
    "        '1_training': list(training),\n",
    "        '2_testing': list(testing),\n",
    "    })\n",
    "    \n",
    "    print(df)\n",
    "    \n",
    "    return df.plot(x='0_params', kind='bar', figsize=(12,12))\n",
    "\n",
    "plot_results(r)"
   ]
  },
  {
   "cell_type": "code",
   "execution_count": 160,
   "metadata": {},
   "outputs": [],
   "source": [
    "def make_submission(model, data):    \n",
    "    assert compete_set['shot_id'].shape[0] == 5000, compete_set.shape\n",
    "    assert compete_set['shot_id'].values[0] == 4\n",
    "    assert compete_set['shot_id'].values[-1] == 30693\n",
    "    \n",
    "    Y_comp = model.predict(data)\n",
    "    \n",
    "    out = compete_set.copy()\n",
    "    out['shot_made_flag'] = Y_comp.astype(numpy.float)\n",
    "    out.to_csv('./submission.csv', index=False, columns=['shot_id', 'shot_made_flag'])\n",
    "\n",
    "compete_set = preprocessed[pandas.isna(preprocessed['shot_made_flag'])]\n",
    "make_submission(best_model, encoder.transform(compete_set))"
   ]
  },
  {
   "cell_type": "markdown",
   "metadata": {},
   "source": [
    "# Data exploration\n",
    "\n",
    "TRY? a dimenson reduction technique to get a feel for the data. PCA/PSLR ?\n"
   ]
  },
  {
   "cell_type": "code",
   "execution_count": 155,
   "metadata": {},
   "outputs": [
    {
     "data": {
      "image/png": "[encoded data removed]",
      "text/plain": [
       "<matplotlib.figure.Figure at 0x7fda9e1cd4a8>"
      ]
     },
     "metadata": {},
     "output_type": "display_data"
    }
   ],
   "source": [
    "preprocessed.hist(column='loc_x', bins=20, figsize=(12,10), sharey=True);"
   ]
  },
  {
   "cell_type": "code",
   "execution_count": 167,
   "metadata": {},
   "outputs": [
    {
     "data": {
      "image/png": "[encoded data removed]",
      "text/plain": [
       "<matplotlib.figure.Figure at 0x7f44d0879908>"
      ]
     },
     "metadata": {},
     "output_type": "display_data"
    }
   ],
   "source": [
    "training.hist(column='shot_distance', by='combined_shot_type',\n",
    "              bins=15, range=(0.0, 30.0), figsize=(12,10), sharey=True\n",
    ");"
   ]
  },
  {
   "cell_type": "code",
   "execution_count": 169,
   "metadata": {},
   "outputs": [
    {
     "data": {
      "text/plain": [
       "<matplotlib.axes._subplots.AxesSubplot at 0x7f44d0e002b0>"
      ]
     },
     "execution_count": 169,
     "metadata": {},
     "output_type": "execute_result"
    },
    {
     "data": {
      "image/png": "[encoded data removed]",
      "text/plain": [
       "<matplotlib.figure.Figure at 0x7f44d0f78c18>"
      ]
     },
     "metadata": {},
     "output_type": "display_data"
    },
    {
     "data": {
      "image/png": "[encoded data removed]",
      "text/plain": [
       "<matplotlib.figure.Figure at 0x7f44d0ddc8d0>"
      ]
     },
     "metadata": {},
     "output_type": "display_data"
    }
   ],
   "source": [
    "training.groupby(['combined_shot_type']).agg({'shot_made_flag': 'count'}).plot(kind='bar')\n",
    "training.groupby(['combined_shot_type']).agg({'shot_made_flag': 'mean'}).plot(kind='bar')"
   ]
  },
  {
   "cell_type": "code",
   "execution_count": 173,
   "metadata": {},
   "outputs": [
    {
     "data": {
      "text/plain": [
       "<matplotlib.axes._subplots.AxesSubplot at 0x7f44d10aa278>"
      ]
     },
     "execution_count": 173,
     "metadata": {},
     "output_type": "execute_result"
    },
    {
     "data": {
      "image/png": "[encoded data removed]",
      "text/plain": [
       "<matplotlib.figure.Figure at 0x7f44d1097b70>"
      ]
     },
     "metadata": {},
     "output_type": "display_data"
    },
    {
     "data": {
      "image/png": "[encoded data removed]",
      "text/plain": [
       "<matplotlib.figure.Figure at 0x7f44d0ce1978>"
      ]
     },
     "metadata": {},
     "output_type": "display_data"
    }
   ],
   "source": [
    "shot_zone = training[training['combined_shot_type'] != 'Dunk'].groupby(['shot_zone_area'])\n",
    "shot_zone.agg({'shot_made_flag': 'count'}).plot(kind='bar')\n",
    "shot_zone.agg({'shot_made_flag': 'mean'}).plot(kind='bar')"
   ]
  },
  {
   "cell_type": "code",
   "execution_count": 150,
   "metadata": {},
   "outputs": [
    {
     "ename": "NameError",
     "evalue": "name 'training' is not defined",
     "output_type": "error",
     "traceback": [
      "\u001b[0;31m---------------------------------------------------------------------------\u001b[0m",
      "\u001b[0;31mNameError\u001b[0m                                 Traceback (most recent call last)",
      "\u001b[0;32m<ipython-input-150-5ada7f6d5226>\u001b[0m in \u001b[0;36m<module>\u001b[0;34m()\u001b[0m\n\u001b[0;32m----> 1\u001b[0;31m \u001b[0mshot_area_type\u001b[0m \u001b[0;34m=\u001b[0m \u001b[0mtraining\u001b[0m\u001b[0;34m.\u001b[0m\u001b[0mgroupby\u001b[0m\u001b[0;34m(\u001b[0m\u001b[0;34m[\u001b[0m\u001b[0;34m'shot_zone_area'\u001b[0m\u001b[0;34m,\u001b[0m \u001b[0;34m'combined_shot_type'\u001b[0m\u001b[0;34m]\u001b[0m\u001b[0;34m)\u001b[0m\u001b[0;34m\u001b[0m\u001b[0m\n\u001b[0m\u001b[1;32m      2\u001b[0m \u001b[0mshot_area_type\u001b[0m\u001b[0;34m.\u001b[0m\u001b[0magg\u001b[0m\u001b[0;34m(\u001b[0m\u001b[0;34m{\u001b[0m\u001b[0;34m'shot_made_flag'\u001b[0m\u001b[0;34m:\u001b[0m \u001b[0;34m'mean'\u001b[0m\u001b[0;34m}\u001b[0m\u001b[0;34m)\u001b[0m\u001b[0;34m.\u001b[0m\u001b[0msort_values\u001b[0m\u001b[0;34m(\u001b[0m\u001b[0mby\u001b[0m\u001b[0;34m=\u001b[0m\u001b[0;34m'shot_made_flag'\u001b[0m\u001b[0;34m,\u001b[0m \u001b[0mascending\u001b[0m\u001b[0;34m=\u001b[0m\u001b[0;32mFalse\u001b[0m\u001b[0;34m)\u001b[0m\u001b[0;34m.\u001b[0m\u001b[0mplot\u001b[0m\u001b[0;34m(\u001b[0m\u001b[0mkind\u001b[0m\u001b[0;34m=\u001b[0m\u001b[0;34m'bar'\u001b[0m\u001b[0;34m)\u001b[0m\u001b[0;34m\u001b[0m\u001b[0m\n",
      "\u001b[0;31mNameError\u001b[0m: name 'training' is not defined"
     ]
    }
   ],
   "source": [
    "shot_area_type = training.groupby(['shot_zone_area', 'combined_shot_type'])\n",
    "shot_area_type.agg({'shot_made_flag': 'mean'}).sort_values(by='shot_made_flag', ascending=False).plot(kind='bar')"
   ]
  },
  {
   "cell_type": "code",
   "execution_count": 174,
   "metadata": {},
   "outputs": [
    {
     "data": {
      "text/plain": [
       "array(['2004-05', '1997-98', '2006-07', '2012-13', '2003-04', '2005-06',\n",
       "       '2000-01', '2009-10', '2002-03', '2007-08', '2015-16', '2010-11',\n",
       "       '1998-99', '2001-02', '1999-00', '2013-14', '2008-09', '2011-12',\n",
       "       '1996-97', '2014-15'], dtype=object)"
      ]
     },
     "execution_count": 174,
     "metadata": {},
     "output_type": "execute_result"
    }
   ],
   "source": [
    "training['season'].unique()"
   ]
  },
  {
   "cell_type": "code",
   "execution_count": 175,
   "metadata": {},
   "outputs": [
    {
     "data": {
      "text/plain": [
       "<matplotlib.axes._subplots.AxesSubplot at 0x7f44d10c5470>"
      ]
     },
     "execution_count": 175,
     "metadata": {},
     "output_type": "execute_result"
    },
    {
     "data": {
      "image/png": "[encoded data removed]",
      "text/plain": [
       "<matplotlib.figure.Figure at 0x7f44d0ff88d0>"
      ]
     },
     "metadata": {},
     "output_type": "display_data"
    }
   ],
   "source": [
    "training.groupby(['season']).agg({'shot_made_flag': 'mean'}).plot(kind='bar')"
   ]
  },
  {
   "cell_type": "code",
   "execution_count": 11,
   "metadata": {},
   "outputs": [
    {
     "data": {
      "text/plain": [
       "array(['DET', 'DAL', 'HOU', 'LAC', 'SAC', 'CHA', 'GSW', 'UTA', 'MIL',\n",
       "       'IND', 'POR', 'NYK', 'NOH', 'VAN', 'NOP', 'MEM', 'OKC', 'MIN',\n",
       "       'ORL', 'NJN', 'DEN', 'CLE', 'MIA', 'SEA', 'CHI', 'SAS', 'BOS',\n",
       "       'PHX', 'WAS', 'TOR', 'PHI', 'ATL', 'BKN'], dtype=object)"
      ]
     },
     "execution_count": 11,
     "metadata": {},
     "output_type": "execute_result"
    }
   ],
   "source": [
    "training['opponent'].unique()"
   ]
  },
  {
   "cell_type": "code",
   "execution_count": 30,
   "metadata": {},
   "outputs": [
    {
     "data": {
      "text/plain": [
       "<matplotlib.axes._subplots.AxesSubplot at 0x7f44d5301c88>"
      ]
     },
     "execution_count": 30,
     "metadata": {},
     "output_type": "execute_result"
    },
    {
     "data": {
      "image/png": "[encoded data removed]",
      "text/plain": [
       "<matplotlib.figure.Figure at 0x7f44d52a74e0>"
      ]
     },
     "metadata": {},
     "output_type": "display_data"
    }
   ],
   "source": [
    "training.groupby(['opponent']).agg({'shot_made_flag': 'mean'}).plot(kind='bar')"
   ]
  },
  {
   "cell_type": "code",
   "execution_count": null,
   "metadata": {
    "collapsed": true
   },
   "outputs": [],
   "source": [
    "# BKN is an outlier, very few matches"
   ]
  },
  {
   "cell_type": "code",
   "execution_count": 202,
   "metadata": {},
   "outputs": [
    {
     "data": {
      "text/plain": [
       "<matplotlib.axes._subplots.AxesSubplot at 0x7f44d09493c8>"
      ]
     },
     "execution_count": 202,
     "metadata": {},
     "output_type": "execute_result"
    },
    {
     "data": {
      "image/png": "[encoded data removed]",
      "text/plain": [
       "<matplotlib.figure.Figure at 0x7f44d04b9fd0>"
      ]
     },
     "metadata": {},
     "output_type": "display_data"
    }
   ],
   "source": [
    "type_by_distance = training[training['combined_shot_type'] != '2Jump Shot'].groupby(['shot_distance_squared'])\n",
    "count = type_by_distance.agg({'shot_made_flag': 'count'})\n",
    "mean = type_by_distance.agg({'shot_made_flag': 'mean'})\n",
    "df = pandas.DataFrame({'count': count['shot_made_flag'], 'mean': mean['shot_made_flag']}, index=count.index)\n",
    "df.plot(secondary_y='count')"
   ]
  },
  {
   "cell_type": "code",
   "execution_count": 95,
   "metadata": {},
   "outputs": [
    {
     "data": {
      "text/plain": [
       "<matplotlib.axes._subplots.AxesSubplot at 0x7f44d3181dd8>"
      ]
     },
     "execution_count": 95,
     "metadata": {},
     "output_type": "execute_result"
    },
    {
     "data": {
      "image/png": "[encoded data removed]",
      "text/plain": [
       "<matplotlib.figure.Figure at 0x7f44d2c175f8>"
      ]
     },
     "metadata": {},
     "output_type": "display_data"
    }
   ],
   "source": [
    "training[training['shot_distance'] < 5.0].groupby(['combined_shot_type']).agg({'shot_made_flag': 'mean'}).plot(kind='bar')"
   ]
  },
  {
   "cell_type": "code",
   "execution_count": 292,
   "metadata": {},
   "outputs": [
    {
     "name": "stdout",
     "output_type": "stream",
     "text": [
      "d [ 0.  2.  7. 12. 15. 17. 19. 23. 25. 79.]\n",
      "e 0 2.0\n",
      "e 10 2.0\n",
      "e 10 7.0\n",
      "e 10 12.0\n",
      "e 26 2.0\n",
      "e 26 7.0\n",
      "e 26 12.0\n",
      "e 26 15.0\n",
      "e 26 17.0\n",
      "e 26 19.0\n",
      "e 26 23.0\n",
      "e 26 25.0\n",
      "e 26 79.0\n",
      "e 26 2.0\n",
      "e 26 7.0\n",
      "e 26 12.0\n",
      "e 26 15.0\n",
      "e 26 17.0\n",
      "e 26 19.0\n",
      "e 26 23.0\n",
      "e 26 25.0\n",
      "e 26 79.0\n",
      "e 0 2.0\n",
      "e 0 2.0\n",
      "e 25 2.0\n",
      "e 25 7.0\n",
      "e 25 12.0\n",
      "e 25 15.0\n",
      "e 25 17.0\n",
      "e 25 19.0\n",
      "e 25 23.0\n",
      "e 25 25.0\n",
      "e 25 79.0\n",
      "e 3 2.0\n",
      "e 3 7.0\n",
      "e 17 2.0\n",
      "e 17 7.0\n",
      "e 17 12.0\n",
      "e 17 15.0\n",
      "e 17 17.0\n",
      "e 17 19.0\n",
      "e 0 2.0\n"
     ]
    },
    {
     "data": {
      "text/html": [
       "<div>\n",
       "<style scoped>\n",
       "    .dataframe tbody tr th:only-of-type {\n",
       "        vertical-align: middle;\n",
       "    }\n",
       "\n",
       "    .dataframe tbody tr th {\n",
       "        vertical-align: top;\n",
       "    }\n",
       "\n",
       "    .dataframe thead th {\n",
       "        text-align: right;\n",
       "    }\n",
       "</style>\n",
       "<table border=\"1\" class=\"dataframe\">\n",
       "  <thead>\n",
       "    <tr style=\"text-align: right;\">\n",
       "      <th></th>\n",
       "      <th>shot_distance</th>\n",
       "      <th>distance_class</th>\n",
       "    </tr>\n",
       "  </thead>\n",
       "  <tbody>\n",
       "    <tr>\n",
       "      <th>5862</th>\n",
       "      <td>0</td>\n",
       "      <td>0</td>\n",
       "    </tr>\n",
       "    <tr>\n",
       "      <th>20287</th>\n",
       "      <td>10</td>\n",
       "      <td>2</td>\n",
       "    </tr>\n",
       "    <tr>\n",
       "      <th>9367</th>\n",
       "      <td>26</td>\n",
       "      <td>8</td>\n",
       "    </tr>\n",
       "    <tr>\n",
       "      <th>16878</th>\n",
       "      <td>26</td>\n",
       "      <td>8</td>\n",
       "    </tr>\n",
       "    <tr>\n",
       "      <th>4486</th>\n",
       "      <td>0</td>\n",
       "      <td>0</td>\n",
       "    </tr>\n",
       "    <tr>\n",
       "      <th>9591</th>\n",
       "      <td>0</td>\n",
       "      <td>0</td>\n",
       "    </tr>\n",
       "    <tr>\n",
       "      <th>7325</th>\n",
       "      <td>25</td>\n",
       "      <td>8</td>\n",
       "    </tr>\n",
       "    <tr>\n",
       "      <th>9019</th>\n",
       "      <td>3</td>\n",
       "      <td>1</td>\n",
       "    </tr>\n",
       "    <tr>\n",
       "      <th>688</th>\n",
       "      <td>17</td>\n",
       "      <td>5</td>\n",
       "    </tr>\n",
       "    <tr>\n",
       "      <th>13191</th>\n",
       "      <td>0</td>\n",
       "      <td>0</td>\n",
       "    </tr>\n",
       "  </tbody>\n",
       "</table>\n",
       "</div>"
      ],
      "text/plain": [
       "       shot_distance  distance_class\n",
       "5862               0               0\n",
       "20287             10               2\n",
       "9367              26               8\n",
       "16878             26               8\n",
       "4486               0               0\n",
       "9591               0               0\n",
       "7325              25               8\n",
       "9019               3               1\n",
       "688               17               5\n",
       "13191              0               0"
      ]
     },
     "execution_count": 292,
     "metadata": {},
     "output_type": "execute_result"
    }
   ],
   "source": []
  },
  {
   "cell_type": "code",
   "execution_count": 251,
   "metadata": {},
   "outputs": [
    {
     "data": {
      "text/plain": [
       "<matplotlib.axes._subplots.AxesSubplot at 0x7f44d0630400>"
      ]
     },
     "execution_count": 251,
     "metadata": {},
     "output_type": "execute_result"
    },
    {
     "data": {
      "image/png": "[encoded data removed]",
      "text/plain": [
       "<matplotlib.figure.Figure at 0x7f44d0646b38>"
      ]
     },
     "metadata": {},
     "output_type": "display_data"
    }
   ],
   "source": [
    "training.groupby(['period']).agg({'shot_made_flag': 'mean'}).plot(kind='bar')"
   ]
  },
  {
   "cell_type": "code",
   "execution_count": null,
   "metadata": {
    "collapsed": true
   },
   "outputs": [],
   "source": []
  }
 ],
 "metadata": {
  "kernelspec": {
   "display_name": "Python 3",
   "language": "python",
   "name": "python3"
  },
  "language_info": {
   "codemirror_mode": {
    "name": "ipython",
    "version": 3
   },
   "file_extension": ".py",
   "mimetype": "text/x-python",
   "name": "python",
   "nbconvert_exporter": "python",
   "pygments_lexer": "ipython3",
   "version": "3.6.4"
  }
 },
 "nbformat": 4,
 "nbformat_minor": 2
}
