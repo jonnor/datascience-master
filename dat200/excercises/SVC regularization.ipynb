{
 "cells": [
  {
   "cell_type": "markdown",
   "metadata": {},
   "source": [
    "## SVC"
   ]
  },
  {
   "cell_type": "code",
   "execution_count": 50,
   "metadata": {},
   "outputs": [],
   "source": [
    "%matplotlib inline\n",
    "import numpy\n",
    "import pandas\n",
    "import matplotlib.pyplot as plt\n",
    "from sklearn.svm import SVC\n",
    "from sklearn.model_selection import train_test_split \n",
    "import sklearn.datasets\n",
    "import sklearn.metrics\n",
    "import sklearn.preprocessing"
   ]
  },
  {
   "cell_type": "code",
   "execution_count": 15,
   "metadata": {},
   "outputs": [
    {
     "data": {
      "text/plain": [
       "(array([[5.1, 3.5, 1.4, 0.2],\n",
       "        [4.9, 3. , 1.4, 0.2],\n",
       "        [4.7, 3.2, 1.3, 0.2]]), array([0, 0, 0]))"
      ]
     },
     "execution_count": 15,
     "metadata": {},
     "output_type": "execute_result"
    }
   ],
   "source": [
    "iris = sklearn.datasets.load_iris()\n",
    "iris.data[:3], iris.target[:3]"
   ]
  },
  {
   "cell_type": "code",
   "execution_count": 31,
   "metadata": {},
   "outputs": [
    {
     "data": {
      "text/plain": [
       "matrix([[1., 0., 0.],\n",
       "        [1., 0., 0.],\n",
       "        [1., 0., 0.]])"
      ]
     },
     "execution_count": 31,
     "metadata": {},
     "output_type": "execute_result"
    }
   ],
   "source": [
    "labelencoder = sklearn.preprocessing.OneHotEncoder()\n",
    "Y_labeled = labelencoder.fit_transform(iris.target.reshape(-1,1)).todense()\n",
    "Y_labeled[:3]"
   ]
  },
  {
   "cell_type": "code",
   "execution_count": 60,
   "metadata": {},
   "outputs": [],
   "source": [
    "\n",
    "def train_svc(X, Y, C, gamma):\n",
    "    model = SVC(kernel='rbf', C=C, gamma=gamma)\n",
    "    model.fit(X, Y)\n",
    "    return model\n",
    "\n",
    "# TODO: use exponential size\n",
    "CC = numpy.linspace(0.1, 1.0, 15)\n",
    "gammas = numpy.linspace(0.1, 2.0, 15)\n",
    "res_shape = len(CC), len(gammas)\n",
    "training_accuracy = numpy.ndarray(res_shape) \n",
    "testing_accuracy = numpy.ndarray(res_shape)\n",
    "\n",
    "#print(iris.data.shape, Y_labeled.shape)\n",
    "\n",
    "for c_idx, C in enumerate(CC):\n",
    "    for gamma_idx, gamma in enumerate(gammas):\n",
    "        trains = []\n",
    "        tests = []\n",
    "        for seed in range(0, 100):\n",
    "            X_train, X_test, Y_train, Y_test = train_test_split(iris.data, iris.target, test_size=0.3, random_state=seed)\n",
    "\n",
    "            model = train_svc(X_train, Y_train, C, gamma)\n",
    "            Y_pred = model.predict(X_test)\n",
    "            \n",
    "            te = sklearn.metrics.accuracy_score(Y_test, Y_pred)\n",
    "            tr = model.score(X_train, Y_train)\n",
    "\n",
    "            trains.append(tr)\n",
    "            tests.append(te)\n",
    "    \n",
    "        training_accuracy[c_idx][gamma_idx] = numpy.average(trains)\n",
    "        testing_accuracy[c_idx][gamma_idx] = numpy.average(tests)\n",
    "        "
   ]
  },
  {
   "cell_type": "code",
   "execution_count": 64,
   "metadata": {},
   "outputs": [
    {
     "data": {
      "text/plain": [
       "Text(0.5,1,'Testing accuracy')"
      ]
     },
     "execution_count": 64,
     "metadata": {},
     "output_type": "execute_result"
    },
    {
     "data": {
      "image/png": "[encoded data removed]",
      "text/plain": [
       "<matplotlib.figure.Figure at 0x7efdc27953c8>"
      ]
     },
     "metadata": {},
     "output_type": "display_data"
    }
   ],
   "source": [
    "fig, [train_plot, test_plot] = plt.subplots(ncols=2,figsize=(12,12))\n",
    "train_plot.imshow(training_accuracy)\n",
    "train_plot.set_title('Training accuracy')\n",
    "test_plot.imshow(testing_accuracy)\n",
    "test_plot.set_title('Testing accuracy')"
   ]
  },
  {
   "cell_type": "markdown",
   "metadata": {},
   "source": [
    "Training accuracy goes up with increasing C and gamma.\n",
    "\n",
    "Testing accuracy also goes up with increasing C and gamma, until a point, then it starts decreasing again.\n",
    "This decrease in testing accuracy suggest that the model has been overfitted to the training data."
   ]
  },
  {
   "cell_type": "code",
   "execution_count": null,
   "metadata": {
    "collapsed": true
   },
   "outputs": [],
   "source": []
  }
 ],
 "metadata": {
  "kernelspec": {
   "display_name": "Python 3",
   "language": "python",
   "name": "python3"
  },
  "language_info": {
   "codemirror_mode": {
    "name": "ipython",
    "version": 3
   },
   "file_extension": ".py",
   "mimetype": "text/x-python",
   "name": "python",
   "nbconvert_exporter": "python",
   "pygments_lexer": "ipython3",
   "version": "3.6.4"
  }
 },
 "nbformat": 4,
 "nbformat_minor": 2
}
