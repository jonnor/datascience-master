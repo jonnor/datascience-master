{
 "cells": [
  {
   "cell_type": "markdown",
   "metadata": {},
   "source": [
    "# INF221 Assignment 1\n",
    "Jon Nordby, September 2017"
   ]
  },
  {
   "cell_type": "code",
   "execution_count": 5,
   "metadata": {
    "collapsed": true
   },
   "outputs": [],
   "source": [
    "#%load_ext line_profiler\n",
    "\n",
    "%matplotlib inline\n",
    "import matplotlib\n",
    "matplotlib.rcParams['figure.figsize'] = (12, 5)\n",
    "\n",
    "import math\n",
    "import random\n",
    "import time\n",
    "\n",
    "import numpy\n",
    "import pandas"
   ]
  },
  {
   "cell_type": "markdown",
   "metadata": {},
   "source": [
    "# Exercise 1\n",
    "\n",
    "Other than speed, what other measures of efficiency might one use in a real-world setting?"
   ]
  },
  {
   "cell_type": "markdown",
   "metadata": {
    "collapsed": true
   },
   "source": [
    "Here are some considerations other than execution speed of an algorithm:\n",
    "\n",
    "#### Memory efficiency\n",
    "\n",
    "A more memory efficient program may solve a bigger problem with a given amount of memory.\n",
    "Even when there is sufficient memory, a more memory efficient algorithm may more often fit into the much faster memory caches of the processor.\n",
    "\n",
    "#### Parallelizability\n",
    "\n",
    "A single processor may not have the memory or processing power to perform a task in the desired amount of time. For big problem sizes, the ability to make efficient use of multiple processors (CPU, GPU) and multiple machines is critical.\n",
    "\n",
    "#### Throughput versus latency\n",
    "\n",
    "In some applications high throughput is desirable: perform as many tasks as possible per unit of time.\n",
    "In other applications, low latency is desirable: complete each task in the lowest amount of time.\n",
    "\n",
    "#### Bounded latency\n",
    "\n",
    "In a realtime applications, tasks either *should* (soft-realtime) or *must* be completed within a give timeframe.\n",
    "\n",
    "For soft-realtime application, like drawing the next frame of a computer game, efficiency can be how often (statistically) the program can maintain its deadline.\n",
    "\n",
    "For hard-realtime, like a robot that acts on moving objects, the worst-case performance must always within the deadline.\n",
    "\n",
    "#### Resumability and cancelability\n",
    "\n",
    "In interactive application it may be desirable to show partial or in-progress results of a long-running computation. Where the inputs of such computations can be change rapidly, it is desirable to be able to cancel existing computations without running them to completion.\n",
    "\n",
    "#### Energy usage\n",
    "\n",
    "Many computing devices are energy constrained, either because they run on battery or have limited thermal budget.\n",
    "How a program is written can have big impacts on how energy efficient the device is. \n"
   ]
  },
  {
   "cell_type": "markdown",
   "metadata": {},
   "source": [
    "# Exercise 2\n",
    "For inputs of size `n`, insertion sort runs in `8n^2` steps, while merge sort runs in `64 n log(n)`.\n",
    "\n",
    "For which values of `n` does insertion sort beat merge sort?"
   ]
  },
  {
   "cell_type": "code",
   "execution_count": 71,
   "metadata": {},
   "outputs": [
    {
     "data": {
      "text/plain": [
       "<matplotlib.axes._subplots.AxesSubplot at 0x7f2667d86898>"
      ]
     },
     "execution_count": 71,
     "metadata": {},
     "output_type": "execute_result"
    },
    {
     "data": {
      "image/png": "[encoded data removed]",
      "text/plain": [
       "<matplotlib.figure.Figure at 0x7f2667eb96a0>"
      ]
     },
     "metadata": {},
     "output_type": "display_data"
    }
   ],
   "source": [
    "def insertion_sort_complexity(n):\n",
    "    return 8*(n**2)\n",
    "def merge_sort_complexity(n):\n",
    "    if n == 0:\n",
    "        return 0\n",
    "    return 64*n*math.log(n, 2)\n",
    "\n",
    "N = 100\n",
    "series = {\n",
    "    'Insertion sort': list(insertion_sort_complexity(n) for n in range(N)),\n",
    "    'Merge sort': list(merge_sort_complexity(n) for n in range(N)),\n",
    "}\n",
    "f = pandas.DataFrame(data=series, index=range(N))\n",
    "f.plot()"
   ]
  },
  {
   "cell_type": "markdown",
   "metadata": {},
   "source": [
    "Theoretically merge sort should be faster than insertion sort for N < 42"
   ]
  },
  {
   "cell_type": "markdown",
   "metadata": {},
   "source": [
    "## Experimental results in Python"
   ]
  },
  {
   "cell_type": "markdown",
   "metadata": {},
   "source": [
    "### Merge sort"
   ]
  },
  {
   "cell_type": "code",
   "execution_count": 65,
   "metadata": {
    "collapsed": true
   },
   "outputs": [],
   "source": [
    "# The most simplest fast-ish implementation of mergesort I could find\n",
    "# From http://interactivepython.org/courselib/static/pythonds/SortSearch/TheMergeSort.html\n",
    "# As authors note, the slicing operations ( alist[:mid] ) is O(k) runtime complexity with size of slice\n",
    "# However for small values of k compared here, it is not a significant bottleneck (checked with profiler)\n",
    "def merge_sort(alist):\n",
    "    if len(alist) > 1:\n",
    "        mid = len(alist)//2\n",
    "        lefthalf = alist[:mid]\n",
    "        righthalf = alist[mid:]\n",
    "\n",
    "        merge_sort(lefthalf)\n",
    "        merge_sort(righthalf)\n",
    "\n",
    "        i=0\n",
    "        j=0\n",
    "        k=0\n",
    "        left_len = len(lefthalf)\n",
    "        right_len = len(righthalf)\n",
    "        while i < left_len and j < right_len:\n",
    "            if lefthalf[i] < righthalf[j]:\n",
    "                alist[k]=lefthalf[i]\n",
    "                i=i+1\n",
    "            else:\n",
    "                alist[k]=righthalf[j]\n",
    "                j=j+1\n",
    "            k=k+1\n",
    "\n",
    "        while i < left_len:\n",
    "            alist[k]=lefthalf[i]\n",
    "            i=i+1\n",
    "            k=k+1\n",
    "\n",
    "        while j < right_len:\n",
    "            alist[k]=righthalf[j]\n",
    "            j=j+1\n",
    "            k=k+1\n",
    "\n",
    "    return alist\n",
    "\n",
    "def test_merge(N, runs, check_correctness=True):\n",
    "    for r in range(runs):\n",
    "        i = list(random.randint(-N, N) for n in range(N))\n",
    "        s = merge_sort(i)\n",
    "        if check_correctness:\n",
    "            r = sorted(i)\n",
    "            assert s == r, \"%s: %s != %s\" % (i, s, r)\n",
    "\n",
    "#%timeit test_merge(50, 100)\n",
    "%lprun -f merge_sort test_merge(5000, 10)"
   ]
  },
  {
   "cell_type": "markdown",
   "metadata": {},
   "source": [
    "### Insertion sort"
   ]
  },
  {
   "cell_type": "code",
   "execution_count": 49,
   "metadata": {},
   "outputs": [
    {
     "name": "stdout",
     "output_type": "stream",
     "text": [
      "10 loops, best of 3: 67 ms per loop\n"
     ]
    }
   ],
   "source": [
    "def insertion_sort(s):\n",
    "    for i in range(1, len(s)):\n",
    "        val = s[i]\n",
    "        j = i - 1\n",
    "        while j >= 0 and s[j] > val:\n",
    "            s[j+1] = s[j]\n",
    "            j = j - 1\n",
    "        s[j+1] = val\n",
    "    return s\n",
    "\n",
    "def test_insertion(N, runs, check_correctness=True):\n",
    "    for r in range(runs):\n",
    "        i = list(random.randint(-N, N) for n in range(N))\n",
    "        s = insertion_sort(i)\n",
    "        if check_correctness:\n",
    "            r = sorted(i)\n",
    "            assert s == r\n",
    "\n",
    "%timeit test_insertion(50, 100)"
   ]
  },
  {
   "cell_type": "markdown",
   "metadata": {},
   "source": [
    "Testing shows a cross-over point in runtime for these implementations slightly higher than the theoretical value, around 50 instead of 42.\n",
    "\n",
    "It could be that our constants (8, 64) would need to be tweaked to fit our real-life implementations. Some of this could be due to the constant-time initialization of test data which is also part of the measurement."
   ]
  },
  {
   "cell_type": "code",
   "execution_count": 80,
   "metadata": {},
   "outputs": [
    {
     "data": {
      "text/plain": [
       "<matplotlib.axes._subplots.AxesSubplot at 0x7f26678b7080>"
      ]
     },
     "execution_count": 80,
     "metadata": {},
     "output_type": "execute_result"
    },
    {
     "data": {
      "image/png": "[encoded data removed]",
      "text/plain": [
       "<matplotlib.figure.Figure at 0x7f2667934c50>"
      ]
     },
     "metadata": {},
     "output_type": "display_data"
    }
   ],
   "source": [
    "insert_times = []\n",
    "merge_times = []\n",
    "ns = range(1, 1000, 25)\n",
    "for n in ns:\n",
    "    runs = 10\n",
    "    \n",
    "    before_insert = time.perf_counter()\n",
    "    test_insertion(n, runs, check_correctness=False)\n",
    "    after_insert = time.perf_counter()\n",
    "    \n",
    "    before_merge = time.perf_counter()\n",
    "    test_merge(n, runs, check_correctness=False)\n",
    "    after_merge = time.perf_counter()\n",
    "    \n",
    "    insert_times.append((after_insert - before_insert)*1000)\n",
    "    merge_times.append((after_merge - before_merge)*1000)\n",
    "    \n",
    "actual = {\n",
    "    'Insertion sort': insert_times,\n",
    "    'Merge sort': merge_times,\n",
    "}\n",
    "f = pandas.DataFrame(data=actual, index=ns)\n",
    "f.plot()"
   ]
  },
  {
   "cell_type": "markdown",
   "metadata": {},
   "source": [
    "Experimental results for slightly larger N confirms that merge sort beats the insertion. At N=1000, a very small list by computer standards, the difference is already more than one order of magnitude."
   ]
  },
  {
   "cell_type": "markdown",
   "metadata": {},
   "source": [
    "# Exercise 3\n",
    "What is the smallest value of `n` such that an algorithm whose running time is `100*n^2` is faster than an algorithm whose running time is `2^n` on the same machine?"
   ]
  },
  {
   "cell_type": "code",
   "execution_count": 83,
   "metadata": {},
   "outputs": [
    {
     "data": {
      "text/plain": [
       "<matplotlib.axes._subplots.AxesSubplot at 0x7f266764c048>"
      ]
     },
     "execution_count": 83,
     "metadata": {},
     "output_type": "execute_result"
    },
    {
     "data": {
      "image/png": "[encoded data removed]",
      "text/plain": [
       "<matplotlib.figure.Figure at 0x7f26678e8080>"
      ]
     },
     "metadata": {},
     "output_type": "display_data"
    }
   ],
   "source": [
    "def quadratic(n):\n",
    "    return 100*n**2\n",
    "def exponential(n):\n",
    "    return math.pow(2, n)\n",
    "\n",
    "N = 18\n",
    "series = {\n",
    "    'Quadratic (100*n^2)': list(quadratic(n) for n in range(N)),\n",
    "    'Exponential (2^n)': list(exponential(n) for n in range(N)),\n",
    "}\n",
    "df = pandas.DataFrame(data=series)\n",
    "df.plot(xticks=range(N))"
   ]
  },
  {
   "cell_type": "markdown",
   "metadata": {},
   "source": [
    "It appears that N=15 is the smallest value where a computation with runtime `100*n^2` is faster than one with runtime `2^n`."
   ]
  },
  {
   "cell_type": "markdown",
   "metadata": {},
   "source": [
    "# Exercise 4\n",
    "\n",
    "Consider the searching problem:\n",
    "\n",
    "**Input**: A sequence of `n` numbers: `A = a_1, a_2, …, a_n` and a value `v`\n",
    "\n",
    "**Output**: An index `i` such that `v = A[i]`, or the special value `NIL` if `v` does not appear in `A`.\n",
    "\n",
    "Write pseudocode for linear search, which scans through the sequence, looking for `v`. Using a loop invariant, prove that the algorithm is correct. Make sure your loop invariant fulfills the three necessary properties."
   ]
  },
  {
   "cell_type": "code",
   "execution_count": 17,
   "metadata": {
    "collapsed": true
   },
   "outputs": [],
   "source": [
    "# Using Python is executable pseudo-code :)\n",
    "def find_value(A, v):\n",
    "    found = None\n",
    "    i = 0\n",
    "    L = len(A)\n",
    "    while i < L and found is None:\n",
    "        if A[i] == v:\n",
    "            found = i\n",
    "        else:\n",
    "            i += 1\n",
    "\n",
    "    return found"
   ]
  },
  {
   "cell_type": "markdown",
   "metadata": {},
   "source": [
    "This is a mostly standard implementation of a linear search using a while statement.\n",
    "However, instead of returning i directly when found (`if A[i] == v: return i`)\n",
    "we have lifted the termination check into the loop guard (`found is None`)\n",
    "to only have a single exit from the function."
   ]
  },
  {
   "cell_type": "markdown",
   "metadata": {},
   "source": [
    "#### Choosing the loop invariant\n",
    "\n",
    "For the loop invariant to be useful, it should be chosen such that when the loop terminates *(I & !G)*, then our desired post-condition *P* must hold. `I & !G ==> P`\n",
    "\n",
    "* (G)uard: `i < L and found is None`\n",
    "* (P)ost-condition: `v = A[i] or NIL if v not in A`\n",
    "* Loop (I)nvariant: `v not in A[0:i]`, where 0:i is up-until, but-not-including i\n",
    "\n",
    "Analysing the implementation on the normal case of a *non-zero length* array.\n",
    "\n",
    "#### Initialization\n",
    "\n",
    "Before entering the loop we have `i=0`. The set `A[0:i]` is `A[0:0]` i.e the empty set and cannot contain `v`. The invariant holds.\n",
    "\n",
    "#### Maintenance\n",
    "\n",
    "After an iteration of the loop, the value may have been found or not.\n",
    "\n",
    "If the value was found, `A[0:i]` is `A[0:0]` which cannot contain `v`. The loop invariant holds.\n",
    "\n",
    "If the value was not found, then i is incremented by 1. `A[0:i]` is `A[0:1]`, is `A[0]`, which did not contain the value. The loop invariant holds.\n",
    "\n",
    "\n",
    "#### Termination\n",
    "\n",
    "The loop will terminate when `i < L` becomes `False`, or if `found is None` becomes `False`. `L` is a constant number, never modified in the loop. If the value is found, then found is set to a number `i` which is not None and it terminates. Otherwise `i` is incremented by 1, which progresses towards falsifying `i<L` and will terminate."
   ]
  },
  {
   "cell_type": "markdown",
   "metadata": {},
   "source": [
    "# Appendix A: Property-based testing\n",
    "\n",
    "Property-based testing allows automatically generating a range of testcases. It requires specifying a generator of valid inputs, and a function which can check the invariants of the code under test for any such input.\n",
    "\n",
    "Libraries exist that can aid in this style of testing, including [Hypothesis](https://hypothesis.readthedocs.io/en/latest/). Many include automatic testcase reduction for disproved cases, stemming from the original Quickcheck. Here we do it the manual way, without any special libraries.\n",
    "\n",
    "These tests were used to verify correctness when playing with different search implementations"
   ]
  },
  {
   "cell_type": "code",
   "execution_count": 6,
   "metadata": {
    "collapsed": true
   },
   "outputs": [],
   "source": [
    "# Create randomized but valid test input. \n",
    "def generate_input():\n",
    "    N = random.randint(0, 100)\n",
    "    def rand():\n",
    "        return random.randint(-N, N)\n",
    "\n",
    "    v = rand()\n",
    "    # Make it semi-likely that v exists in L\n",
    "    L = list(rand() for n in range(N*2))\n",
    "    return (L, v)\n",
    "\n",
    "# Helper: Get L[idx], without exploding when idx does not exist in L\n",
    "def list_get(L, idx, default=None):\n",
    "    try:\n",
    "        return L[idx]\n",
    "    except IndexError:\n",
    "        return default\n",
    "\n",
    "# Built-in index() function of Python lists is our definition of truth, an oracle\n",
    "def oracle_find(A, v):\n",
    "    try:\n",
    "        return A.index(v)\n",
    "    except ValueError:\n",
    "        return None # not found\n",
    "    \n",
    "# Check that the @index found is correct\n",
    "# If not, raises AssertionError\n",
    "def verify_result(L, v, index):\n",
    "    # Obeys postcondition?\n",
    "    if index is not None:\n",
    "        # Invariant: A[i] = v\n",
    "        assert L[index] == v, \"Search returned i=%d, but A[i] != v: %d != %d\" % (index, list_get(L, index), v) \n",
    "    else:\n",
    "        # Invariant: NIL -> v does not exist in L\n",
    "        assert v not in L, \"Search did not find v, but v=%d exists in L at %d\" % (v, L.index(v))\n",
    "\n",
    "    # Oracle agrees?\n",
    "    i_oracle = oracle_find(L, v)\n",
    "    assert i_oracle == index, \"Orace says %d, search returned %d\" % (i_oracle, index)\n",
    "\n",
    "def property_test(testee):\n",
    "    A, v = generate_input()\n",
    "    i_ours = testee(A, v)\n",
    "    verify_result(A, v, i_ours)\n",
    "    return \"not in A\" if i_ours is None else \"%d %d == %d: %s\" % (len(A), A[i_ours], v, str(A[i_ours] == v))\n",
    "\n",
    "# Run a range of tests against @func\n",
    "def test_search(func):\n",
    "    return list(property_test(func) for i in range(0, 50))\n",
    "\n",
    "# like unittest.TestCase.assertRaises(), just as a free-standing function\n",
    "def assert_raises(func, expected, *args, **kwargs):\n",
    "    try:\n",
    "        func(*args, **kwargs) \n",
    "    except Exception as e:\n",
    "        message = str(e)\n",
    "        assert expected in message, \"Exception message '%s' did not match expected '%s'\" % (message, expected) \n",
    "    else:\n",
    "        raise AssertionError(\"Function did not raise any Exception\")"
   ]
  },
  {
   "cell_type": "markdown",
   "metadata": {},
   "source": [
    "Check that our tests fails buggy implementations:"
   ]
  },
  {
   "cell_type": "code",
   "execution_count": 7,
   "metadata": {},
   "outputs": [
    {
     "data": {
      "text/plain": [
       "'tests catches the bugs'"
      ]
     },
     "execution_count": 7,
     "metadata": {},
     "output_type": "execute_result"
    }
   ],
   "source": [
    "# Some incorrect search functions\n",
    "def find_value_fail_nofound(A, v):\n",
    "    for i in range(0, len(A)):\n",
    "        if A[i] == v:\n",
    "            return i\n",
    "    return -1 # BUG: incorrect sentinel value\n",
    "\n",
    "def find_value_inverted(A, v):\n",
    "    for i, a in enumerate(A):\n",
    "        if a != v: # BUG: inverted condition\n",
    "            return i\n",
    "    return None\n",
    "\n",
    "def find_value_noiter(A, v):\n",
    "    for i in range(len(A), 0): # BUG: range parameters flipped\n",
    "        if A[i] == v:\n",
    "            return i\n",
    "    return None\n",
    "\n",
    "assert_raises(lambda : test_search(find_value_inverted), \"A[i] != v\")\n",
    "assert_raises(lambda : test_search(find_value_fail_nofound), \"A[i] != v\")\n",
    "assert_raises(lambda : test_search(find_value_noiter), \"did not find v\")\n",
    "\n",
    "'tests catches the bugs'"
   ]
  },
  {
   "cell_type": "markdown",
   "metadata": {},
   "source": [
    "Testing that correct implementations pass:"
   ]
  },
  {
   "cell_type": "code",
   "execution_count": 18,
   "metadata": {},
   "outputs": [
    {
     "data": {
      "text/plain": [
       "'all tests passed'"
      ]
     },
     "execution_count": 18,
     "metadata": {},
     "output_type": "execute_result"
    }
   ],
   "source": [
    "def find_value_for_range(A, v):\n",
    "    for i in range(0, len(A)):\n",
    "        if A[i] == v:\n",
    "            return i\n",
    "    return None\n",
    "\n",
    "def find_value_while(A, v):\n",
    "    i = 0\n",
    "    L = len(A)\n",
    "    while i < L:\n",
    "        if A[i] == v:\n",
    "            # because return breaks out of loop, i is not incremented\n",
    "            # Unclear how this reacts with loop invariant\n",
    "            return i\n",
    "        i += 1\n",
    "\n",
    "    return None\n",
    "\n",
    "test_search(find_value)\n",
    "test_search(find_value_while)\n",
    "test_search(find_value_for_range)\n",
    "\n",
    "'all tests passed'"
   ]
  },
  {
   "cell_type": "markdown",
   "metadata": {},
   "source": [
    "# Appendix B: Design-by-contracts\n",
    "\n",
    "Languages like Eiffel have integrated support for checking loop invariants, as well as function pre- and post-conditions. This automatically inserts checks at runtime from the specifications used by proofs.\n",
    "We can get something similar in Python if we use our own `while` function."
   ]
  },
  {
   "cell_type": "code",
   "execution_count": 23,
   "metadata": {},
   "outputs": [],
   "source": [
    "# A while loop that ensures \n",
    "def while_loop(vars, guard, body, loop_invariants):\n",
    "    loop_invariants(**vars) # initial\n",
    "    while guard(**vars):\n",
    "        loop_invariants(**vars) # each time\n",
    "        body(vars, **vars)\n",
    "\n",
    "def check_loop_invariants(A, v, i, **_):\n",
    "    visited = A[0:max(i, 0)]\n",
    "    assert v not in visited, \"Value v=%d exists in parts of A already visited at %d. i=%d \" % (v, visited.index(v), i)\n",
    "\n",
    "def check_postconditions(A, v, found, **_):\n",
    "    if found is None:\n",
    "        assert v not in A\n",
    "    else:\n",
    "        assert A[found] == v\n",
    "\n",
    "def check_preconditions(A, v, **_):\n",
    "    def is_integer(obj):\n",
    "        integers = (int,)\n",
    "        return isinstance(v, integers)\n",
    "    assert is_integer(v)\n",
    "    assert all(map(is_integer, A))\n",
    "\n",
    "# A very non-Pythonic implementation of find_value_single_exit()\n",
    "def guard(A, v, i, found):\n",
    "    return i < len(A) and found is None\n",
    "\n",
    "def body(out, A, i, v, **_):\n",
    "    if A[i] == v:\n",
    "        out['found'] = i\n",
    "    else:\n",
    "        out['i'] += 1\n",
    "\n",
    "def find_value_functional(A, v):\n",
    "    check_preconditions(A, v)\n",
    "    vars = {\n",
    "        'A': A,\n",
    "        'v': v,\n",
    "        'i': 0,\n",
    "        'found': None\n",
    "    }\n",
    "    while_loop(vars, guard, body, check_loop_invariants)\n",
    "    \n",
    "    check_postconditions(**vars)\n",
    "    return vars['found']\n",
    "\n",
    "test_search(find_value_functional);"
   ]
  },
  {
   "cell_type": "markdown",
   "metadata": {},
   "source": [
    "If we inject a fault in the function instrumented to check loop-invariant at runtime, then it catches the bug before we even returns a result for the tests to check. Integrating checking into the code itself is a defensive programming strategy."
   ]
  },
  {
   "cell_type": "code",
   "execution_count": 24,
   "metadata": {},
   "outputs": [
    {
     "data": {
      "text/plain": [
       "'bug caught by loop invariant'"
      ]
     },
     "execution_count": 24,
     "metadata": {},
     "output_type": "execute_result"
    }
   ],
   "source": [
    "# Inject fault into find_value_functional\n",
    "working = body\n",
    "def broken(out, A, i, v, **_):\n",
    "    #out['found'] = i if A[i] == v else None\n",
    "    out['i'] += 1\n",
    "body = broken\n",
    "\n",
    "# Check that our loop invariant check catches it\n",
    "assert_raises(lambda : test_search(find_value_functional), \"exists in parts of A already visited\")\n",
    "body = working\n",
    "\n",
    "'bug caught by loop invariant'"
   ]
  },
  {
   "cell_type": "code",
   "execution_count": null,
   "metadata": {
    "collapsed": true
   },
   "outputs": [],
   "source": []
  }
 ],
 "metadata": {
  "kernelspec": {
   "display_name": "Python 3",
   "language": "python",
   "name": "python3"
  },
  "language_info": {
   "codemirror_mode": {
    "name": "ipython",
    "version": 3
   },
   "file_extension": ".py",
   "mimetype": "text/x-python",
   "name": "python",
   "nbconvert_exporter": "python",
   "pygments_lexer": "ipython3",
   "version": "3.6.2"
  }
 },
 "nbformat": 4,
 "nbformat_minor": 2
}
