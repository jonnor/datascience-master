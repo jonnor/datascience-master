{
 "cells": [
  {
   "cell_type": "code",
   "execution_count": 347,
   "metadata": {},
   "outputs": [],
   "source": [
    "%matplotlib inline\n",
    "import sklearn\n",
    "import pandas\n",
    "import numpy\n",
    "import matplotlib.pyplot as plt\n",
    "\n",
    "import trackml.dataset\n",
    "import trackml.score\n",
    "\n",
    "import os.path\n",
    "import sys"
   ]
  },
  {
   "cell_type": "code",
   "execution_count": 348,
   "metadata": {},
   "outputs": [
    {
     "data": {
      "text/html": [
       "<div>\n",
       "<style scoped>\n",
       "    .dataframe tbody tr th:only-of-type {\n",
       "        vertical-align: middle;\n",
       "    }\n",
       "\n",
       "    .dataframe tbody tr th {\n",
       "        vertical-align: top;\n",
       "    }\n",
       "\n",
       "    .dataframe thead th {\n",
       "        text-align: right;\n",
       "    }\n",
       "</style>\n",
       "<table border=\"1\" class=\"dataframe\">\n",
       "  <thead>\n",
       "    <tr style=\"text-align: right;\">\n",
       "      <th></th>\n",
       "      <th>hit_id</th>\n",
       "      <th>x</th>\n",
       "      <th>y</th>\n",
       "      <th>z</th>\n",
       "      <th>volume_id</th>\n",
       "      <th>layer_id</th>\n",
       "      <th>module_id</th>\n",
       "      <th>particle_id</th>\n",
       "      <th>tx</th>\n",
       "      <th>ty</th>\n",
       "      <th>tz</th>\n",
       "      <th>tpx</th>\n",
       "      <th>tpy</th>\n",
       "      <th>tpz</th>\n",
       "      <th>weight</th>\n",
       "      <th>event_id</th>\n",
       "    </tr>\n",
       "  </thead>\n",
       "  <tbody>\n",
       "    <tr>\n",
       "      <th>0</th>\n",
       "      <td>1</td>\n",
       "      <td>-64.409897</td>\n",
       "      <td>-7.163700</td>\n",
       "      <td>-1502.5</td>\n",
       "      <td>7</td>\n",
       "      <td>2</td>\n",
       "      <td>1</td>\n",
       "      <td>0</td>\n",
       "      <td>-64.411598</td>\n",
       "      <td>-7.164120</td>\n",
       "      <td>-1502.5</td>\n",
       "      <td>250710.000000</td>\n",
       "      <td>-149908.000000</td>\n",
       "      <td>-956385.00000</td>\n",
       "      <td>0.000000</td>\n",
       "      <td>1000</td>\n",
       "    </tr>\n",
       "    <tr>\n",
       "      <th>1</th>\n",
       "      <td>2</td>\n",
       "      <td>-55.336102</td>\n",
       "      <td>0.635342</td>\n",
       "      <td>-1502.5</td>\n",
       "      <td>7</td>\n",
       "      <td>2</td>\n",
       "      <td>1</td>\n",
       "      <td>22525763437723648</td>\n",
       "      <td>-55.338501</td>\n",
       "      <td>0.630805</td>\n",
       "      <td>-1502.5</td>\n",
       "      <td>-0.570605</td>\n",
       "      <td>0.028390</td>\n",
       "      <td>-15.49220</td>\n",
       "      <td>0.000010</td>\n",
       "      <td>1000</td>\n",
       "    </tr>\n",
       "    <tr>\n",
       "      <th>2</th>\n",
       "      <td>3</td>\n",
       "      <td>-83.830498</td>\n",
       "      <td>-1.143010</td>\n",
       "      <td>-1502.5</td>\n",
       "      <td>7</td>\n",
       "      <td>2</td>\n",
       "      <td>1</td>\n",
       "      <td>0</td>\n",
       "      <td>-83.828003</td>\n",
       "      <td>-1.145580</td>\n",
       "      <td>-1502.5</td>\n",
       "      <td>626295.000000</td>\n",
       "      <td>-169767.000000</td>\n",
       "      <td>-760877.00000</td>\n",
       "      <td>0.000000</td>\n",
       "      <td>1000</td>\n",
       "    </tr>\n",
       "    <tr>\n",
       "      <th>3</th>\n",
       "      <td>4</td>\n",
       "      <td>-96.109100</td>\n",
       "      <td>-8.241030</td>\n",
       "      <td>-1502.5</td>\n",
       "      <td>7</td>\n",
       "      <td>2</td>\n",
       "      <td>1</td>\n",
       "      <td>297237712845406208</td>\n",
       "      <td>-96.122902</td>\n",
       "      <td>-8.230360</td>\n",
       "      <td>-1502.5</td>\n",
       "      <td>-0.225235</td>\n",
       "      <td>-0.050968</td>\n",
       "      <td>-3.70232</td>\n",
       "      <td>0.000008</td>\n",
       "      <td>1000</td>\n",
       "    </tr>\n",
       "    <tr>\n",
       "      <th>4</th>\n",
       "      <td>5</td>\n",
       "      <td>-62.673599</td>\n",
       "      <td>-9.371200</td>\n",
       "      <td>-1502.5</td>\n",
       "      <td>7</td>\n",
       "      <td>2</td>\n",
       "      <td>1</td>\n",
       "      <td>418835796137607168</td>\n",
       "      <td>-62.659401</td>\n",
       "      <td>-9.375040</td>\n",
       "      <td>-1502.5</td>\n",
       "      <td>-0.281806</td>\n",
       "      <td>-0.023487</td>\n",
       "      <td>-6.57318</td>\n",
       "      <td>0.000009</td>\n",
       "      <td>1000</td>\n",
       "    </tr>\n",
       "  </tbody>\n",
       "</table>\n",
       "</div>"
      ],
      "text/plain": [
       "   hit_id          x         y       z  volume_id  layer_id  module_id  \\\n",
       "0       1 -64.409897 -7.163700 -1502.5          7         2          1   \n",
       "1       2 -55.336102  0.635342 -1502.5          7         2          1   \n",
       "2       3 -83.830498 -1.143010 -1502.5          7         2          1   \n",
       "3       4 -96.109100 -8.241030 -1502.5          7         2          1   \n",
       "4       5 -62.673599 -9.371200 -1502.5          7         2          1   \n",
       "\n",
       "          particle_id         tx        ty      tz            tpx  \\\n",
       "0                   0 -64.411598 -7.164120 -1502.5  250710.000000   \n",
       "1   22525763437723648 -55.338501  0.630805 -1502.5      -0.570605   \n",
       "2                   0 -83.828003 -1.145580 -1502.5  626295.000000   \n",
       "3  297237712845406208 -96.122902 -8.230360 -1502.5      -0.225235   \n",
       "4  418835796137607168 -62.659401 -9.375040 -1502.5      -0.281806   \n",
       "\n",
       "             tpy           tpz    weight  event_id  \n",
       "0 -149908.000000 -956385.00000  0.000000      1000  \n",
       "1       0.028390     -15.49220  0.000010      1000  \n",
       "2 -169767.000000 -760877.00000  0.000000      1000  \n",
       "3      -0.050968      -3.70232  0.000008      1000  \n",
       "4      -0.023487      -6.57318  0.000009      1000  "
      ]
     },
     "execution_count": 348,
     "metadata": {},
     "output_type": "execute_result"
    }
   ],
   "source": [
    "path_to_train = 'train_100_events.zip'\n",
    "event_prefix = \"event000001001\"\n",
    "#path = os.path.join(path_to_train, event_prefix)\n",
    "path = 'train_sample.zip'\n",
    "\n",
    "events = pandas.DataFrame()\n",
    "datas = []\n",
    "for e in trackml.dataset.load_dataset(path, nevents=3):\n",
    "    event_id, hits, cells, particles, truth = e\n",
    "    data = hits.merge(truth)\n",
    "    data['event_id'] = event_id\n",
    "    events = data\n",
    "    datas.append(data)\n",
    "events = pandas.concat(datas)\n",
    "\n",
    "events.head()"
   ]
  },
  {
   "cell_type": "code",
   "execution_count": 349,
   "metadata": {},
   "outputs": [
    {
     "data": {
      "text/plain": [
       "(array([1000, 1001, 1002]), 340123)"
      ]
     },
     "execution_count": 349,
     "metadata": {},
     "output_type": "execute_result"
    }
   ],
   "source": [
    "events['event_id'].unique(), len(events)"
   ]
  },
  {
   "cell_type": "code",
   "execution_count": 350,
   "metadata": {},
   "outputs": [],
   "source": [
    "from sklearn.preprocessing import StandardScaler\n",
    "\n",
    "ss = StandardScaler()\n",
    "\n",
    "def single_features(hits, target=True):\n",
    "    \n",
    "    # From DBSCAN benchmark\n",
    "    # https://www.kaggle.com/mikhailhushchyn/dbscan-benchmark\n",
    "    x = hits.x.values\n",
    "    y = hits.y.values\n",
    "    z = hits.z.values\n",
    "    xy_scale = numpy.sqrt(x**2 + y**2 + z**2)\n",
    "    xnorm = x/xy_scale\n",
    "    ynorm = y/xy_scale\n",
    "    z_scale = numpy.sqrt(x**2 + y**2)\n",
    "    znorm = z/z_scale\n",
    "    \n",
    "    nn = ss.fit_transform([xnorm, ynorm, znorm])\n",
    "    features = pandas.DataFrame({\n",
    "        'xnorm': nn[0],\n",
    "        'ynorm': nn[1],\n",
    "        'znorm': nn[2],\n",
    "    })\n",
    "\n",
    "    return features\n",
    "\n",
    "hits = single_features(events)\n",
    "#hits.index\n",
    "hits['particle_id'] = events['particle_id'].values"
   ]
  },
  {
   "cell_type": "code",
   "execution_count": 351,
   "metadata": {},
   "outputs": [],
   "source": [
    "# Sample hits for training, a mix of hits from same track and from different\n",
    "def make_pairs(df, idcol='particle_id'):\n",
    "    q = '{}_b != {}_a'.format(idcol, idcol)\n",
    "    p = df.merge(df, on=df.assign(key_col=1)['key_col'], suffixes=('_a', '_b'))\n",
    "    #p = p.query(q) # filter out joins on the same row\n",
    "    p = p.reset_index(drop=True)\n",
    "    \n",
    "    #f = p[p['particle_id_a'] != p['particle_id_b']]\n",
    "    #print(f)\n",
    "    \n",
    "    return p\n",
    "\n",
    "def sample_pairs(n_particles, n_hits=10, random_state=None):\n",
    "    \n",
    "    particles = hits['particle_id'].sample(n=n_particles, random_state=random_state)\n",
    "    samples = []\n",
    "    for particle in particles:\n",
    "        matches = hits[hits['particle_id'] == particle].sample(n=n_hits, replace=True, random_state=random_state)\n",
    "        nonmatches = hits[hits['particle_id'] != particle].sample(n=n_hits//2, replace=True, random_state=random_state)\n",
    "\n",
    "        d = pandas.concat([matches, nonmatches])\n",
    "        pairs = make_pairs(d)\n",
    "        pairs['matches'] = pairs['particle_id_a'] == pairs['particle_id_b']        \n",
    "        samples.append(pairs)\n",
    "\n",
    "    samples = pandas.concat(samples)\n",
    "    return samples\n"
   ]
  },
  {
   "cell_type": "code",
   "execution_count": 352,
   "metadata": {},
   "outputs": [
    {
     "data": {
      "text/plain": [
       "((90000, 4), 0.48477777777777775, 403)"
      ]
     },
     "execution_count": 352,
     "metadata": {},
     "output_type": "execute_result"
    }
   ],
   "source": [
    "def pair_features(pairs, target=True): \n",
    "    features = pandas.DataFrame()\n",
    "\n",
    "    # Distance\n",
    "    features['xd'] = numpy.abs(pairs['xnorm_a'] - pairs['xnorm_b'])\n",
    "    features['yd'] = numpy.abs(pairs['ynorm_a'] - pairs['ynorm_b'])\n",
    "    features['zd'] = numpy.abs(pairs['znorm_a'] - pairs['znorm_b'])\n",
    "    \n",
    "    # Position\n",
    "    #features['xa'] = pairs['xnorm_a']\n",
    "    #features['ya'] = pairs['ynorm_a']\n",
    "    #features['za'] = pairs['znorm_a']\n",
    "    \n",
    "    # Target\n",
    "    if target:\n",
    "        features['matches'] = pairs['matches']\n",
    "    \n",
    "    return features\n",
    "\n",
    "pairs = sample_pairs(400, random_state=2)\n",
    "data = pair_features(pairs)\n",
    "data.shape, data.matches.mean(), len(pairs['particle_id_a'].unique())\n",
    "\n",
    "\n",
    "#data[data.matches==False].head(n=2)\n",
    "#data[data.matches==True].head(n=2)"
   ]
  },
  {
   "cell_type": "code",
   "execution_count": 353,
   "metadata": {},
   "outputs": [],
   "source": [
    "# From http://scikit-learn.org/stable/auto_examples/model_selection/plot_learning_curve.html\n",
    "def plot_learning_curve(estimator, title, X, y, ylim=None, cv=None,\n",
    "                        n_jobs=1, train_sizes=numpy.linspace(.1, 1.0, 5), metric=None):\n",
    "    np = numpy\n",
    "    \n",
    "    plt.figure()\n",
    "    plt.title(title)\n",
    "    if ylim is not None:\n",
    "        plt.ylim(*ylim)\n",
    "\n",
    "    plt.xlabel(\"Training examples\")\n",
    "    plt.ylabel(\"Score\")\n",
    "    \n",
    "    s = model_selection.learning_curve(estimator, X, y, cv=cv, n_jobs=n_jobs, train_sizes=train_sizes, scoring=metric)\n",
    "    train_sizes, train_scores, test_scores = s\n",
    "    train_scores_mean = np.mean(train_scores, axis=1)\n",
    "    train_scores_std = np.std(train_scores, axis=1)\n",
    "    test_scores_mean = np.mean(test_scores, axis=1)\n",
    "    test_scores_std = np.std(test_scores, axis=1)\n",
    "    plt.grid()\n",
    "\n",
    "    plt.fill_between(train_sizes, train_scores_mean - train_scores_std,\n",
    "                     train_scores_mean + train_scores_std, alpha=0.1,\n",
    "                     color=\"r\")\n",
    "    plt.fill_between(train_sizes, test_scores_mean - test_scores_std,\n",
    "                     test_scores_mean + test_scores_std, alpha=0.1, color=\"g\")\n",
    "    plt.plot(train_sizes, train_scores_mean, 'o-', color=\"r\",\n",
    "             label=\"Training score\")\n",
    "    plt.plot(train_sizes, test_scores_mean, 'o-', color=\"g\",\n",
    "             label=\"Cross-validation score\")\n",
    "\n",
    "    plt.legend(loc=\"best\")\n",
    "    return plt"
   ]
  },
  {
   "cell_type": "code",
   "execution_count": 354,
   "metadata": {},
   "outputs": [],
   "source": [
    "def plot_forest_importance(forest, X):\n",
    "    importances = forest.feature_importances_\n",
    "    std = numpy.std([tree.feature_importances_ for tree in forest.estimators_], axis=0)\n",
    "    indices = numpy.argsort(importances)[::-1]\n",
    "\n",
    "    # Print the feature ranking\n",
    "    print(\"Feature ranking:\")\n",
    "\n",
    "    for f in range(X.shape[1]):\n",
    "        print(\"%d. %d : %s (%f)\" % (f + 1, indices[f], X.columns[indices[f]], importances[indices[f]]), )\n",
    "\n",
    "    # Plot the feature importances of the forest\n",
    "    fig, ax = plt.subplots(figsize=(15, 10))\n",
    "    ax.set_title(\"Feature importances\")\n",
    "    ax.bar(range(X.shape[1]), importances[indices],\n",
    "           color=\"r\", yerr=std[indices], align=\"center\")\n",
    "    #ax.set_xticks(range(X.shape[1]), indices)\n",
    "    #ax.set_xlim([-1, X.shape[1]])\n",
    "    return fig"
   ]
  },
  {
   "cell_type": "code",
   "execution_count": 355,
   "metadata": {},
   "outputs": [
    {
     "name": "stdout",
     "output_type": "stream",
     "text": [
      "Fitting 3 folds for each of 1 candidates, totalling 3 fits\n",
      "[CV] min_samples_split=0.05, n_estimators=20 .........................\n",
      "[CV] .......... min_samples_split=0.05, n_estimators=20, total=   1.8s\n",
      "[CV] min_samples_split=0.05, n_estimators=20 .........................\n"
     ]
    },
    {
     "name": "stderr",
     "output_type": "stream",
     "text": [
      "[Parallel(n_jobs=1)]: Done   1 out of   1 | elapsed:    2.1s remaining:    0.0s\n"
     ]
    },
    {
     "name": "stdout",
     "output_type": "stream",
     "text": [
      "[CV] .......... min_samples_split=0.05, n_estimators=20, total=   1.6s\n",
      "[CV] min_samples_split=0.05, n_estimators=20 .........................\n",
      "[CV] .......... min_samples_split=0.05, n_estimators=20, total=   1.7s\n"
     ]
    },
    {
     "name": "stderr",
     "output_type": "stream",
     "text": [
      "[Parallel(n_jobs=1)]: Done   3 out of   3 | elapsed:    5.9s finished\n"
     ]
    },
    {
     "name": "stdout",
     "output_type": "stream",
     "text": [
      "Using parameters {'min_samples_split': 0.05, 'n_estimators': 20}\n",
      "Test set score: 0.93\n"
     ]
    },
    {
     "data": {
      "text/plain": [
       "<module 'matplotlib.pyplot' from '/usr/lib/python3.6/site-packages/matplotlib/pyplot.py'>"
      ]
     },
     "execution_count": 355,
     "metadata": {},
     "output_type": "execute_result"
    },
    {
     "data": {
      "image/png": "[encoded data removed]",
      "text/plain": [
       "<Figure size 432x288 with 1 Axes>"
      ]
     },
     "metadata": {},
     "output_type": "display_data"
    }
   ],
   "source": [
    "from sklearn import model_selection, metrics\n",
    "\n",
    "test_size = 0.3\n",
    "seed = 1\n",
    "\n",
    "target_columns = ['matches']\n",
    "data_columns = list(set(data.columns) - set(target_columns))\n",
    "\n",
    "s = model_selection.train_test_split(data[data_columns], data[target_columns], test_size=test_size, random_state=seed)\n",
    "X_train, X_test, Y_train, Y_test = s\n",
    "Y_train = Y_train['matches']\n",
    "Y_test = Y_test['matches']\n",
    "\n",
    "from sklearn.ensemble import RandomForestClassifier\n",
    "from sklearn.ensemble import ExtraTreesClassifier\n",
    "\n",
    "metric = 'average_precision'\n",
    "\n",
    "estimator = RandomForestClassifier()\n",
    "parameters = {\n",
    "    'n_estimators': [ 20 ],\n",
    "    'min_samples_split': [ 0.05 ],\n",
    "}\n",
    "search = model_selection.GridSearchCV(estimator, parameters, cv=3, verbose=2, scoring=metric)\n",
    "search.fit(X_train, Y_train)\n",
    "\n",
    "# Evaluation\n",
    "print('Using parameters', search.best_params_)\n",
    "score = metrics.get_scorer(metric)(search.best_estimator_, X_test, Y_test)\n",
    "print('Test set score: %.2f' % (score,))\n",
    "\n",
    "plot_learning_curve(search.best_estimator_, 'Learning curve', X_train, Y_train, metric=metric)"
   ]
  },
  {
   "cell_type": "code",
   "execution_count": 356,
   "metadata": {},
   "outputs": [
    {
     "data": {
      "text/plain": [
       "array([[0.79246448, 0.20753552],\n",
       "       [0.10240518, 0.89759482]])"
      ]
     },
     "execution_count": 356,
     "metadata": {},
     "output_type": "execute_result"
    }
   ],
   "source": [
    "cm = metrics.confusion_matrix(search.best_estimator_.predict(X_test), Y_test)\n",
    "cm.astype('float') / cm.sum(axis=1)[:, numpy.newaxis]"
   ]
  },
  {
   "cell_type": "code",
   "execution_count": 357,
   "metadata": {},
   "outputs": [
    {
     "data": {
      "text/plain": [
       "array([[0.8275647 , 0.1724353 ],\n",
       "       [0.26446514, 0.73553486]])"
      ]
     },
     "execution_count": 357,
     "metadata": {},
     "output_type": "execute_result"
    }
   ],
   "source": [
    "# Validation set\n",
    "a = pair_features(sample_pairs(20, random_state=11))\n",
    "b = pair_features(sample_pairs(20, random_state=12))\n",
    "c = pair_features(sample_pairs(20, random_state=13))\n",
    "validate = pandas.concat([a, b, c])\n",
    "X_valid = validate[data_columns]\n",
    "Y_valid = validate[target_columns]\n",
    "\n",
    "cm = metrics.confusion_matrix(search.best_estimator_.predict(X_valid), Y_valid)\n",
    "cm.astype('float') / cm.sum(axis=1)[:, numpy.newaxis]"
   ]
  },
  {
   "cell_type": "code",
   "execution_count": 16,
   "metadata": {},
   "outputs": [
    {
     "name": "stdout",
     "output_type": "stream",
     "text": [
      "Feature ranking:\n",
      "1. 2 : xd (0.340677)\n",
      "2. 0 : yd (0.331301)\n",
      "3. 1 : zd (0.328022)\n"
     ]
    },
    {
     "data": {
      "image/png": "[encoded data removed]",
      "text/plain": [
       "<Figure size 1080x720 with 1 Axes>"
      ]
     },
     "metadata": {},
     "output_type": "display_data"
    }
   ],
   "source": [
    "plot_forest_importance(search.best_estimator_, X_train);"
   ]
  },
  {
   "cell_type": "code",
   "execution_count": 344,
   "metadata": {},
   "outputs": [
    {
     "name": "stdout",
     "output_type": "stream",
     "text": [
      "time 27.14930534362793 1.6701157093048096 \n",
      "\n",
      "fill grade 0.4982\n"
     ]
    }
   ],
   "source": [
    "# The default pairwise_distance calculation in sklearn some limitations on large datasets with custom metric\n",
    "# 1. it does not support sparse outputs, causing high memory usage\n",
    "# 2. the metric function , causing slowdown due to Python call overhead\n",
    "# \n",
    "# An alternative would be NearestNeighbors.radius_neighbors_graph() though it still has 2.\n",
    "#\n",
    "# Here we calculate the distances in chuncks, and then cull values above @max_distance to build a sparse matrix\n",
    "def pairwise_distance_sparse_fast(X, func, max_distance, chunksize=100, B=None):\n",
    "    A = X\n",
    "    if B is None:\n",
    "        B = X\n",
    "        \n",
    "    sparse = None\n",
    "    for a_row in range(A.shape[0]):\n",
    "        a = A[a_row, :]\n",
    "        aa = numpy.repeat([a], B.shape[0], axis=0)\n",
    "\n",
    "        # Calculate distances between A row and all B values\n",
    "        dist = func(aa, B)\n",
    "        #print('func', aa, B, dist)\n",
    "        \n",
    "        # Check sparsity\n",
    "        dist[dist > max_distance] = 0.0\n",
    "        s = scipy.sparse.csr_matrix(dist)\n",
    "        \n",
    "        # Combine results\n",
    "        if sparse is None:\n",
    "            sparse = s\n",
    "        else:\n",
    "            sparse = scipy.sparse.vstack([sparse, s], format='csr')\n",
    "        \n",
    "    assert sparse.shape == (A.shape[0], B.shape[0]), 'wrong output shape: {}'.format(sparse.shape)\n",
    "    return sparse\n",
    "\n",
    "def pairwise_distance_sparse_ref(X, func, max_distance):\n",
    "    # Compat wrapper for single pair of values to array-of-pairs\n",
    "    def metric(a, b):\n",
    "        A = numpy.array([a])\n",
    "        B = numpy.array([b])\n",
    "        D = func(A, B)\n",
    "        #print(A, B, D)\n",
    "        return D[0]\n",
    "    dist = sklearn.metrics.pairwise.pairwise_distances(X,metric=metric)\n",
    "    dist[dist > max_distance] = 0\n",
    "    sparse = scipy.sparse.csr_matrix(dist)\n",
    "    return sparse\n",
    "\n",
    "import scipy\n",
    "\n",
    "\n",
    "def euclidian_dist(A, B):\n",
    "    return numpy.sum(numpy.sqrt((A - B)**2), axis=1)\n",
    "\n",
    "def learned_dist(a, b):\n",
    "    #print(a.shape, b.shape)\n",
    "    xd = numpy.abs(a[:,0] - b[:,0]).reshape(-1, 1)\n",
    "    yd = numpy.abs(a[:,1] - b[:,1]).reshape(-1, 1)\n",
    "    zd = numpy.abs(a[:,2] - b[:,2]).reshape(-1, 1)\n",
    "    pairs = numpy.hstack([xd, yd, zd])\n",
    "    #print('x', zd.shape, pairs.shape)\n",
    "    estimator = search.best_estimator_\n",
    "    # Distance is probability of not being a match\n",
    "    dist = estimator.predict_proba(pairs)[:,0]\n",
    "    return dist\n",
    "\n",
    "maxd=0.4\n",
    "distance = learned_dist\n",
    "\n",
    "A = numpy.random.random((100, 3))\n",
    "s = time.time()\n",
    "R = pairwise_distance_sparse_ref(A, distance, max_distance=maxd)\n",
    "s1 = time.time()\n",
    "F = pairwise_distance_sparse_fast(A, distance, max_distance=maxd)\n",
    "s2 = time.time()\n",
    "print('time', s1-s, s2-s1, '\\n')\n",
    "def sparcity(S):\n",
    "    return S.getnnz() / numpy.product(S.shape) \n",
    "print('fill grade', sparcity(R))\n",
    "sdiff = abs(sparcity(R) - sparcity(F))\n",
    "assert sdiff < 0.001\n",
    "diff = (R - F).toarray()\n",
    "#print(diff, '\\n')\n",
    "assert numpy.nansum(diff) < 0.001, numpy.nansum(diff)\n",
    "#print(R.toarray(), '\\n')\n",
    "#print(F.toarray(), '\\n')\n"
   ]
  },
  {
   "cell_type": "code",
   "execution_count": 276,
   "metadata": {},
   "outputs": [],
   "source": [
    "%load_ext line_profiler"
   ]
  },
  {
   "cell_type": "code",
   "execution_count": 345,
   "metadata": {},
   "outputs": [],
   "source": [
    "%lprun -f learned_dist pairwise_distance_sparse_fast(A, distance, max_distance=maxd)"
   ]
  },
  {
   "cell_type": "code",
   "execution_count": 340,
   "metadata": {},
   "outputs": [
    {
     "name": "stdout",
     "output_type": "stream",
     "text": [
      "event_id :  0 119016 0.42577123641967773\n",
      "(10000, 3)\n",
      "(10000, 10000) 0.0042732\n",
      "tracks :  10000 (804,) 481.9008560180664\n"
     ]
    }
   ],
   "source": [
    "import time\n",
    "\n",
    "from sklearn import cluster\n",
    "\n",
    "def predict(hits, distance=None, max_distance=0.03):\n",
    "    if distance is None:\n",
    "        distance = learned_dist\n",
    "    \n",
    "    dbscan = cluster.DBSCAN(eps=0.00715, min_samples=1, algorithm='ball_tree', n_jobs=-1, metric='precomputed')\n",
    "\n",
    "    hits = single_features(hits, target=False)\n",
    "    X = pairwise_distance_sparse_fast(hits.values, distance, max_distance=max_distance)\n",
    "    print('pairs', X.shape, sparcity(X))\n",
    "    return dbscan.fit_predict(X)\n",
    "\n",
    "def run_make_submission():\n",
    "    np = numpy\n",
    "    pd = pandas\n",
    "    \n",
    "    data_dir = 'test.zip'\n",
    "    submissions = []\n",
    "\n",
    "    events = 1\n",
    "    start_time = time.time()\n",
    "    for event_id, hits in trackml.dataset.load_dataset(data_dir, parts=['hits'], nevents=events):\n",
    "        print('event_id : ', event_id, hits.shape[0], time.time()-start_time)\n",
    "\n",
    "        hits = hits[:10000] #FIXME: temp\n",
    "        track_id = predict(hits)\n",
    "        print('tracks : ', len(hits), numpy.unique(track_id).shape, time.time()-start_time)\n",
    "        \n",
    "        # Prepare submission for an event\n",
    "        predictions = np.column_stack(([event_id,]*len(hits), hits.hit_id.values, track_id))\n",
    "        submission = pd.DataFrame(columns=['event_id', 'hit_id', 'track_id'], data=predictions).astype(int)\n",
    "        submissions.append(submission)\n",
    "\n",
    "    # Create submission file\n",
    "    submission = pd.concat(submissions, axis=0)\n",
    "    submission.to_csv('submission.csv.gz', index=False, compression='gzip')\n",
    "    \n",
    "run_make_submission()"
   ]
  },
  {
   "cell_type": "code",
   "execution_count": null,
   "metadata": {},
   "outputs": [],
   "source": []
  }
 ],
 "metadata": {
  "kernelspec": {
   "display_name": "Python 3",
   "language": "python",
   "name": "python3"
  },
  "language_info": {
   "codemirror_mode": {
    "name": "ipython",
    "version": 3
   },
   "file_extension": ".py",
   "mimetype": "text/x-python",
   "name": "python",
   "nbconvert_exporter": "python",
   "pygments_lexer": "ipython3",
   "version": "3.6.5"
  }
 },
 "nbformat": 4,
 "nbformat_minor": 2
}
