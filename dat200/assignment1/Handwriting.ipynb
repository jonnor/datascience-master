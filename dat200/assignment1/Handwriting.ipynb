{
 "cells": [
  {
   "cell_type": "code",
   "execution_count": 87,
   "metadata": {},
   "outputs": [],
   "source": [
    "%matplotlib inline\n",
    "import numpy\n",
    "import sklearn\n",
    "import sklearn.datasets\n",
    "import sklearn.metrics\n",
    "import sklearn.preprocessing\n",
    "from sklearn.cross_decomposition import PLSRegression\n",
    "from sklearn.model_selection import train_test_split\n",
    "import matplotlib.pyplot as plt"
   ]
  },
  {
   "cell_type": "markdown",
   "metadata": {},
   "source": [
    "# Import data\n",
    "Split into training and testing sets"
   ]
  },
  {
   "cell_type": "code",
   "execution_count": 97,
   "metadata": {},
   "outputs": [],
   "source": [
    "digits = sklearn.datasets.load_digits()\n",
    "test_size = 797/1797\n",
    "shuffle = False\n",
    "X_train, X_test, Y_train, Y_test = train_test_split(digits.data, digits.target, test_size=test_size, shuffle=shuffle)\n",
    "\n",
    "assert X_train.shape == (1000, 64), X_train.shape\n",
    "assert Y_test.shape == (797, ), X_train.shape"
   ]
  },
  {
   "cell_type": "markdown",
   "metadata": {},
   "source": [
    "## Encode for classification"
   ]
  },
  {
   "cell_type": "code",
   "execution_count": 99,
   "metadata": {
    "collapsed": true
   },
   "outputs": [],
   "source": [
    "labelencoder = sklearn.preprocessing.OneHotEncoder()\n",
    "Y_train_labeled = labelencoder.fit_transform(Y_train.reshape(-1,1)).todense()\n",
    "Y_test_labeled = labelencoder.fit_transform(Y_test.reshape(-1,1)).todense()\n",
    "\n",
    "assert Y_train_labeled.shape == (1000, 10), Y_train_labeled.shape"
   ]
  },
  {
   "cell_type": "markdown",
   "metadata": {},
   "source": [
    "## Build PLSR models"
   ]
  },
  {
   "cell_type": "code",
   "execution_count": 108,
   "metadata": {},
   "outputs": [
    {
     "data": {
      "image/png": "[encoded data removed]",
      "text/plain": [
       "<matplotlib.figure.Figure at 0x7f7a3e7b9240>"
      ]
     },
     "metadata": {},
     "output_type": "display_data"
    },
    {
     "data": {
      "text/plain": [
       "array([[0.70012547, 0.70012547, 0.70012547, 0.70012547, 0.70012547,\n",
       "        0.70012547, 0.70012547, 0.70012547, 0.70012547, 0.70012547,\n",
       "        0.70012547, 0.70012547, 0.70012547, 0.70012547, 0.70012547,\n",
       "        0.70012547, 0.70012547, 0.70012547, 0.70012547, 0.70012547,\n",
       "        0.70012547, 0.70012547, 0.70012547, 0.70012547, 0.70012547,\n",
       "        0.70012547, 0.70012547, 0.70012547, 0.70012547, 0.70012547,\n",
       "        0.70012547, 0.70012547, 0.70012547, 0.70012547, 0.70012547,\n",
       "        0.70012547, 0.70012547, 0.70012547, 0.70012547, 0.70012547,\n",
       "        0.70012547, 0.70012547, 0.70012547, 0.70012547, 0.70012547,\n",
       "        0.70012547, 0.70012547, 0.70012547, 0.70012547, 0.70012547],\n",
       "       [0.76537014, 0.76537014, 0.76537014, 0.76537014, 0.76537014,\n",
       "        0.76537014, 0.76537014, 0.76537014, 0.76537014, 0.76537014,\n",
       "        0.76537014, 0.76537014, 0.76537014, 0.76537014, 0.76537014,\n",
       "        0.76537014, 0.76537014, 0.76537014, 0.76537014, 0.76537014,\n",
       "        0.76537014, 0.76537014, 0.76537014, 0.76537014, 0.76537014,\n",
       "        0.76537014, 0.76537014, 0.76537014, 0.76537014, 0.76537014,\n",
       "        0.76537014, 0.76537014, 0.76537014, 0.76537014, 0.76537014,\n",
       "        0.76537014, 0.76537014, 0.76537014, 0.76537014, 0.76537014,\n",
       "        0.76537014, 0.76537014, 0.76537014, 0.76537014, 0.76537014,\n",
       "        0.76537014, 0.76537014, 0.76537014, 0.76537014, 0.76537014],\n",
       "       [0.78419072, 0.78419072, 0.78419072, 0.78419072, 0.78419072,\n",
       "        0.78419072, 0.78419072, 0.78419072, 0.78419072, 0.78419072,\n",
       "        0.78419072, 0.78419072, 0.78419072, 0.78419072, 0.78419072,\n",
       "        0.78419072, 0.78419072, 0.78419072, 0.78419072, 0.78419072,\n",
       "        0.78419072, 0.78419072, 0.78419072, 0.78419072, 0.78419072,\n",
       "        0.78419072, 0.78419072, 0.78419072, 0.78419072, 0.78419072,\n",
       "        0.78419072, 0.78419072, 0.78419072, 0.78419072, 0.78419072,\n",
       "        0.78419072, 0.78419072, 0.78419072, 0.78419072, 0.78419072,\n",
       "        0.78419072, 0.78419072, 0.78419072, 0.78419072, 0.78419072,\n",
       "        0.78419072, 0.78419072, 0.78419072, 0.78419072, 0.78419072],\n",
       "       [0.86072773, 0.86072773, 0.86072773, 0.86072773, 0.86072773,\n",
       "        0.86072773, 0.86072773, 0.86072773, 0.86072773, 0.86072773,\n",
       "        0.86072773, 0.86072773, 0.86072773, 0.86072773, 0.86072773,\n",
       "        0.86072773, 0.86072773, 0.86072773, 0.86072773, 0.86072773,\n",
       "        0.86072773, 0.86072773, 0.86072773, 0.86072773, 0.86072773,\n",
       "        0.86072773, 0.86072773, 0.86072773, 0.86072773, 0.86072773,\n",
       "        0.86072773, 0.86072773, 0.86072773, 0.86072773, 0.86072773,\n",
       "        0.86072773, 0.86072773, 0.86072773, 0.86072773, 0.86072773,\n",
       "        0.86072773, 0.86072773, 0.86072773, 0.86072773, 0.86072773,\n",
       "        0.86072773, 0.86072773, 0.86072773, 0.86072773, 0.86072773],\n",
       "       [0.85069009, 0.85069009, 0.85069009, 0.85069009, 0.85069009,\n",
       "        0.85069009, 0.85069009, 0.85069009, 0.85069009, 0.85069009,\n",
       "        0.85069009, 0.85069009, 0.85069009, 0.85069009, 0.85069009,\n",
       "        0.85069009, 0.85069009, 0.85069009, 0.85069009, 0.85069009,\n",
       "        0.85069009, 0.85069009, 0.85069009, 0.85069009, 0.85069009,\n",
       "        0.85069009, 0.85069009, 0.85069009, 0.85069009, 0.85069009,\n",
       "        0.85069009, 0.85069009, 0.85069009, 0.85069009, 0.85069009,\n",
       "        0.85069009, 0.85069009, 0.85069009, 0.85069009, 0.85069009,\n",
       "        0.85069009, 0.85069009, 0.85069009, 0.85069009, 0.85069009,\n",
       "        0.85069009, 0.85069009, 0.85069009, 0.85069009, 0.85069009],\n",
       "       [0.87076537, 0.87076537, 0.87076537, 0.87076537, 0.87076537,\n",
       "        0.87076537, 0.87076537, 0.87076537, 0.87076537, 0.87076537,\n",
       "        0.87076537, 0.87076537, 0.87076537, 0.87076537, 0.87076537,\n",
       "        0.87076537, 0.87076537, 0.87076537, 0.87076537, 0.87076537,\n",
       "        0.87076537, 0.87076537, 0.87076537, 0.87076537, 0.87076537,\n",
       "        0.87076537, 0.87076537, 0.87076537, 0.87076537, 0.87076537,\n",
       "        0.87076537, 0.87076537, 0.87076537, 0.87076537, 0.87076537,\n",
       "        0.87076537, 0.87076537, 0.87076537, 0.87076537, 0.87076537,\n",
       "        0.87076537, 0.87076537, 0.87076537, 0.87076537, 0.87076537,\n",
       "        0.87076537, 0.87076537, 0.87076537, 0.87076537, 0.87076537],\n",
       "       [0.86700125, 0.86700125, 0.86700125, 0.86700125, 0.86700125,\n",
       "        0.86700125, 0.86700125, 0.86700125, 0.86700125, 0.86700125,\n",
       "        0.86700125, 0.86700125, 0.86700125, 0.86700125, 0.86700125,\n",
       "        0.86700125, 0.86700125, 0.86700125, 0.86700125, 0.86700125,\n",
       "        0.86700125, 0.86700125, 0.86700125, 0.86700125, 0.86700125,\n",
       "        0.86700125, 0.86700125, 0.86700125, 0.86700125, 0.86700125,\n",
       "        0.86700125, 0.86700125, 0.86700125, 0.86700125, 0.86700125,\n",
       "        0.86700125, 0.86700125, 0.86700125, 0.86700125, 0.86700125,\n",
       "        0.86700125, 0.86700125, 0.86700125, 0.86700125, 0.86700125,\n",
       "        0.86700125, 0.86700125, 0.86700125, 0.86700125, 0.86700125],\n",
       "       [0.8782936 , 0.8782936 , 0.8782936 , 0.8782936 , 0.8782936 ,\n",
       "        0.8782936 , 0.8782936 , 0.8782936 , 0.8782936 , 0.8782936 ,\n",
       "        0.8782936 , 0.8782936 , 0.8782936 , 0.8782936 , 0.8782936 ,\n",
       "        0.8782936 , 0.8782936 , 0.8782936 , 0.8782936 , 0.8782936 ,\n",
       "        0.8782936 , 0.8782936 , 0.8782936 , 0.8782936 , 0.8782936 ,\n",
       "        0.8782936 , 0.8782936 , 0.8782936 , 0.8782936 , 0.8782936 ,\n",
       "        0.8782936 , 0.8782936 , 0.8782936 , 0.8782936 , 0.8782936 ,\n",
       "        0.8782936 , 0.8782936 , 0.8782936 , 0.8782936 , 0.8782936 ,\n",
       "        0.8782936 , 0.8782936 , 0.8782936 , 0.8782936 , 0.8782936 ,\n",
       "        0.8782936 , 0.8782936 , 0.8782936 , 0.8782936 , 0.8782936 ],\n",
       "       [0.88205772, 0.88205772, 0.88205772, 0.88205772, 0.88205772,\n",
       "        0.88205772, 0.88205772, 0.88205772, 0.88205772, 0.88205772,\n",
       "        0.88205772, 0.88205772, 0.88205772, 0.88205772, 0.88205772,\n",
       "        0.88205772, 0.88205772, 0.88205772, 0.88205772, 0.88205772,\n",
       "        0.88205772, 0.88205772, 0.88205772, 0.88205772, 0.88205772,\n",
       "        0.88205772, 0.88205772, 0.88205772, 0.88205772, 0.88205772,\n",
       "        0.88205772, 0.88205772, 0.88205772, 0.88205772, 0.88205772,\n",
       "        0.88205772, 0.88205772, 0.88205772, 0.88205772, 0.88205772,\n",
       "        0.88205772, 0.88205772, 0.88205772, 0.88205772, 0.88205772,\n",
       "        0.88205772, 0.88205772, 0.88205772, 0.88205772, 0.88205772],\n",
       "       [0.89084065, 0.89084065, 0.89084065, 0.89084065, 0.89084065,\n",
       "        0.89084065, 0.89084065, 0.89084065, 0.89084065, 0.89084065,\n",
       "        0.89084065, 0.89084065, 0.89084065, 0.89084065, 0.89084065,\n",
       "        0.89084065, 0.89084065, 0.89084065, 0.89084065, 0.89084065,\n",
       "        0.89084065, 0.89084065, 0.89084065, 0.89084065, 0.89084065,\n",
       "        0.89084065, 0.89084065, 0.89084065, 0.89084065, 0.89084065,\n",
       "        0.89084065, 0.89084065, 0.89084065, 0.89084065, 0.89084065,\n",
       "        0.89084065, 0.89084065, 0.89084065, 0.89084065, 0.89084065,\n",
       "        0.89084065, 0.89084065, 0.89084065, 0.89084065, 0.89084065,\n",
       "        0.89084065, 0.89084065, 0.89084065, 0.89084065, 0.89084065]])"
      ]
     },
     "execution_count": 108,
     "metadata": {},
     "output_type": "execute_result"
    }
   ],
   "source": [
    "train_components = 50\n",
    "def build_plsr(X, Y):\n",
    "    assert X.shape[0] == Y.shape[0]\n",
    "    m = PLSRegression(n_components=train_components)\n",
    "    m.fit(X, Y)\n",
    "    return m\n",
    "\n",
    "models = [ build_plsr(X_train[0:rows_used,:], Y_train_labeled[0:rows_used]) for rows_used in range(100, 1100, 100) ]\n",
    "assert len(models) == 10\n",
    "\n",
    "results = numpy.ndarray(shape=(len(models), train_components))\n",
    "for x_idx, predict_components in enumerate(range(1, train_components+1)):\n",
    "    for y_idx, model in enumerate(models):\n",
    "        Y_pred = model.predict(X_test).argmax(axis=1)\n",
    "        #print(Y_test.shape, Y_test[0:5])\n",
    "        #print(Y_pred.shape, Y_pred[0:5])\n",
    "\n",
    "        # classification accuracy\n",
    "        a = sklearn.metrics.accuracy_score(Y_test, Y_pred)\n",
    "        # L00_iris_pcr_plsr_ALT2.py \n",
    "        results[y_idx, x_idx] = a\n",
    "\n",
    "plt.imshow(results, cmap='hot', interpolation='nearest')\n",
    "plt.show()\n",
    "\n",
    "results"
   ]
  },
  {
   "cell_type": "markdown",
   "metadata": {},
   "source": [
    "The MNIST data in scikit-learn consists of 1797 objects (instances). Split the data into a training set (first 1000 rows) and test set (last 797 rows). The test set will serve as “unseen” data for which we will predict the classes. Don’t worry about the balance of classes in the training set; their proportions stay very similar with increasing number of rows.\n",
    "\n",
    "\n",
    "Compute 10 PLSR models, each with 50 components.\n",
    "        Use the first 100 rows of the training set to compute the first PLSR model.\n",
    "        Use the first 200 rows of the training set to compute the second PLSR model.\n",
    "        Use the first 300 rows of the training set to compute the third PLSR model.\n",
    "        etc\n",
    "        \n",
    "For each of the 10 models, predict the classes of the unseen digits using 1 component, 2 components, 3 components, etc. and compute the classification accuracy (which should be value between 0 and 1, or between 0 and 100 if computed as a percentage) from the predictions. Store the results in a (10 x 50) numpy array or pandas data frame.\n",
    "\n",
    "\n",
    "Plot a heatmap of the results using Python plotting packages matplotlib (Lenker til en ekstern side.)Lenker til en ekstern side. or seaborn (Lenker til en ekstern side.)Lenker til en ekstern side.. See below what it should look like."
   ]
  },
  {
   "cell_type": "code",
   "execution_count": null,
   "metadata": {
    "collapsed": true
   },
   "outputs": [],
   "source": [
    "\n",
    "\n",
    "\n",
    "a = np.random.random((16, 16))\n",
    "plt.imshow(a, cmap='hot', interpolation='nearest')\n",
    "plt.show()"
   ]
  },
  {
   "cell_type": "markdown",
   "metadata": {},
   "source": [
    "* Does the number of training objects matter for prediction performance?\n",
    "* Do the number of components used in the prediction matter for prediction performance?\n",
    "* Which combination of the number of training objects and number of components used for prediction would you use?\n",
    "* Do you think the accuracy achieved with PLSR may be further improved using other classification methods?"
   ]
  },
  {
   "cell_type": "code",
   "execution_count": null,
   "metadata": {
    "collapsed": true
   },
   "outputs": [],
   "source": []
  }
 ],
 "metadata": {
  "kernelspec": {
   "display_name": "Python 3",
   "language": "python",
   "name": "python3"
  },
  "language_info": {
   "codemirror_mode": {
    "name": "ipython",
    "version": 3
   },
   "file_extension": ".py",
   "mimetype": "text/x-python",
   "name": "python",
   "nbconvert_exporter": "python",
   "pygments_lexer": "ipython3",
   "version": "3.6.4"
  }
 },
 "nbformat": 4,
 "nbformat_minor": 2
}
