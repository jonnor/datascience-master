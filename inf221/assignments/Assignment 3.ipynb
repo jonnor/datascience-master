{
 "cells": [
  {
   "cell_type": "markdown",
   "metadata": {},
   "source": [
    "# INF221 Assignment 3\n",
    "Jon Nordby"
   ]
  },
  {
   "cell_type": "code",
   "execution_count": 1,
   "metadata": {
    "collapsed": true
   },
   "outputs": [],
   "source": [
    "%matplotlib inline\n",
    "\n",
    "import math\n",
    "import random\n",
    "\n",
    "import matplotlib\n",
    "import pandas"
   ]
  },
  {
   "cell_type": "markdown",
   "metadata": {},
   "source": [
    "## Exercise 10\n",
    "\n",
    "CLRS 4.1-1: What does Find-Maximum-Subarray return when all elements of A are negative?\n"
   ]
  },
  {
   "cell_type": "markdown",
   "metadata": {},
   "source": [
    "When all elements of A is negative, only the single most positive number is returned. Adding any more elements would just reduce the sum (make it more negative), and returning an empty set is not allowed."
   ]
  },
  {
   "cell_type": "markdown",
   "metadata": {},
   "source": [
    "## Exercise 11\n",
    "\n",
    "CLRS 4.1-3 (partial):\n",
    "\n",
    "Implement both the brute-force and the recursive algorithms for the maximum-subarray problem on your own computer using Python. What problem size $n_0$ gives the crossover point at which the recursive algorithm beats the brute force algorithm?\n"
   ]
  },
  {
   "cell_type": "markdown",
   "metadata": {},
   "source": [
    "### Bruteforce implementation"
   ]
  },
  {
   "cell_type": "code",
   "execution_count": 125,
   "metadata": {},
   "outputs": [
    {
     "name": "stdout",
     "output_type": "stream",
     "text": [
      "all tests passed\n"
     ]
    }
   ],
   "source": [
    "def maximum_subarray_bruteforce(A):\n",
    "    largest = (-1, -1, -math.inf) # start, end, sum\n",
    "    for i in range(0, len(A)):\n",
    "        for j in range(i, len(A)):\n",
    "            subsum = sum(A[i:j+1])\n",
    "            if subsum > largest[2]:\n",
    "                largest = (i, j+1, subsum)\n",
    "    return largest\n",
    "\n",
    "def test_max_subarray(func):\n",
    "    # Simple known case\n",
    "    ex = [13, -3, -25, 20, -3, -16, -23, 18, 20, -7, 12, -5, -22, 15, -4, 7]\n",
    "    expect = (7, 11)\n",
    "    out = func(ex)\n",
    "    assert out[0:2] == expect, \"{} != {}\".format(out[0:2], expect)\n",
    "    \n",
    "    # all values are positive, should give whole array \n",
    "    all_positive = [ random.randint(0, 99) for _ in range(random.randint(2, 13)) ]\n",
    "    out = func(all_positive)\n",
    "    expect = (0, len(all_positive))\n",
    "    assert out[0:2] == expect, \"{} != {}\".format(out[0:2], expect)\n",
    "\n",
    "    # all values are negative, should give single biggest number\n",
    "    all_negative = [ random.randint(-99, -1) for _ in range(random.randint(2, 5)) ]\n",
    "    out = func(all_negative)\n",
    "    maximum = sorted(all_negative, reverse=True)[0]\n",
    "    assert out[1] - out[0] == 1\n",
    "    assert all_negative[out[0]] == maximum\n",
    "\n",
    "    # single input, should return just that number\n",
    "    single_value = [ random.randint(-99, 99) ]\n",
    "    out = func(single_value)\n",
    "    assert out[0:2] == (0, 1)\n",
    "    \n",
    "    # TODO: test error case, empty input array\n",
    "    pass\n",
    "    print('all tests passed')\n",
    "    \n",
    "test_max_subarray(maximum_subarray_bruteforce)"
   ]
  },
  {
   "cell_type": "markdown",
   "metadata": {},
   "source": [
    "## Recursive divide & conquer implementation"
   ]
  },
  {
   "cell_type": "code",
   "execution_count": 126,
   "metadata": {},
   "outputs": [
    {
     "name": "stdout",
     "output_type": "stream",
     "text": [
      "all tests passed\n"
     ]
    }
   ],
   "source": [
    "def _maximum_subarray_crossing(A, low, mid, high):\n",
    "    left_sum = -math.inf\n",
    "    temp_sum = 0\n",
    "    max_left = -1\n",
    "    \n",
    "    # NOTE: could be rewritten as a summax function and reused below\n",
    "    for i in range(mid, low-1, -1):\n",
    "        temp_sum += A[i]\n",
    "        if temp_sum > left_sum:\n",
    "            left_sum = temp_sum\n",
    "            max_left = i\n",
    "    \n",
    "    right_sum = -math.inf\n",
    "    temp_sum = 0\n",
    "    max_right = -1\n",
    "    for i in range(mid+1, high+1):\n",
    "        temp_sum += A[i]\n",
    "        if temp_sum > right_sum:\n",
    "            right_sum = temp_sum\n",
    "            max_right = i\n",
    "\n",
    "    return (max_left, max_right, left_sum + right_sum)\n",
    "    \n",
    "def _maximum_subarray_recursive(A, low, high):\n",
    "    if high == low:\n",
    "        # base case, only one element\n",
    "        return low, high, A[low]\n",
    "    else:\n",
    "        mid = math.floor((low + high) / 2)\n",
    "        left = _maximum_subarray_recursive(A, low, mid)\n",
    "        right = _maximum_subarray_recursive(A, mid+1, high)\n",
    "        cross = _maximum_subarray_crossing(A, low, mid, high)\n",
    "        if left[2] >= right[2] and left[2] >= cross[2]:\n",
    "            return left\n",
    "        elif right[2] >= left[2] and right[2] >= cross[2]:\n",
    "            return right\n",
    "        else:\n",
    "            return cross\n",
    "    \n",
    "def maximum_subarray_recursive(A):\n",
    "    start, end, _sum = _maximum_subarray_recursive(A, 0, len(A)-1)\n",
    "    return start, end+1, _sum\n",
    "\n",
    "test_max_subarray(maximum_subarray_recursive)"
   ]
  },
  {
   "cell_type": "markdown",
   "metadata": {},
   "source": [
    "## Comparison of execution times"
   ]
  },
  {
   "cell_type": "code",
   "execution_count": 128,
   "metadata": {},
   "outputs": [
    {
     "data": {
      "text/plain": [
       "<matplotlib.axes._subplots.AxesSubplot at 0x7faf2aed3b00>"
      ]
     },
     "execution_count": 128,
     "metadata": {},
     "output_type": "execute_result"
    },
    {
     "data": {
      "image/png": "[encoded data removed]",
      "text/plain": [
       "<matplotlib.figure.Figure at 0x7faf2ad9e208>"
      ]
     },
     "metadata": {},
     "output_type": "display_data"
    }
   ],
   "source": [
    "import timeit\n",
    "def time_subarray(arr, repeats=1000):\n",
    "    b = maximum_subarray_bruteforce\n",
    "    r = maximum_subarray_recursive\n",
    "    brute = timeit.timeit('b(arr)', number=repeats, globals=locals())\n",
    "    recursive = timeit.timeit('r(arr)', number=repeats, globals=locals())\n",
    "    return brute, recursive\n",
    "\n",
    "def randomarray(length):\n",
    "    return [random.randint(-300000, 300000) for _ in range(length+1)]\n",
    "    \n",
    "N = list(range(1, 30))\n",
    "times = [time_subarray(randomarray(n)) for n in N] \n",
    "df = pandas.DataFrame({\n",
    "    'bruteforce': [ t[0] for t in times ],\n",
    "    \"divide'n'conquer\": [ t[1] for t in times ],\n",
    "    'N': N,\n",
    "})\n",
    "df.plot(x='N', figsize=(10, 10))"
   ]
  },
  {
   "cell_type": "markdown",
   "metadata": {},
   "source": [
    "With these implementations the brute force solution is (marginally) faster when n < 8 approximately. The exact point varies a bit based on the testrun."
   ]
  },
  {
   "cell_type": "markdown",
   "metadata": {},
   "source": [
    "## Exercise 12\n",
    "\n",
    "CLRS 4.3-1 & 2:\n",
    "\n",
    "Show that the solution\n",
    "\n",
    "### a) $T(n)=T(n-1)+n$ is $O(n^2)$\n",
    "\n",
    "We substitute our guess into the recurrence\n",
    "\n",
    "$$\\begin{align*}\n",
    "T(n) &\\leq c(n-1)^2 + n && \\text{expanding the quadratic} \\\\\n",
    "     &= c(n^2 - 2n + 1) + n && \\text{} \\\\\n",
    "     &\\leq cn^2 && \\text{for } n>1 \\text{ (root)} \\\\\n",
    "\\end{align*}$$\n",
    "\n",
    "### b) $T(n) = T(\\lceil n/2 \\rceil)+1$ is $O(\\lg n)$\n",
    "\n",
    "$$\\begin{align*}\n",
    "T(n) &\\leq c \\lg{\\lceil n/2 \\rceil} + 1 && \\text{} \\\\\n",
    "     &\\leq c \\lg{n/2} + 1 && \\text{} \\\\\n",
    "     &= c(\\lg n - \\lg 2) + 1 && \\text{} \\\\\n",
    "     &= c\\lg n - c + 1 && \\text{} \\\\\n",
    "     &\\leq c\\lg n && \\text{for } n>2 \\\\\n",
    "\\end{align*}$$"
   ]
  },
  {
   "cell_type": "markdown",
   "metadata": {},
   "source": [
    "## Exercise 13\n",
    "CLRS 4.3-3\n",
    "\n",
    "We saw that the solution of $T(n)=2T(\\lfloor n/2 \\rfloor)+n$ is $O(n\\lg n)$.\n",
    "Show that the solution of this recurrence is also: $\\Omega(n\\lg n)$ and conclude that the solution is $\\Theta(n\\lg n)$.\n",
    "\n",
    "Hint: Use the same approach as for the upper bound in Ch 4.3. You will then need to find at some point an expression that is smaller than $\\lfloor n/2 \\rfloor \\lg(\\lfloor n/2 \\rfloor)$. Here, it can be useful to use different lower bounds for $\\lfloor n/2 \\rfloor$ outside and inside the logarithm.\n"
   ]
  },
  {
   "cell_type": "markdown",
   "metadata": {},
   "source": [
    "\n",
    "$$\\begin{align*}\n",
    "T(n) &\\geq 2 ( c \\lfloor n/2 \\rfloor \\lg{\\lfloor n/2 \\rfloor}) + n && \\text{} \\\\\n",
    " &= &&\\\\\n",
    "\\end{align*}$$"
   ]
  },
  {
   "cell_type": "markdown",
   "metadata": {},
   "source": [
    "## Exercise 14\n",
    "CLRS 4.4-1, 5:\n",
    "\n",
    "Use recursion trees to determine a good asymptotic upper bound on the recurrences given below and then use the substitution method to verify your answers.\n",
    "\n",
    "Note: This exercise can give you up to two points extra credit. You receive one point each for solving a) and b), and a third point for a tight bound in b).\n",
    "\n",
    "### a) $T(n) = 3T(\\lfloor n/2\\rfloor)+n$\n",
    "\n",
    "Hint: The recursion tree analysis analysis is similar to the first example in Ch 4.4. For the proof using the substitution method, also take a look at the \"Subtleties\" section of Ch 4.3.\n",
    "\n",
    "### b) $T(n) = T(n-1)+T(n/2) + n$\n",
    "\n",
    "Hint: To obtain an upper bound, perform a \"worst case\" analysis along the left edge of the recursion tree and assume that all levels are full. Prove that bound using the substitution method. For extra credit, attempt at tighter bound!"
   ]
  },
  {
   "cell_type": "markdown",
   "metadata": {},
   "source": [
    "Page 86-90"
   ]
  },
  {
   "cell_type": "markdown",
   "metadata": {},
   "source": [
    "## Exercise 15\n",
    "CLRS 4.5-1:\n",
    "\n",
    "Use the master method to give tight asymptotic bounds for the following recurrences:\n",
    "\n",
    "### a) $T(n) = 2T(n/4)+1$\n",
    "\n",
    "The equation is on the form required by Master method: $T(n) = aT(n/b) + f(n)$ with $a=2, b=4, f(n)=1$\n",
    "\n",
    "$\\Theta(f(n)) = \\Theta(1) = \\Theta(n^0)$ follows Case 1 (asymptotic runtime dominated by tree traversal), $\\Theta(n^{log_b{a-e}})$ with $e=1$: $\\Theta(n^{\\log_4{2-1}}) = \\Theta(1)$.\n",
    "\n",
    "Thus the solution is $T(n) = \\Theta(n^{\\log_b a}) = \\Theta(n^{\\log_4 2}) = \\Theta(n^{0.5}) = \\Theta(\\sqrt{n})$"
   ]
  },
  {
   "cell_type": "markdown",
   "metadata": {},
   "source": [
    "### b) $T(n) = 2T(n/4) + \\sqrt{n}$\n",
    "\n",
    "Again $a=2, b=4$ and $f(n) = \\sqrt{n}$.\n",
    "\n",
    "$\\Theta(f(n)) = \\Theta(\\sqrt{n}) = \\Theta(n^{0.5})$ follows Case 2 (asymptotic runtime a combination of tree traversal and leaf function execution), $\\Theta(n^{log_b{a}})$: $\\Theta(n^{\\log_4{2}}) = \\Theta(\\sqrt{n})$.\n",
    "\n",
    "The solution for $T(n) = \\Theta(f(n^{\\log_b a} \\lg n) = \\Theta(n^{\\log_4 2} \\lg n) = \\Theta(\\sqrt{n}\\lg n)$ "
   ]
  },
  {
   "cell_type": "markdown",
   "metadata": {},
   "source": [
    "### c) $T(n) = 2T(n/4)+n$\n",
    "\n",
    "$a=2, b=5, f(n)=n$\n",
    "\n",
    "$\\Theta(f(n)) = \\Theta(n) = \\Theta(n^{1})$ follows Case 3 (asymptotic runtime dominated by leaf function execution) with $e=2$, $\\Theta(n^{log_b{a+e}})$: $\\Theta(n^{\\log_4{2+2}}) = \\Theta(n)$.\n",
    "\n",
    "Therefore $T(n) = \\Theta(f(n)) = \\Theta(n)$ "
   ]
  },
  {
   "cell_type": "markdown",
   "metadata": {},
   "source": [
    "### d) $T(n) = 2T(n/4)+n^2$\n",
    "\n",
    "$a=2, b=4, f(n) = n^2$\n",
    "\n",
    "$\\Theta(f(n)) = \\Theta(n^2)$ follows Case 3 of the method with $e=14$, $\\Theta(n^{log_b{a+e}})$: $\\Theta(n^{\\log_4{2+14}}) = \\Theta(n^2)$.\n",
    "\n",
    "Therefore $T(n) = \\Theta(f(n)) = \\Theta(n^2)$"
   ]
  }
 ],
 "metadata": {
  "kernelspec": {
   "display_name": "Python 3",
   "language": "python",
   "name": "python3"
  },
  "language_info": {
   "codemirror_mode": {
    "name": "ipython",
    "version": 3
   },
   "file_extension": ".py",
   "mimetype": "text/x-python",
   "name": "python",
   "nbconvert_exporter": "python",
   "pygments_lexer": "ipython3",
   "version": "3.6.2"
  }
 },
 "nbformat": 4,
 "nbformat_minor": 2
}
