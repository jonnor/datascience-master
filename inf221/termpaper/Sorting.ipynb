{
 "cells": [
  {
   "cell_type": "markdown",
   "metadata": {},
   "source": [
    "Jon Nordby <jonnord@nmbu.no>\n",
    "\n",
    "\n",
    "## Theory\n",
    "\n",
    "\n",
    "### Insertion sort\n",
    "### Merge sort\n",
    " \n",
    "### Quicksort\n",
    "### Heapsort\n",
    "    \n",
    "\n",
    "### Summary of expected execution times\n",
    "\n",
    "Best, Average, Worst\n",
    "\n",
    "Quicksort |\t$n\\log n$ | $n\\log n$ |\t$n^{2}$\n",
    "\n",
    "Merge sort | $n\\log ⁡n$ | $n\\log ⁡n$ | $n\\log ⁡n$\n",
    "\n",
    "Heapsort | $n \\log ⁡n$ | $n\\log n$ | $n\\log n$\n",
    "\n",
    "Insertion sort \t$n$ | $n^{2}$ | $n^{2}$\n",
    "    \n",
    "\n",
    "https://en.wikipedia.org/wiki/Sorting_algorithm\n"
   ]
  },
  {
   "cell_type": "markdown",
   "metadata": {},
   "source": [
    "## Methods\n",
    "\n",
    "\n",
    "The methods section should include\n",
    "\n",
    "    your algorithm implementations \n",
    "    test for correctness\n",
    "    functions for generating test data\n",
    "    functions to collect benchmark data\n",
    "\n",
    "In addition to the actual code, the section should contain brief descriptions of the code. Provide docstrings, but avoid inline comments in Python code.\n",
    "\n",
    "Also describe you strategy for collecting benchmark data.\n",
    "\n",
    "\n",
    "\n",
    "\n",
    "### Test data generation\n",
    "\n",
    "Test data should be automatically generated. As default items to be sorted, use NumPy arrays filled with integers, but also use strings. Test at least with the following types of data\n",
    "\n",
    "    sorted in ascending order\n",
    "    sorted in descending order\n",
    "    identical values\n",
    "    randomly shuffled data\n",
    "    real-life data\n",
    "\n",
    "\n"
   ]
  },
  {
   "cell_type": "code",
   "execution_count": 1,
   "metadata": {
    "collapsed": true
   },
   "outputs": [],
   "source": [
    "%load_ext line_profiler\n",
    "\n",
    "%matplotlib inline\n",
    "import matplotlib\n",
    "\n",
    "import math\n",
    "import random\n",
    "import time\n",
    "import timeit\n",
    "import statistics\n",
    "\n",
    "import numpy\n",
    "import pandas"
   ]
  },
  {
   "cell_type": "markdown",
   "metadata": {},
   "source": [
    "### Correctness\n",
    "\n",
    "Correctness is checked against Python as oracle\n"
   ]
  },
  {
   "cell_type": "code",
   "execution_count": 43,
   "metadata": {},
   "outputs": [
    {
     "data": {
      "text/plain": [
       "'tests passed'"
      ]
     },
     "execution_count": 43,
     "metadata": {},
     "output_type": "execute_result"
    }
   ],
   "source": [
    "def randomarray(length):\n",
    "    return [random.randint(-30000000, 3000000) for _ in range(length)]\n",
    "    #r = numpy.random.random(length)\n",
    "    #low = -300000\n",
    "    #high = 300000\n",
    "    #return (high - low) * r + low\n",
    "\n",
    "# TODO: test Numpy array with floats\n",
    "# TODO: test strings\n",
    "def test_sort(sort, N=10):\n",
    "    for t in range(100): \n",
    "        d = randomarray(N)\n",
    "        expected = sorted(d)\n",
    "        \n",
    "        out = d\n",
    "        sort(out)\n",
    "        assert out == expected, \"{} != {}\".format(out, expected)\n",
    "        \n",
    "        # TODO: return nicer testreport?\n",
    "        return 'tests passed'\n",
    "\n",
    "def python_sort(data):\n",
    "    data.sort()\n",
    "    return None\n",
    "        \n",
    "test_sort(python_sort)"
   ]
  },
  {
   "cell_type": "markdown",
   "metadata": {},
   "source": [
    "### Insertion sort\n"
   ]
  },
  {
   "cell_type": "code",
   "execution_count": 44,
   "metadata": {},
   "outputs": [
    {
     "data": {
      "text/plain": [
       "'tests passed'"
      ]
     },
     "execution_count": 44,
     "metadata": {},
     "output_type": "execute_result"
    }
   ],
   "source": [
    "def insertion_sort(s):\n",
    "    for i in range(1, len(s)):\n",
    "        val = s[i]\n",
    "        j = i - 1\n",
    "        while j >= 0 and s[j] > val:\n",
    "            s[j+1] = s[j]\n",
    "            j = j - 1\n",
    "        s[j+1] = val\n",
    "    return s\n",
    "\n",
    "test_sort(insertion_sort)"
   ]
  },
  {
   "cell_type": "markdown",
   "metadata": {},
   "source": [
    "### Merge sort\n"
   ]
  },
  {
   "cell_type": "code",
   "execution_count": 59,
   "metadata": {},
   "outputs": [
    {
     "data": {
      "text/plain": [
       "'tests passed'"
      ]
     },
     "execution_count": 59,
     "metadata": {},
     "output_type": "execute_result"
    }
   ],
   "source": [
    "# Checking for empty instead of using Inf as sentinel value\n",
    "def merge_check_empty(arr, start, mid, end):\n",
    "    left = arr[start:mid+1]\n",
    "    right = arr[mid+1:end+1]\n",
    "    l = 0\n",
    "    r = 0\n",
    "    left_length = len(left)\n",
    "    right_length = len(right)\n",
    "    for a in range(start, end+1):\n",
    "        if not l < left_length:\n",
    "            # left has been exhausted, fill remaining right\n",
    "            arr[a] = right[r]\n",
    "            r += 1\n",
    "        elif not r < right_length:\n",
    "            # right has been exhausted, fill remaining left\n",
    "            arr[a] = left[l]\n",
    "            l += 1\n",
    "        elif left[l] <= right[r]:\n",
    "            arr[a] = left[l]\n",
    "            l += 1\n",
    "        else:\n",
    "            arr[a] = right[r]\n",
    "            r += 1\n",
    "\n",
    "def _merge_sort_check(arr, start, end):\n",
    "    if start < end:\n",
    "        mid = int((start + end) / 2)\n",
    "        _merge_sort_check(arr, start, mid)\n",
    "        _merge_sort_check(arr, mid+1, end)\n",
    "        merge_check_empty(arr, start, mid, end)\n",
    "    return arr\n",
    "\n",
    "def merge_sort_check(arr):\n",
    "    return _merge_sort_check(arr, 0, len(arr)-1)\n",
    "\n",
    "test_sort(merge_sort_check)"
   ]
  },
  {
   "cell_type": "code",
   "execution_count": 5,
   "metadata": {},
   "outputs": [
    {
     "name": "stdout",
     "output_type": "stream",
     "text": [
      "206 ms ± 550 µs per loop (mean ± std. dev. of 7 runs, 1 loop each)\n"
     ]
    }
   ],
   "source": [
    "%timeit test_sort(merge_sort_check, N=10000)"
   ]
  },
  {
   "cell_type": "code",
   "execution_count": 6,
   "metadata": {
    "collapsed": true
   },
   "outputs": [],
   "source": [
    "%lprun -f _merge_sort_check test_sort(merge_sort_check, N=10000)"
   ]
  },
  {
   "cell_type": "markdown",
   "metadata": {},
   "source": [
    "### Heapsort\n"
   ]
  },
  {
   "cell_type": "code",
   "execution_count": 9,
   "metadata": {},
   "outputs": [
    {
     "data": {
      "text/plain": [
       "'tests passed'"
      ]
     },
     "execution_count": 9,
     "metadata": {},
     "output_type": "execute_result"
    }
   ],
   "source": [
    "def max_heapify_iterative(H, length, top):\n",
    "    p = top\n",
    "    while True:\n",
    "        l = 2*p + 1\n",
    "        r = 2*p + 2\n",
    "        largest = p\n",
    "        if l < length and H[l] > H[largest]:\n",
    "            largest = l\n",
    "        if r < length and H[r] > H[largest]:\n",
    "            largest = r\n",
    "        if largest != p:\n",
    "            H[largest], H[p] = H[p], H[largest]\n",
    "            p = largest\n",
    "        else:\n",
    "            break\n",
    "\n",
    "def build_max_heap_iterative(A, length):\n",
    "    H = A\n",
    "    for i in range(length//2, -1, -1):\n",
    "        max_heapify_iterative(H, length, i)\n",
    "    return H\n",
    "\n",
    "def heapsort(A):\n",
    "    length = len(A)\n",
    "    build_max_heap_iterative(A, length)\n",
    "    for i in range(length-1, 0, -1):\n",
    "        A[0], A[i] = A[i], A[0]\n",
    "        length -= 1\n",
    "        max_heapify_iterative(A, length, 0)\n",
    "\n",
    "test_sort(heapsort)"
   ]
  },
  {
   "cell_type": "code",
   "execution_count": 10,
   "metadata": {},
   "outputs": [
    {
     "name": "stdout",
     "output_type": "stream",
     "text": [
      "247 ms ± 1.12 ms per loop (mean ± std. dev. of 7 runs, 1 loop each)\n"
     ]
    }
   ],
   "source": [
    "%timeit test_sort(heapsort, N=10000)"
   ]
  },
  {
   "cell_type": "markdown",
   "metadata": {},
   "source": [
    "### Quicksort\n",
    "\n"
   ]
  },
  {
   "cell_type": "code",
   "execution_count": 54,
   "metadata": {},
   "outputs": [
    {
     "data": {
      "text/plain": [
       "'tests passed'"
      ]
     },
     "execution_count": 54,
     "metadata": {},
     "output_type": "execute_result"
    }
   ],
   "source": [
    "def partition(A, low, high):\n",
    "    pivot = A[high]\n",
    "    i = low-1\n",
    "    for j in range(low, high):\n",
    "        if A[j] <= pivot:\n",
    "            i += 1\n",
    "            A[i], A[j] = A[j], A[i]\n",
    "\n",
    "    #print('pivot', i+1, p-1)\n",
    "    if A[high] < A[i+1]:\n",
    "        A[i+1], A[high] = A[high], A[i+1]\n",
    "    return i+1\n",
    "\n",
    "def _quicksort(A, low, high):\n",
    "    if low < high:\n",
    "        pivot = partition(A, low, high)\n",
    "        #print('{} {}'.format(q-1 - p, r - q+1))\n",
    "        _quicksort(A, low, pivot-1)\n",
    "        _quicksort(A, pivot+1, high)\n",
    "    \n",
    "def quicksort(A):\n",
    "    return _quicksort(A, 0, len(A)-1)\n",
    "\n",
    "test_sort(quicksort, N=50)"
   ]
  },
  {
   "cell_type": "code",
   "execution_count": 50,
   "metadata": {},
   "outputs": [
    {
     "data": {
      "text/plain": [
       "'tests passed'"
      ]
     },
     "execution_count": 50,
     "metadata": {},
     "output_type": "execute_result"
    }
   ],
   "source": [
    "import numba\n",
    "@numba.jit()\n",
    "def partition_numba(A, low, high):\n",
    "    pivot = A[high]\n",
    "    i = low-1\n",
    "    for j in range(low, high):\n",
    "        if A[j] <= pivot:\n",
    "            i += 1\n",
    "            A[i], A[j] = A[j], A[i]\n",
    "\n",
    "    if A[high] < A[i+1]:\n",
    "        A[i+1], A[high] = A[high], A[i+1]\n",
    "    return i+1\n",
    "\n",
    "@numba.jit()\n",
    "def _quicksort_numba(A, low, high):\n",
    "    if low < high:\n",
    "        pivot = partition_numba(A, low, high)\n",
    "        _quicksort_numba(A, low, pivot-1)\n",
    "        _quicksort_numba(A, pivot+1, high)\n",
    "\n",
    "@numba.jit()\n",
    "def quicksort_numba(A):\n",
    "    return _quicksort_numba(A, 0, len(A)-1)\n",
    "\n",
    "test_sort(quicksort_numba, N=50)"
   ]
  },
  {
   "cell_type": "code",
   "execution_count": 32,
   "metadata": {
    "collapsed": true
   },
   "outputs": [],
   "source": [
    "%lprun -f partition test_sort(quicksort, N=10000)"
   ]
  },
  {
   "cell_type": "code",
   "execution_count": 13,
   "metadata": {
    "collapsed": true
   },
   "outputs": [],
   "source": [
    "def numpy_sort(data):\n",
    "    # TODO: fastpath for .sort() on ndarray\n",
    "    s = numpy.sort(data)\n",
    "    \n",
    "#test_sort(numpy_sort)"
   ]
  },
  {
   "cell_type": "code",
   "execution_count": 64,
   "metadata": {
    "scrolled": false
   },
   "outputs": [
    {
     "name": "stdout",
     "output_type": "stream",
     "text": [
      "[2, 4, 8, 16, 32, 64, 128, 256, 512, 1024, 2048, 4096, 8192, 16384]\n"
     ]
    },
    {
     "data": {
      "text/plain": [
       "<matplotlib.axes._subplots.AxesSubplot at 0x7fa1a54b1d68>"
      ]
     },
     "execution_count": 64,
     "metadata": {},
     "output_type": "execute_result"
    },
    {
     "data": {
      "image/png": "[encoded data removed]",
      "text/plain": [
       "<matplotlib.figure.Figure at 0x7fa1a417ab00>"
      ]
     },
     "metadata": {},
     "output_type": "display_data"
    }
   ],
   "source": [
    "def benchmark_sort(sort, data, number=1):\n",
    "    # FIXME: use autorange to determine number, do re\n",
    "    # FIXME: copy() the data and do repetitions\n",
    "    # FIXME: run just copy alone and check that it is very low influence (or subtract it)\n",
    "    # FIXME: return data normalized per run (divide by number of executions).\n",
    "    # TODO: return not just min value?\n",
    "    timer = timeit.Timer('sort(data)', globals=locals())\n",
    "    times = timer.repeat(repeat=1, number=number) # XXX: cannot use repeat, because first run sorts the data\n",
    "    best = min(times)\n",
    "    return best\n",
    "            \n",
    "N = [ 2**i for i in range(1, 15) ]\n",
    "print(N)\n",
    "inputs = [ randomarray(n) for n in N ]\n",
    "df = pandas.DataFrame({\n",
    "    'N': N,\n",
    "    #'O(n^2)': [ 0.00000003*(n**2) for n in N ],\n",
    "    #'O(n log n)': [ 0.000004 * n * math.log(n, 2) for n in N ],\n",
    "    #'O(n)': [ 0.000004 * n for n in N ],\n",
    "    #'insertionsort': [ benchmark_sort(insertion_sort, i.copy()) for i in inputs ],\n",
    "    'python sort()': [ benchmark_sort(python_sort, i.copy()) for i in inputs ],\n",
    "    'mergesort': [ benchmark_sort(merge_sort_check, i.copy()) for i in inputs ],\n",
    "    'heapsort': [ benchmark_sort(heapsort, i.copy()) for i in inputs ],\n",
    "    'quicksort': [ benchmark_sort(quicksort, i.copy()) for i in inputs ],\n",
    "    'numpy.sort()': [ benchmark_sort(numpy_sort, i.copy()) for i in inputs ],\n",
    "    'numba quicksort()': [ benchmark_sort(quicksort_numba, i.copy()) for i in inputs ],\n",
    "})\n",
    "df.plot(x='N', figsize=(12, 8))\n",
    "            "
   ]
  },
  {
   "cell_type": "markdown",
   "metadata": {},
   "source": [
    "## Results\n",
    "\n",
    "TODO: for each sort function, plot results acrosss N on different input data distributions\n",
    "\n",
    "Results should contain notebook cells generating benchmark data and graphics showing that data, including brief descriptions of the observations.\n",
    "\n",
    "ou should attempt going to at least 1 million entries, except for insertion sort, where you probably need to stop for much smaller data sizes\n",
    "\n",
    "Plot execution times for different N, for each algo\n",
    "\n",
    "Maybe plot distribution of times for a given N and algo. Indicator of measurement variation\n",
    "\n",
    "TODO: compare against include python stardard `.sort()` / `sorted()` ?\n",
    "TODO: compare against Numpy sort?\n",
    "TODO: compare methods using Numba/Cython\n",
    "\n",
    "## Discussion\n",
    "\n",
    "Discuss your results in light of the expectations from the theoretical runtime analysis we performed in class for different types of test data. Comment on unexpected or surprising results. Try to interpret your results.\n",
    "\n",
    "## Conclusions"
   ]
  },
  {
   "cell_type": "code",
   "execution_count": null,
   "metadata": {
    "collapsed": true
   },
   "outputs": [],
   "source": []
  }
 ],
 "metadata": {
  "kernelspec": {
   "display_name": "Python 3",
   "language": "python",
   "name": "python3"
  },
  "language_info": {
   "codemirror_mode": {
    "name": "ipython",
    "version": 3
   },
   "file_extension": ".py",
   "mimetype": "text/x-python",
   "name": "python",
   "nbconvert_exporter": "python",
   "pygments_lexer": "ipython3",
   "version": "3.6.3"
  }
 },
 "nbformat": 4,
 "nbformat_minor": 2
}
