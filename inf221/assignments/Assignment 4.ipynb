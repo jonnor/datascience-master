{
 "cells": [
  {
   "cell_type": "markdown",
   "metadata": {},
   "source": [
    "# Assignment 4\n",
    "Jon Nordby\n",
    "\n",
    "## Exercise 16\n",
    "\n",
    "In the Select-IDE algorithm (lecture 6), what is the probability that you\n",
    "\n",
    "### 1. Select only a single IDE?\n",
    "TODO: import solution from paper\n",
    "### 2. Select n different IDEs?\n",
    "TODO: import solution from paper\n",
    "\n",
    "### 3. Select exactly two IDEs (challenge, 1 point extra)?"
   ]
  },
  {
   "cell_type": "markdown",
   "metadata": {},
   "source": [
    "## Exercise 17\n",
    "\n",
    "CLRS 5.2-5: Let A[1..n] be an array of n distinct numbers.\n",
    "If i < j and A[i] > A[j], then the pair (i, j) is called an inversion.\n",
    "Suppose that all the elements of A form a uniform random permutation\n",
    "(that any ordering is equally likely) of <1, 2, ..., n>.\n",
    "Use indicator random variables to compute the expected number of inversions.\n",
    "\n",
    "Hint: Given (i, j), what is the probability that this pair is an inversion?\n",
    "\n",
    "#### TODO: import solution from paper"
   ]
  },
  {
   "cell_type": "markdown",
   "metadata": {},
   "source": [
    "## Exercise 18\n",
    "\n",
    "CLRS 5.3-2: The following procedure is supposed to generate any permutation of A with equal probability, except the identity permutation (leaving A unchanged). Does this do so?\n",
    "```\n",
    "Permute-Without-Identity(A)\n",
    "  n = A.length\n",
    "  for i = 1 to n-1\n",
    "    swap A[i] with A[Random(i+1, n)]\n",
    "```\n",
    "\n",
    "Hint: Begin by experimenting with small arrays A. Assume that all elements of A are unique."
   ]
  },
  {
   "cell_type": "code",
   "execution_count": 30,
   "metadata": {},
   "outputs": [
    {
     "name": "stdout",
     "output_type": "stream",
     "text": [
      "[3, 2, 0, 1]\n",
      "[2, 0, 3, 1]\n",
      "[2, 3, 1, 0]\n",
      "[2, 3, 1, 0]\n",
      "[3, 2, 0, 1]\n",
      "[2, 3, 1, 0]\n"
     ]
    }
   ],
   "source": [
    "import random\n",
    "\n",
    "def permutation_without_identity(arr):\n",
    "    n = len(arr)\n",
    "    for i in range(0, n-1):\n",
    "        swapidx = random.randint(i+1, n-1)\n",
    "        arr[i], arr[swapidx] = arr[swapidx], arr[i]\n",
    "    return arr\n",
    "\n",
    "A = list(range(0, 4))\n",
    "permutations = [permutation_without_identity(A.copy()) for _ in range(0, 6)]\n",
    "print('\\n'.join(str(a) for a in permutations))\n",
    "\n",
    "# TODO: \n",
    "# either compute histogram of each column\n",
    "# or a vector-histogram of each permutation"
   ]
  },
  {
   "cell_type": "code",
   "execution_count": null,
   "metadata": {
    "collapsed": true
   },
   "outputs": [],
   "source": []
  }
 ],
 "metadata": {
  "kernelspec": {
   "display_name": "Python 3",
   "language": "python",
   "name": "python3"
  },
  "language_info": {
   "codemirror_mode": {
    "name": "ipython",
    "version": 3
   },
   "file_extension": ".py",
   "mimetype": "text/x-python",
   "name": "python",
   "nbconvert_exporter": "python",
   "pygments_lexer": "ipython3",
   "version": "3.6.2"
  }
 },
 "nbformat": 4,
 "nbformat_minor": 2
}
