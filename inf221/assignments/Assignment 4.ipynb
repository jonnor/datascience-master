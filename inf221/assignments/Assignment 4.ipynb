{
 "cells": [
  {
   "cell_type": "markdown",
   "metadata": {},
   "source": [
    "# Assignment 4\n",
    "Jon Nordby\n"
   ]
  },
  {
   "cell_type": "code",
   "execution_count": 11,
   "metadata": {
    "collapsed": true
   },
   "outputs": [],
   "source": [
    "import random"
   ]
  },
  {
   "cell_type": "markdown",
   "metadata": {},
   "source": [
    "## Exercise 16\n",
    "\n",
    "In the Select-IDE algorithm (lecture 6), what is the probability that you\n",
    "\n",
    "### 1. Select only a single IDE?\n",
    "TODO: import solution from paper\n",
    "### 2. Select n different IDEs?\n",
    "TODO: import solution from paper\n",
    "\n",
    "### 3. Select exactly two IDEs (challenge, 1 point extra)?"
   ]
  },
  {
   "cell_type": "markdown",
   "metadata": {},
   "source": [
    "## Exercise 17\n",
    "\n",
    "CLRS 5.2-5: Let A[1..n] be an array of n distinct numbers.\n",
    "If i < j and A[i] > A[j], then the pair (i, j) is called an inversion.\n",
    "Suppose that all the elements of A form a uniform random permutation\n",
    "(that any ordering is equally likely) of <1, 2, ..., n>.\n",
    "Use indicator random variables to compute the expected number of inversions.\n",
    "\n",
    "Hint: Given (i, j), what is the probability that this pair is an inversion?\n",
    "\n",
    "#### TODO: import solution from paper"
   ]
  },
  {
   "cell_type": "markdown",
   "metadata": {},
   "source": [
    "## Exercise 18\n",
    "\n",
    "CLRS 5.3-2: The following procedure is supposed to generate any permutation of A with equal probability, except the identity permutation (leaving A unchanged). Does this do so?\n",
    "```\n",
    "Permute-Without-Identity(A)\n",
    "  n = A.length\n",
    "  for i = 1 to n-1\n",
    "    swap A[i] with A[Random(i+1, n)]\n",
    "```\n",
    "\n",
    "Hint: Begin by experimenting with small arrays A. Assume that all elements of A are unique."
   ]
  },
  {
   "cell_type": "code",
   "execution_count": 30,
   "metadata": {},
   "outputs": [
    {
     "name": "stdout",
     "output_type": "stream",
     "text": [
      "[3, 2, 0, 1]\n",
      "[2, 0, 3, 1]\n",
      "[2, 3, 1, 0]\n",
      "[2, 3, 1, 0]\n",
      "[3, 2, 0, 1]\n",
      "[2, 3, 1, 0]\n"
     ]
    }
   ],
   "source": [
    "import random\n",
    "\n",
    "def permutation_without_identity(arr):\n",
    "    n = len(arr)\n",
    "    for i in range(0, n-1):\n",
    "        swapidx = random.randint(i+1, n-1)\n",
    "        arr[i], arr[swapidx] = arr[swapidx], arr[i]\n",
    "    return arr\n",
    "\n",
    "A = list(range(0, 4))\n",
    "permutations = [permutation_without_identity(A.copy()) for _ in range(0, 6)]\n",
    "print('\\n'.join(str(a) for a in permutations))\n",
    "\n",
    "# TODO: \n",
    "# either compute histogram of each column\n",
    "# or a vector-histogram of each permutation"
   ]
  },
  {
   "cell_type": "markdown",
   "metadata": {
    "collapsed": true
   },
   "source": [
    "## Exercise 19\n",
    "\n",
    "CLRS 6.2-5: The Max-Heapify algorithm is recursive. There is only a single recursive function call, and it occurs at the very end of the algorithm. This is an example of tail recursion. Since function calls can be quite expensive, one usually tries to avoid tail recursion by replacing recursion by a loop construct.\n",
    "\n",
    "Write a Max-Heapify algorithm that uses looping instead of recursion (pseudocode)!\n",
    "\n",
    "Extra credit (1 point): Implement recursive and iterative Max-Heapify and Build-Max-Heap in Python and compare their performance on random input arrays."
   ]
  },
  {
   "cell_type": "markdown",
   "metadata": {},
   "source": [
    "## Exercise 20\n",
    "\n",
    "CLRS 6.5-7\n",
    "\n",
    "* Show how to implement a FIFO queue with a priority queue.\n",
    "* Show how to implement a LIFO stack with a priority queue."
   ]
  },
  {
   "cell_type": "markdown",
   "metadata": {},
   "source": [
    "Using Python as executable pseudocode"
   ]
  },
  {
   "cell_type": "code",
   "execution_count": 30,
   "metadata": {},
   "outputs": [
    {
     "name": "stdout",
     "output_type": "stream",
     "text": [
      "tests passed\n"
     ]
    }
   ],
   "source": [
    "from queue import PriorityQueue\n",
    "\n",
    "class Stack():\n",
    "    def __init__(self, size):\n",
    "        self._queue = PriorityQueue(size) # minimum-priority-queue\n",
    "        self._priority = 0\n",
    "\n",
    "    def pop(self):\n",
    "        priority, val = self._queue.get()\n",
    "        return val\n",
    "\n",
    "    def push(self, val):\n",
    "        # ensure this value will be first returned (LIFO),\n",
    "        # by assigning priorities monotonically decreasing \n",
    "        self._priority -= 1\n",
    "        self._queue.put((self._priority, val))\n",
    "    \n",
    "\n",
    "def check_lifo(values):\n",
    "    s = Stack(len(values))\n",
    "    for val in values:\n",
    "        # check that push/pop gives same element back\n",
    "        s.push(val)\n",
    "        popped = s.pop()\n",
    "        assert popped == val\n",
    "        # put the element so can check results when filled\n",
    "        s.push(val)\n",
    "\n",
    "    out = [ s.pop() for _ in enumerate(values) ]\n",
    "\n",
    "    rev = list(reversed(out))\n",
    "    assert values == rev\n",
    "\n",
    "check_lifo([random.randint(-999, 999) for _ in range(5)])\n",
    "print('tests passed')"
   ]
  },
  {
   "cell_type": "code",
   "execution_count": 35,
   "metadata": {},
   "outputs": [
    {
     "name": "stdout",
     "output_type": "stream",
     "text": [
      "tests passed\n"
     ]
    }
   ],
   "source": [
    "class Queue():\n",
    "    def __init__(self, size):\n",
    "        self._queue = PriorityQueue(size) # minimum-priority-queue\n",
    "        self._priority = 0\n",
    "\n",
    "    def dequeue(self):\n",
    "        priority, val = self._queue.get()\n",
    "        return val\n",
    "        \n",
    "    def enqueue(self, val):\n",
    "        # ensure that the value will be retrieved last (FIFO)\n",
    "        # by assigning priorities monotonically increasing\n",
    "        self._priority += 1\n",
    "        self._queue.put((self._priority, val))\n",
    "\n",
    "def check_fifo(values):\n",
    "    # check that order is preserved, first in should be first out\n",
    "    q = Queue(len(values))\n",
    "    for val in values:\n",
    "        q.enqueue(val)\n",
    "\n",
    "    out = [ q.dequeue() for _ in enumerate(values) ]\n",
    "    assert out == values\n",
    "\n",
    "check_fifo([random.randint(-999, 999) for _ in range(5)])\n",
    "print('tests passed')"
   ]
  },
  {
   "cell_type": "markdown",
   "metadata": {},
   "source": [
    "If the underlying priority queue had been a max-priority-queue instead of min-priority-queue, then priority order would have to be inverted: LIFO would assign increasing priority values, and FIFO decreasing priority values."
   ]
  },
  {
   "cell_type": "code",
   "execution_count": null,
   "metadata": {
    "collapsed": true
   },
   "outputs": [],
   "source": []
  }
 ],
 "metadata": {
  "kernelspec": {
   "display_name": "Python 3",
   "language": "python",
   "name": "python3"
  },
  "language_info": {
   "codemirror_mode": {
    "name": "ipython",
    "version": 3
   },
   "file_extension": ".py",
   "mimetype": "text/x-python",
   "name": "python",
   "nbconvert_exporter": "python",
   "pygments_lexer": "ipython3",
   "version": "3.6.2"
  }
 },
 "nbformat": 4,
 "nbformat_minor": 2
}
