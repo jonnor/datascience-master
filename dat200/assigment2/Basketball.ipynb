{
 "cells": [
  {
   "cell_type": "code",
   "execution_count": 7,
   "metadata": {
    "collapsed": true
   },
   "outputs": [],
   "source": [
    "%matplotlib inline\n",
    "import pandas\n",
    "import numpy\n",
    "import matplotlib.pyplot as plt\n",
    "\n",
    "import sklearn\n",
    "import sklearn.metrics\n",
    "import sklearn.preprocessing\n",
    "from sklearn.cross_decomposition import PLSRegression\n",
    "from sklearn.model_selection import train_test_split\n"
   ]
  },
  {
   "cell_type": "markdown",
   "metadata": {},
   "source": [
    "# Raw data"
   ]
  },
  {
   "cell_type": "code",
   "execution_count": 8,
   "metadata": {},
   "outputs": [
    {
     "data": {
      "text/html": [
       "<div>\n",
       "<style scoped>\n",
       "    .dataframe tbody tr th:only-of-type {\n",
       "        vertical-align: middle;\n",
       "    }\n",
       "\n",
       "    .dataframe tbody tr th {\n",
       "        vertical-align: top;\n",
       "    }\n",
       "\n",
       "    .dataframe thead th {\n",
       "        text-align: right;\n",
       "    }\n",
       "</style>\n",
       "<table border=\"1\" class=\"dataframe\">\n",
       "  <thead>\n",
       "    <tr style=\"text-align: right;\">\n",
       "      <th></th>\n",
       "      <th>combined_shot_type</th>\n",
       "      <th>loc_x</th>\n",
       "      <th>loc_y</th>\n",
       "      <th>minutes_remaining</th>\n",
       "      <th>period</th>\n",
       "      <th>playoffs</th>\n",
       "      <th>season</th>\n",
       "      <th>seconds_remaining</th>\n",
       "      <th>shot_distance</th>\n",
       "      <th>shot_made_flag</th>\n",
       "      <th>shot_type</th>\n",
       "      <th>shot_zone_area</th>\n",
       "      <th>shot_zone_range</th>\n",
       "      <th>opponent</th>\n",
       "      <th>shot_id</th>\n",
       "    </tr>\n",
       "  </thead>\n",
       "  <tbody>\n",
       "    <tr>\n",
       "      <th>0</th>\n",
       "      <td>Jump Shot</td>\n",
       "      <td>-157</td>\n",
       "      <td>0</td>\n",
       "      <td>10</td>\n",
       "      <td>1</td>\n",
       "      <td>0</td>\n",
       "      <td>2000-01</td>\n",
       "      <td>22</td>\n",
       "      <td>15</td>\n",
       "      <td>0.0</td>\n",
       "      <td>2PT Field Goal</td>\n",
       "      <td>Left Side(L)</td>\n",
       "      <td>8-16 ft.</td>\n",
       "      <td>POR</td>\n",
       "      <td>2</td>\n",
       "    </tr>\n",
       "    <tr>\n",
       "      <th>1</th>\n",
       "      <td>Jump Shot</td>\n",
       "      <td>-101</td>\n",
       "      <td>135</td>\n",
       "      <td>7</td>\n",
       "      <td>1</td>\n",
       "      <td>0</td>\n",
       "      <td>2000-01</td>\n",
       "      <td>45</td>\n",
       "      <td>16</td>\n",
       "      <td>1.0</td>\n",
       "      <td>2PT Field Goal</td>\n",
       "      <td>Left Side Center(LC)</td>\n",
       "      <td>16-24 ft.</td>\n",
       "      <td>POR</td>\n",
       "      <td>3</td>\n",
       "    </tr>\n",
       "  </tbody>\n",
       "</table>\n",
       "</div>"
      ],
      "text/plain": [
       "  combined_shot_type  loc_x  loc_y  minutes_remaining  period  playoffs  \\\n",
       "0          Jump Shot   -157      0                 10       1         0   \n",
       "1          Jump Shot   -101    135                  7       1         0   \n",
       "\n",
       "    season  seconds_remaining  shot_distance  shot_made_flag       shot_type  \\\n",
       "0  2000-01                 22             15             0.0  2PT Field Goal   \n",
       "1  2000-01                 45             16             1.0  2PT Field Goal   \n",
       "\n",
       "         shot_zone_area shot_zone_range opponent  shot_id  \n",
       "0          Left Side(L)        8-16 ft.      POR        2  \n",
       "1  Left Side Center(LC)       16-24 ft.      POR        3  "
      ]
     },
     "execution_count": 8,
     "metadata": {},
     "output_type": "execute_result"
    }
   ],
   "source": [
    "raw = pandas.read_csv('./KB_data.csv')\n",
    "raw[:2]"
   ]
  },
  {
   "cell_type": "code",
   "execution_count": 93,
   "metadata": {},
   "outputs": [
    {
     "data": {
      "text/html": [
       "<div>\n",
       "<style scoped>\n",
       "    .dataframe tbody tr th:only-of-type {\n",
       "        vertical-align: middle;\n",
       "    }\n",
       "\n",
       "    .dataframe tbody tr th {\n",
       "        vertical-align: top;\n",
       "    }\n",
       "\n",
       "    .dataframe thead th {\n",
       "        text-align: right;\n",
       "    }\n",
       "</style>\n",
       "<table border=\"1\" class=\"dataframe\">\n",
       "  <thead>\n",
       "    <tr style=\"text-align: right;\">\n",
       "      <th></th>\n",
       "      <th>combined_shot_type</th>\n",
       "      <th>loc_x</th>\n",
       "      <th>loc_y</th>\n",
       "      <th>minutes_remaining</th>\n",
       "      <th>period</th>\n",
       "      <th>playoffs</th>\n",
       "      <th>season</th>\n",
       "      <th>seconds_remaining</th>\n",
       "      <th>shot_distance</th>\n",
       "      <th>shot_made_flag</th>\n",
       "      <th>shot_type</th>\n",
       "      <th>shot_zone_area</th>\n",
       "      <th>shot_zone_range</th>\n",
       "      <th>opponent</th>\n",
       "      <th>shot_id</th>\n",
       "    </tr>\n",
       "  </thead>\n",
       "  <tbody>\n",
       "    <tr>\n",
       "      <th>5862</th>\n",
       "      <td>Layup</td>\n",
       "      <td>0</td>\n",
       "      <td>0</td>\n",
       "      <td>4</td>\n",
       "      <td>1</td>\n",
       "      <td>0</td>\n",
       "      <td>2004-05</td>\n",
       "      <td>34</td>\n",
       "      <td>0</td>\n",
       "      <td>1.0</td>\n",
       "      <td>2PT Field Goal</td>\n",
       "      <td>Center(C)</td>\n",
       "      <td>Less Than 8 ft.</td>\n",
       "      <td>DET</td>\n",
       "      <td>6983</td>\n",
       "    </tr>\n",
       "    <tr>\n",
       "      <th>20287</th>\n",
       "      <td>Jump Shot</td>\n",
       "      <td>108</td>\n",
       "      <td>5</td>\n",
       "      <td>8</td>\n",
       "      <td>2</td>\n",
       "      <td>0</td>\n",
       "      <td>1997-98</td>\n",
       "      <td>34</td>\n",
       "      <td>10</td>\n",
       "      <td>1.0</td>\n",
       "      <td>2PT Field Goal</td>\n",
       "      <td>Right Side(R)</td>\n",
       "      <td>8-16 ft.</td>\n",
       "      <td>DAL</td>\n",
       "      <td>24213</td>\n",
       "    </tr>\n",
       "  </tbody>\n",
       "</table>\n",
       "</div>"
      ],
      "text/plain": [
       "      combined_shot_type  loc_x  loc_y  minutes_remaining  period  playoffs  \\\n",
       "5862               Layup      0      0                  4       1         0   \n",
       "20287          Jump Shot    108      5                  8       2         0   \n",
       "\n",
       "        season  seconds_remaining  shot_distance  shot_made_flag  \\\n",
       "5862   2004-05                 34              0             1.0   \n",
       "20287  1997-98                 34             10             1.0   \n",
       "\n",
       "            shot_type shot_zone_area  shot_zone_range opponent  shot_id  \n",
       "5862   2PT Field Goal      Center(C)  Less Than 8 ft.      DET     6983  \n",
       "20287  2PT Field Goal  Right Side(R)         8-16 ft.      DAL    24213  "
      ]
     },
     "execution_count": 93,
     "metadata": {},
     "output_type": "execute_result"
    }
   ],
   "source": [
    "use_rows = raw['shot_made_flag'].notnull()\n",
    "usage_set = raw[use_rows]\n",
    "compete_set = raw[pandas.isna(raw['shot_made_flag'])]\n",
    "\n",
    "# FIXME:\n",
    "#compete_set = raw[raw['shot_made_flag'] == numpy.nan]\n",
    "#other =  raw[not where_validation]\n",
    "\n",
    "usage_set[:10]\n",
    "\n",
    "# FIXME: test with different test/train splits\n",
    "seed = 1\n",
    "test_size = 0.3\n",
    "training, testing = train_test_split(usage_set, test_size=test_size, random_state=seed)\n",
    "\n",
    "assert compete_set['shot_id'].shape[0] == 5000\n",
    "assert compete_set['shot_id'].values[0] == 4\n",
    "assert compete_set['shot_id'].values[-1] == 30693\n",
    "\n",
    "training[:2]"
   ]
  },
  {
   "cell_type": "code",
   "execution_count": 36,
   "metadata": {},
   "outputs": [
    {
     "name": "stdout",
     "output_type": "stream",
     "text": [
      "count    14487.000000\n",
      "mean        13.507075\n",
      "std          9.335624\n",
      "min          0.000000\n",
      "25%          5.000000\n",
      "50%         15.000000\n",
      "75%         21.000000\n",
      "max         79.000000\n",
      "Name: shot_distance, dtype: float64\n"
     ]
    },
    {
     "data": {
      "text/plain": [
       "<matplotlib.axes._subplots.AxesSubplot at 0x7f9d921330f0>"
      ]
     },
     "execution_count": 36,
     "metadata": {},
     "output_type": "execute_result"
    },
    {
     "data": {
      "image/png": "[encoded data removed]",
      "text/plain": [
       "<matplotlib.figure.Figure at 0x7f9d92076e80>"
      ]
     },
     "metadata": {},
     "output_type": "display_data"
    }
   ],
   "source": [
    "print(training['shot_distance'].describe())\n",
    "\n",
    "training['shot_distance'].hist(bins=30)"
   ]
  },
  {
   "cell_type": "code",
   "execution_count": 94,
   "metadata": {},
   "outputs": [
    {
     "name": "stderr",
     "output_type": "stream",
     "text": [
      "/usr/lib/python3.6/site-packages/ipykernel_launcher.py:3: FutureWarning: reshape is deprecated and will raise in a subsequent release. Please use .values.reshape(...) instead\n",
      "  This is separate from the ipykernel package so we can avoid doing imports until\n",
      "/usr/lib/python3.6/site-packages/ipykernel_launcher.py:4: FutureWarning: reshape is deprecated and will raise in a subsequent release. Please use .values.reshape(...) instead\n",
      "  after removing the cwd from sys.path.\n",
      "/usr/lib/python3.6/site-packages/ipykernel_launcher.py:9: FutureWarning: reshape is deprecated and will raise in a subsequent release. Please use .values.reshape(...) instead\n",
      "  if __name__ == '__main__':\n"
     ]
    },
    {
     "data": {
      "text/plain": [
       "0.5977455716586151"
      ]
     },
     "execution_count": 94,
     "metadata": {},
     "output_type": "execute_result"
    }
   ],
   "source": [
    "labelencoder = sklearn.preprocessing.OneHotEncoder()\n",
    "\n",
    "X = training['shot_distance'].reshape(-1, 1)\n",
    "Y = labelencoder.fit_transform(training['shot_made_flag'].reshape(-1,1)).todense()\n",
    "\n",
    "model = PLSRegression(n_components=1)\n",
    "model.fit(X, Y)\n",
    "\n",
    "X_test = testing['shot_distance'].reshape(-1, 1)\n",
    "Y_test = testing['shot_made_flag'].astype(numpy.bool)\n",
    "Y_pred = model.predict(X_test).argmax(axis=1)\n",
    "\n",
    "Y_pred.shape, Y_test.shape\n",
    "Y_pred[0:10], Y_test.values[0:10]\n",
    "\n",
    "# classification accuracy\n",
    "a = sklearn.metrics.accuracy_score(Y_test, Y_pred)\n",
    "a"
   ]
  },
  {
   "cell_type": "code",
   "execution_count": 98,
   "metadata": {},
   "outputs": [
    {
     "name": "stderr",
     "output_type": "stream",
     "text": [
      "/usr/lib/python3.6/site-packages/ipykernel_launcher.py:1: FutureWarning: reshape is deprecated and will raise in a subsequent release. Please use .values.reshape(...) instead\n",
      "  \"\"\"Entry point for launching an IPython kernel.\n"
     ]
    }
   ],
   "source": [
    "X_comp = compete_set['shot_distance'].reshape(-1, 1)\n",
    "Y_comp = model.predict(X_comp).argmax(axis=-1)\n",
    "\n",
    "out = compete_set.copy()\n",
    "out['shot_made_flag'] = Y_comp.astype(numpy.float)\n",
    "out.to_csv('./submission.csv', index=False, columns=['shot_id', 'shot_made_flag'])"
   ]
  },
  {
   "cell_type": "markdown",
   "metadata": {},
   "source": [
    "### Features\n",
    "Shot type. Categorical\n",
    "Location on court. How is organized?\n",
    "Shot distance\n",
    "Minutes/seconds remaining. In the period? (4x12 min)\n",
    "Period\n",
    "Season\n",
    "Point \n",
    "Opponent\n",
    "\n",
    "### Target\n",
    "\n",
    "Where predictions are removed (nAn) is the validation data\n",
    "\n",
    "Is there any pattern here that can be exploited?\n"
   ]
  },
  {
   "cell_type": "markdown",
   "metadata": {},
   "source": [
    "## Modelling\n",
    "\n",
    "TRY? a dimenson reduction technique to get a feel for the data. PCA/PSLR\n",
    "\n",
    "TODO\n",
    "\n",
    "* check existing Kaggle competitions, good performing algorithms\n",
    "* setup sklearn pipeline\n",
    "* setup Grid search\n",
    "* format Kaggle submission\n",
    "\n",
    "Trips & tricks\n",
    "\n",
    "* LabelEncoder. Categoical data. Ordinal (orderable) versus nominal (not orderable)\n"
   ]
  },
  {
   "cell_type": "code",
   "execution_count": null,
   "metadata": {
    "collapsed": true
   },
   "outputs": [],
   "source": []
  }
 ],
 "metadata": {
  "kernelspec": {
   "display_name": "Python 3",
   "language": "python",
   "name": "python3"
  },
  "language_info": {
   "codemirror_mode": {
    "name": "ipython",
    "version": 3
   },
   "file_extension": ".py",
   "mimetype": "text/x-python",
   "name": "python",
   "nbconvert_exporter": "python",
   "pygments_lexer": "ipython3",
   "version": "3.6.4"
  }
 },
 "nbformat": 4,
 "nbformat_minor": 2
}
