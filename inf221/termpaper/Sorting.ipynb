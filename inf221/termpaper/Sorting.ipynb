{
 "cells": [
  {
   "cell_type": "markdown",
   "metadata": {},
   "source": [
    "Jon Nordby <jonnord@nmbu.no>\n",
    "\n",
    "\n",
    "## Theory\n",
    "\n",
    "\n",
    "### Insertion sort\n",
    "### Merge sort\n",
    " \n",
    "### Quicksort\n",
    "### Heapsort\n",
    "    \n",
    "\n",
    "### Summary of expected execution times\n",
    "\n",
    "Best, Average, Worst\n",
    "\n",
    "Quicksort |\t$n\\log n$ | $n\\log n$ |\t$n^{2}$\n",
    "\n",
    "Merge sort | $n\\log ⁡n$ | $n\\log ⁡n$ | $n\\log ⁡n$\n",
    "\n",
    "Heapsort | $n \\log ⁡n$ | $n\\log n$ | $n\\log n$\n",
    "\n",
    "Insertion sort \t$n$ | $n^{2}$ | $n^{2}$\n",
    "    \n",
    "\n",
    "https://en.wikipedia.org/wiki/Sorting_algorithm\n"
   ]
  },
  {
   "cell_type": "markdown",
   "metadata": {},
   "source": [
    "## Methods\n",
    "\n",
    "\n",
    "The methods section should include\n",
    "\n",
    "    your algorithm implementations \n",
    "    test for correctness\n",
    "    functions for generating test data\n",
    "    functions to collect benchmark data\n",
    "\n",
    "In addition to the actual code, the section should contain brief descriptions of the code. Provide docstrings, but avoid inline comments in Python code.\n",
    "\n",
    "Also describe you strategy for collecting benchmark data.\n",
    "\n",
    "\n",
    "\n",
    "\n",
    "### Test data generation\n",
    "\n",
    "Test data should be automatically generated. As default items to be sorted, use NumPy arrays filled with integers, but also use strings. Test at least with the following types of data\n",
    "\n",
    "    sorted in ascending order\n",
    "    sorted in descending order\n",
    "    identical values\n",
    "    randomly shuffled data\n",
    "    real-life data\n",
    "\n",
    "\n"
   ]
  },
  {
   "cell_type": "code",
   "execution_count": 98,
   "metadata": {},
   "outputs": [
    {
     "name": "stdout",
     "output_type": "stream",
     "text": [
      "The line_profiler extension is already loaded. To reload it, use:\n",
      "  %reload_ext line_profiler\n"
     ]
    }
   ],
   "source": [
    "%load_ext line_profiler\n",
    "\n",
    "%matplotlib inline\n",
    "import matplotlib\n",
    "\n",
    "import math\n",
    "import random\n",
    "import time\n",
    "import timeit\n",
    "import statistics\n",
    "\n",
    "import numpy\n",
    "import pandas"
   ]
  },
  {
   "cell_type": "markdown",
   "metadata": {},
   "source": [
    "### Correctness\n",
    "\n",
    "Correctness is checked against Python as oracle\n"
   ]
  },
  {
   "cell_type": "code",
   "execution_count": 74,
   "metadata": {},
   "outputs": [
    {
     "data": {
      "text/plain": [
       "'tests passed'"
      ]
     },
     "execution_count": 74,
     "metadata": {},
     "output_type": "execute_result"
    }
   ],
   "source": [
    "# TODO: test Numpy array with floats\n",
    "# TODO: test strings\n",
    "def test_sort(sort):\n",
    "    for t in range(10): \n",
    "        d = randomarray(1000)\n",
    "        #expected = sorted(d)\n",
    "        \n",
    "        out = d\n",
    "        sort(out)\n",
    "        #assert out == expected, \"{} != {}\".format(out, expected)\n",
    "        \n",
    "        # TODO: return nicer testreport?\n",
    "        return 'tests passed'\n",
    "\n",
    "def python_sort(data):\n",
    "    data.sort()\n",
    "    return None\n",
    "        \n",
    "test_sort(python_sort)"
   ]
  },
  {
   "cell_type": "markdown",
   "metadata": {},
   "source": [
    "### Insertion sort\n"
   ]
  },
  {
   "cell_type": "code",
   "execution_count": 15,
   "metadata": {},
   "outputs": [
    {
     "data": {
      "text/plain": [
       "'tests passed'"
      ]
     },
     "execution_count": 15,
     "metadata": {},
     "output_type": "execute_result"
    }
   ],
   "source": [
    "def insertion_sort(s):\n",
    "    for i in range(1, len(s)):\n",
    "        val = s[i]\n",
    "        j = i - 1\n",
    "        while j >= 0 and s[j] > val:\n",
    "            s[j+1] = s[j]\n",
    "            j = j - 1\n",
    "        s[j+1] = val\n",
    "    return s\n",
    "\n",
    "test_sort(insertion_sort)"
   ]
  },
  {
   "cell_type": "code",
   "execution_count": 102,
   "metadata": {},
   "outputs": [
    {
     "name": "stdout",
     "output_type": "stream",
     "text": [
      "10 loops, best of 3: 144 ms per loop\n"
     ]
    }
   ],
   "source": [
    "%timeit test_sort(insertion_sort)"
   ]
  },
  {
   "cell_type": "markdown",
   "metadata": {},
   "source": [
    "### Merge sort\n"
   ]
  },
  {
   "cell_type": "code",
   "execution_count": 96,
   "metadata": {},
   "outputs": [
    {
     "data": {
      "text/plain": [
       "'tests passed'"
      ]
     },
     "execution_count": 96,
     "metadata": {},
     "output_type": "execute_result"
    }
   ],
   "source": [
    "def merge_sentinel(arr, start, mid, end):\n",
    "    # Add Infinity after the data, to always compare less when reading hits end\n",
    "    left = arr[start:mid+1] + [math.inf]\n",
    "    right = arr[mid+1:end+1] + [math.inf]\n",
    "    l = 0\n",
    "    r = 0\n",
    "    for a in range(start, end+1):\n",
    "        if left[l] <= right[r]:\n",
    "            arr[a] = left[l]\n",
    "            l += 1\n",
    "        else:\n",
    "            arr[a] = right[r]\n",
    "            r += 1\n",
    "\n",
    "def _merge_sort_sentinel(arr, start, end):\n",
    "    if start < end:\n",
    "        mid = int((start + end) / 2)\n",
    "        _merge_sort_sentinel(arr, start, mid)\n",
    "        _merge_sort_sentinel(arr, mid+1, end)\n",
    "        merge_sentinel(arr, start, mid, end)\n",
    "    return arr\n",
    "    \n",
    "def merge_sort_sentinel(arr):\n",
    "    return _merge_sort_sentinel(arr, 0, len(arr)-1)\n",
    "\n",
    "\n",
    "# Checking for empty instead of using Inf as sentinel value\n",
    "def merge_check_empty(arr, start, mid, end):\n",
    "    left = arr[start:mid+1]\n",
    "    right = arr[mid+1:end+1]\n",
    "    l = 0\n",
    "    r = 0\n",
    "    left_length = len(left)\n",
    "    right_length = len(right)\n",
    "    for a in range(start, end+1):\n",
    "        if not l < left_length:\n",
    "            # left has been exhausted, fill remaining right\n",
    "            arr[a] = right[r]\n",
    "            r += 1\n",
    "        elif not r < right_length:\n",
    "            # right has been exhausted, fill remaining left\n",
    "            arr[a] = left[l]\n",
    "            l += 1\n",
    "        elif left[l] <= right[r]:\n",
    "            arr[a] = left[l]\n",
    "            l += 1\n",
    "        else:\n",
    "            arr[a] = right[r]\n",
    "            r += 1\n",
    "\n",
    "def _merge_sort_check(arr, start, end):\n",
    "    if start < end:\n",
    "        mid = int((start + end) / 2)\n",
    "        _merge_sort_check(arr, start, mid)\n",
    "        _merge_sort_check(arr, mid+1, end)\n",
    "        merge_check_empty(arr, start, mid, end)\n",
    "    return arr\n",
    "\n",
    "def merge_sort_check(arr):\n",
    "    return _merge_sort_check(arr, 0, len(arr)-1)\n",
    "\n",
    "test_sort(merge_sort_sentinel)\n",
    "test_sort(merge_sort_check)"
   ]
  },
  {
   "cell_type": "code",
   "execution_count": 103,
   "metadata": {},
   "outputs": [
    {
     "name": "stdout",
     "output_type": "stream",
     "text": [
      "10 loops, best of 3: 19.4 ms per loop\n"
     ]
    }
   ],
   "source": [
    "%timeit test_sort(merge_sort_check)"
   ]
  },
  {
   "cell_type": "code",
   "execution_count": 76,
   "metadata": {},
   "outputs": [],
   "source": [
    "%lprun -f _merge_sort_check test_sort(merge_sort_check)"
   ]
  },
  {
   "cell_type": "code",
   "execution_count": 77,
   "metadata": {
    "collapsed": true
   },
   "outputs": [],
   "source": [
    "%lprun -f merge_check_empty test_sort(merge_sort_check)"
   ]
  },
  {
   "cell_type": "markdown",
   "metadata": {},
   "source": [
    "### Heapsort\n",
    "\n",
    "TODO: implement\n"
   ]
  },
  {
   "cell_type": "code",
   "execution_count": 17,
   "metadata": {
    "collapsed": true
   },
   "outputs": [],
   "source": [
    "def max_heapify_iterative(H, top):\n",
    "    p = top\n",
    "    length = len(H)\n",
    "    while True:\n",
    "        l = 2*p + 1\n",
    "        r = 2*p + 2\n",
    "        largest = p\n",
    "        if l < length and H[l] > H[largest]:\n",
    "            largest = l\n",
    "        if r < length and H[r] > H[largest]:\n",
    "            largest = r\n",
    "        if largest != p:\n",
    "            H[largest], H[p] = H[p], H[largest]\n",
    "            p = largest\n",
    "        else:\n",
    "            break\n",
    "\n",
    "def build_max_heap_iterative(A):\n",
    "    H = A.copy()\n",
    "    for i in range(len(H)//2, -1, -1):\n",
    "        max_heapify_iterative(H, i)\n",
    "    return H\n",
    "\n",
    "# Note: recursive version of heapify available in assignment 4\n",
    "\n",
    "\n",
    "# TODO: implement heapsort"
   ]
  },
  {
   "cell_type": "markdown",
   "metadata": {},
   "source": [
    "### Quicksort\n",
    "\n",
    "TODO: implement\n"
   ]
  },
  {
   "cell_type": "code",
   "execution_count": 101,
   "metadata": {
    "scrolled": false
   },
   "outputs": [
    {
     "name": "stdout",
     "output_type": "stream",
     "text": [
      "[2, 4, 8, 16, 32, 64, 128, 256, 512, 1024, 2048]\n"
     ]
    },
    {
     "data": {
      "text/plain": [
       "<matplotlib.axes._subplots.AxesSubplot at 0x7f6af6542080>"
      ]
     },
     "execution_count": 101,
     "metadata": {},
     "output_type": "execute_result"
    },
    {
     "data": {
      "image/png": "[encoded data removed]",
      "text/plain": [
       "<matplotlib.figure.Figure at 0x7f6af7ec0780>"
      ]
     },
     "metadata": {},
     "output_type": "display_data"
    }
   ],
   "source": [
    "\n",
    "def numpy_sort(data):\n",
    "    numpy.sort(data)\n",
    "\n",
    "def randomarray(length):\n",
    "    return [random.randint(-300000, 300000) for _ in range(length)]\n",
    "    #r = numpy.random.random(length)\n",
    "    #low = -300000\n",
    "    #high = 300000\n",
    "    #return (high - low) * r + low\n",
    "\n",
    "def benchmark_sort(sort, data, number=10):\n",
    "    timer = timeit.Timer('sort(data)', globals=locals())\n",
    "    times = timer.repeat(repeat=3, number=number)\n",
    "    best = statistics.median(times)\n",
    "    return best\n",
    "            \n",
    "N = [ 2**i for i in range(1, 12) ]\n",
    "print(N)\n",
    "df = pandas.DataFrame({\n",
    "    'N': N,\n",
    "    'O(n^2)': [ 0.00000003*(n**2) for n in N ],\n",
    "    'O(n log n)': [ 0.000004 * n * math.log(n, 2) for n in N ],\n",
    "    'O(n)': [ 0.000004 * n for n in N ],\n",
    "    'insertionsort': [ benchmark_sort(insertion_sort, randomarray(n)) for n in N ],\n",
    "    'python sort()': [ benchmark_sort(python_sort, randomarray(n)) for n in N ],\n",
    "    'mergesort': [ benchmark_sort(merge_sort_sentinel, randomarray(n)) for n in N ],\n",
    "    'mergesort2': [ benchmark_sort(merge_sort_check, randomarray(n)) for n in N ],\n",
    "    'numpy.sort()': [ benchmark_sort(numpy_sort, randomarray(n)) for n in N ],\n",
    "})\n",
    "df.plot(x='N', figsize=(10, 10))\n",
    "            "
   ]
  },
  {
   "cell_type": "markdown",
   "metadata": {},
   "source": [
    "## Results\n",
    "\n",
    "TODO: for each sort function, plot results acrosss N on different input data distributions\n",
    "\n",
    "Results should contain notebook cells generating benchmark data and graphics showing that data, including brief descriptions of the observations.\n",
    "\n",
    "ou should attempt going to at least 1 million entries, except for insertion sort, where you probably need to stop for much smaller data sizes\n",
    "\n",
    "Plot execution times for different N, for each algo\n",
    "\n",
    "Maybe plot distribution of times for a given N and algo. Indicator of measurement variation\n",
    "\n",
    "TODO: compare against include python stardard `.sort()` / `sorted()` ?\n",
    "TODO: compare against Numpy sort?\n",
    "TODO: compare methods using Numba/Cython\n",
    "\n",
    "## Discussion\n",
    "\n",
    "Discuss your results in light of the expectations from the theoretical runtime analysis we performed in class for different types of test data. Comment on unexpected or surprising results. Try to interpret your results.\n",
    "\n",
    "## Conclusions"
   ]
  },
  {
   "cell_type": "code",
   "execution_count": null,
   "metadata": {
    "collapsed": true
   },
   "outputs": [],
   "source": []
  }
 ],
 "metadata": {
  "kernelspec": {
   "display_name": "Python 3",
   "language": "python",
   "name": "python3"
  },
  "language_info": {
   "codemirror_mode": {
    "name": "ipython",
    "version": 3
   },
   "file_extension": ".py",
   "mimetype": "text/x-python",
   "name": "python",
   "nbconvert_exporter": "python",
   "pygments_lexer": "ipython3",
   "version": "3.6.2"
  }
 },
 "nbformat": 4,
 "nbformat_minor": 2
}
