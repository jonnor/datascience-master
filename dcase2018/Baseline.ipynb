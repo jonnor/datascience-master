{
 "cells": [
  {
   "cell_type": "code",
   "execution_count": 161,
   "metadata": {},
   "outputs": [],
   "source": [
    "%matplotlib inline\n",
    "\n",
    "import numpy\n",
    "import pandas\n",
    "import matplotlib.pyplot as plt\n",
    "\n",
    "import sklearn\n",
    "from sklearn.pipeline import Pipeline, make_pipeline\n",
    "from sklearn.preprocessing import StandardScaler\n",
    "from sklearn.mixture import GaussianMixture\n",
    "from sklearn.ensemble import RandomForestClassifier, GradientBoostingClassifier\n",
    "from sklearn.naive_bayes import GaussianNB\n",
    "from sklearn import model_selection\n",
    "from sklearn import metrics\n",
    "\n",
    "import librosa\n",
    "import librosa.display"
   ]
  },
  {
   "cell_type": "code",
   "execution_count": 155,
   "metadata": {},
   "outputs": [],
   "source": [
    "import tarfile\n",
    "import re\n",
    "import io\n",
    "\n",
    "def load_dataset(featurespath, labelpath=None, datadir='data/'):    \n",
    "    features = pandas.read_csv(datadir+featurespath)\n",
    "    #regex = re.compile(r'wav\\/(.*).wav')\n",
    "    #itemid = features.filename.astype('str').str.replace(pat=regex, repl=lambda m: m.group(1), regex=True)\n",
    "    itemid = features.filename.str.replace('.wav', '', regex=False).str.replace('wav/', '')\n",
    "    itemid = itemid.str.replace('PolandNFC_test_', '')\n",
    "    itemid = itemid.str.replace('wabrlrb10k_test_', '')\n",
    "    itemid = itemid.str.replace('chern_', '')\n",
    "    features.index = itemid\n",
    "\n",
    "    data = features.copy()\n",
    "    \n",
    "    if labelpath:\n",
    "        labels = pandas.read_csv(datadir+labelpath, index_col='itemid')\n",
    "        labels.index = labels.index.astype('str')\n",
    "        data['hasbird'] = labels.hasbird.astype('bool')\n",
    "\n",
    "    return data\n"
   ]
  },
  {
   "cell_type": "code",
   "execution_count": 156,
   "metadata": {},
   "outputs": [
    {
     "name": "stdout",
     "output_type": "stream",
     "text": [
      "training (15690, 66)\n",
      "competition (12620, 65)\n"
     ]
    }
   ],
   "source": [
    "train_ff1010 = load_dataset('ff1010bird_wav.melmax.csv', 'ff1010bird.labels.csv')\n",
    "train_warblr = load_dataset('warblrb10k_public_wav.melmax.csv', 'warblrb10k.labels.csv')\n",
    "predict_poland = load_dataset('PolandNFC_test_wav.melmax.csv')\n",
    "predict_warblr = load_dataset('wabrlrb10k_test_wav.melmax.csv')\n",
    "predict_chern = load_dataset('chern_wav.melmax.csv')\n",
    "\n",
    "compete = pandas.concat([predict_warblr, predict_chern, predict_poland])\n",
    "\n",
    "dataset = pandas.concat([train_ff1010, train_warblr])\n",
    "print('training', dataset.shape)\n",
    "print('competition', compete.shape)"
   ]
  },
  {
   "cell_type": "code",
   "execution_count": 104,
   "metadata": {},
   "outputs": [],
   "source": [
    "def plot_precision_recall(Y_test, Y_score):\n",
    "    average_precision = metrics.average_precision_score(Y_test, Y_score)\n",
    "    precision, recall, _ = metrics.precision_recall_curve(Y_test, Y_score)\n",
    "\n",
    "    plt.step(recall, precision, color='b', alpha=0.2, where='post')\n",
    "    plt.fill_between(recall, precision, step='post', alpha=0.2, color='b')\n",
    "\n",
    "    plt.xlabel('Recall')\n",
    "    plt.ylabel('Precision')\n",
    "    plt.ylim([0.0, 1.05])\n",
    "    plt.xlim([0.0, 1.0])\n",
    "    plt.title('2-class Precision-Recall curve: AP={0:0.2f}'.format(average_precision))"
   ]
  },
  {
   "cell_type": "code",
   "execution_count": 165,
   "metadata": {},
   "outputs": [
    {
     "name": "stdout",
     "output_type": "stream",
     "text": [
      "dataset (15690, 64) (15690,) 0.5086042065009561\n",
      "CV: 0.8510 0.0081\n",
      "Train 0.9072227377491365\n",
      "Test 0.8638096971430305\n",
      "recall 0.7954545454545454\n"
     ]
    },
    {
     "data": {
      "text/plain": [
       "array([[1774,  557],\n",
       "       [ 486, 1890]])"
      ]
     },
     "execution_count": 165,
     "metadata": {},
     "output_type": "execute_result"
    }
   ],
   "source": [
    "label_columns = ['hasbird']\n",
    "ignore_columns = ['filename']\n",
    "feature_columns = list(set(dataset.columns) - set(label_columns) - set(ignore_columns))\n",
    "X = dataset[feature_columns]\n",
    "Y = dataset[label_columns[0]]\n",
    "X_train, X_test, Y_train, Y_test = model_selection.train_test_split(X, Y, test_size=0.3, random_state=1)\n",
    "print('dataset', X.shape, Y.shape, numpy.mean(Y))\n",
    "\n",
    "rf = make_pipeline(\n",
    "    GradientBoostingClassifier(n_estimators=100, random_state=1, max_depth=4),\n",
    ")\n",
    "\n",
    "scores = model_selection.cross_val_score(rf, X_train, Y_train, scoring='roc_auc', cv=10)\n",
    "print('CV: {:.4f} {:.4f}'.format(numpy.mean(scores), numpy.std(scores)))\n",
    "\n",
    "rf.fit(X_train, Y_train)\n",
    "roc_auc = metrics.roc_auc_score(Y_train, rf.predict_proba(X_train)[:,1])\n",
    "print('Train', roc_auc)\n",
    "\n",
    "# test\n",
    "roc_auc = metrics.roc_auc_score(Y_test, rf.predict_proba(X_test)[:,1])\n",
    "Y_pred = rf.predict(X_test)\n",
    "recall = metrics.recall_score(Y_test, Y_pred)\n",
    "print('Test', roc_auc)\n",
    "\n",
    "print('recall', recall)\n",
    "\n",
    "metrics.confusion_matrix(Y_test, Y_pred)"
   ]
  },
  {
   "cell_type": "code",
   "execution_count": 166,
   "metadata": {},
   "outputs": [
    {
     "data": {
      "text/plain": [
       "array([[78.5 , 22.76],\n",
       "       [21.5 , 77.24]])"
      ]
     },
     "execution_count": 166,
     "metadata": {},
     "output_type": "execute_result"
    }
   ],
   "source": [
    "cf = metrics.confusion_matrix(Y_test, Y_pred)\n",
    "numpy.round(cf / cf.sum(axis=0), 4)*100"
   ]
  },
  {
   "cell_type": "code",
   "execution_count": null,
   "metadata": {},
   "outputs": [],
   "source": [
    "plot_precision_recall(Y_test, rf.predict_proba(X_test)[:,1])"
   ]
  },
  {
   "cell_type": "code",
   "execution_count": 133,
   "metadata": {},
   "outputs": [
    {
     "data": {
      "text/plain": [
       "<matplotlib.axes._subplots.AxesSubplot at 0x7fcbf931c5f8>"
      ]
     },
     "execution_count": 133,
     "metadata": {},
     "output_type": "execute_result"
    },
    {
     "data": {
      "image/png": "[encoded data removed]",
      "text/plain": [
       "<Figure size 432x288 with 1 Axes>"
      ]
     },
     "metadata": {},
     "output_type": "display_data"
    }
   ],
   "source": [
    "pandas.DataFrame(rf.steps[0][1].feature_importances_).plot()"
   ]
  },
  {
   "cell_type": "code",
   "execution_count": 160,
   "metadata": {},
   "outputs": [],
   "source": [
    "X_compete = compete[feature_columns]\n",
    "df = pandas.DataFrame({\n",
    "    'item': X_compete.index, \n",
    "    'prediction': rf.predict(X_compete).astype('int'),\n",
    "})\n",
    "\n",
    "# check all items correctly named\n",
    "example = pandas.read_csv('example.csv', header=None)\n",
    "diff = set(example[0]).symmetric_difference(df.item)\n",
    "assert diff == set()\n",
    "\n",
    "df.to_csv('prediction.csv', index=False, header=False)"
   ]
  }
 ],
 "metadata": {
  "kernelspec": {
   "display_name": "Python 3",
   "language": "python",
   "name": "python3"
  },
  "language_info": {
   "codemirror_mode": {
    "name": "ipython",
    "version": 3
   },
   "file_extension": ".py",
   "mimetype": "text/x-python",
   "name": "python",
   "nbconvert_exporter": "python",
   "pygments_lexer": "ipython3",
   "version": "3.6.6"
  }
 },
 "nbformat": 4,
 "nbformat_minor": 2
}
