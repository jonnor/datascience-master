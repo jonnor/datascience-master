{
 "cells": [
  {
   "cell_type": "markdown",
   "metadata": {},
   "source": [
    "# Assignment 3 TEL240\n",
    "Jon Nordby\n",
    "\n",
    "## 1 Diferential equations\n",
    "\n",
    "### 1.1: Exercise 1\n",
    "\n",
    "Consider the system described by the following differential equation $ÿ+5 ẏ+6y = u$,\n",
    "being u(t) the system input and y(t) the system output. For an input of $u(t) = 2t$,\n",
    "the system output is given by $y(t) = y_n(t)+y_f(t)$, in which $y_n$ is the system natural\n",
    "response, and $y_f$ is the system forced response.\n",
    "\n",
    "#### (a)\n",
    "For all initial conditions equal to zero, calculate $y_n$ and $y_f$\n",
    "\n",
    "\n",
    "#### (b)\n",
    "For $ẏ(0) = 1$ and $y(0) = 2$, calculate $y_n$ and $y_f$\n",
    "\n",
    "\n",
    "#### (c)\n",
    "For all initial conditions equal to zero, sketch the response y for a square wave\n",
    "input of amplitude 1 and period equal to 10 seconds (Fig. 1). Do the same for\n",
    "$ẏ(0) = 5 and y(0) = 5$.\n",
    "\n",
    "\n",
    "#### (d)\n",
    "Create the system in MATLAB/Simulink. For item (c), print the block diagram, the input and the system output 2 .\n",
    "\n",
    "#### (e)\n",
    "Explain the differences between the two responses"
   ]
  },
  {
   "cell_type": "markdown",
   "metadata": {},
   "source": [
    "## 2 Ziegler-Nichols' method\n",
    "\n",
    "### 2.1: Exercise 2\n",
    "\n",
    "Consider the system described by the following differential equation: $ÿ + 4 ẏ + 8y − 3 = u$,\n",
    "being $u(t)$ the system input, $y(t)$ the system output,\n",
    "and $−3$ a constant disturbance from outside the system.\n",
    "Given that, answer the following questions:\n",
    "\n",
    "#### (a)\n",
    "What is the system order? Is it possible to get oscillations in this system? Of\n",
    "what type (damped, constant amplitude, unstable)?\n",
    "\n",
    "#### (b)\n",
    "Can this system with a PID-controller (i.e., $u = K p e + K i e dt + K d ė$) be tuned by using the Ziegler-Nichols method? Explain.\n",
    "\n",
    "#### (c)\n",
    "Draw the system in Simulink. Considering y(0) = 0 and ẏ(0) = 0 as initial\n",
    "conditions and the use of a P-controller with gain K p = 5 , print the output\n",
    "y(t) of the system for a unit step as a reference input y d after 10s (use the\n",
    "block sources/step).\n",
    "\n",
    "#### (d)\n",
    "Explain why the system response plotted in item (c) has two different patterns,\n",
    "one before 10s and another one after 10s .\n",
    "\n",
    "#### (e)\n",
    "About items (c) and (d), find the stationary value for the first response (from y_d = 0 ) from the system equations.\n",
    "\n",
    "#### (f)\n",
    "Assume now that there is a time-delay between our controller and the system.\n",
    "This may be the case if our controller is very slow to compute the control\n",
    "signal or if the actuators are slow to respond. Assume that the time-delay is\n",
    "of 1s. How does the response of the system change?\n",
    "\n",
    "\n",
    "#### (g)\n",
    "Use Ziegler-Nichols' method in closed loop to find the optimal PID gains for the controller.\n",
    "Describe the system response."
   ]
  },
  {
   "cell_type": "code",
   "execution_count": null,
   "metadata": {},
   "outputs": [],
   "source": []
  }
 ],
 "metadata": {
  "kernelspec": {
   "display_name": "Python 3",
   "language": "python",
   "name": "python3"
  },
  "language_info": {
   "codemirror_mode": {
    "name": "ipython",
    "version": 3
   },
   "file_extension": ".py",
   "mimetype": "text/x-python",
   "name": "python",
   "nbconvert_exporter": "python",
   "pygments_lexer": "ipython3",
   "version": "3.6.4"
  }
 },
 "nbformat": 4,
 "nbformat_minor": 2
}
