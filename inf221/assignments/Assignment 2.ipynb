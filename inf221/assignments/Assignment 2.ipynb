{
 "cells": [
  {
   "cell_type": "markdown",
   "metadata": {},
   "source": [
    "# INF221 Assignment 2"
   ]
  },
  {
   "cell_type": "markdown",
   "metadata": {},
   "source": [
    "## Exercise 5\n",
    "Express the function $\\frac{n^3}{1000}-100n^2-100n+3$ in terms of $\\Theta$-notation. Find suitable constants $c_1,\\:c_2,\\:n_0$."
   ]
  },
  {
   "cell_type": "markdown",
   "metadata": {},
   "source": [
    "$\\Theta = \\frac{n^3}{1000}-100n^2-100n+3$ for $n>>n_0$.\n",
    "\n",
    "$c_1,c_2$\n",
    "\n",
    "master method?"
   ]
  },
  {
   "cell_type": "markdown",
   "metadata": {},
   "source": [
    "## Exercise 6\n",
    "Re-write merge sort (in Python) so that it does not use sentinels, but instead stops once either L or R has had all its elements copied back to A, and then copies the remainder of the other array back to A."
   ]
  },
  {
   "cell_type": "markdown",
   "metadata": {
    "collapsed": true
   },
   "source": [
    "### Original merge sort with sentinel\n",
    "As a reference, here is a version with sentinels, based on the pseudo-code given in Cormen et.al, Chapter 3.2"
   ]
  },
  {
   "cell_type": "code",
   "execution_count": 77,
   "metadata": {},
   "outputs": [
    {
     "name": "stdout",
     "output_type": "stream",
     "text": [
      "[47, 47, -4, 1, -49, -41, -13, -46, 40]\n",
      "[-49, -46, -41, -13, -4, 1, 40, 47, 47]\n",
      "PASSED\n"
     ]
    }
   ],
   "source": [
    "import math\n",
    "import random\n",
    "\n",
    "def merge_sentinel(arr, start, mid, end):\n",
    "    # Add Infinity after the data, to always compare less when reading hits end\n",
    "    left = arr[start:mid+1] + [math.inf]\n",
    "    right = arr[mid+1:end+1] + [math.inf]\n",
    "    l = 0\n",
    "    r = 0\n",
    "    for a in range(start, end+1):\n",
    "        if left[l] <= right[r]:\n",
    "            arr[a] = left[l]\n",
    "            l += 1\n",
    "        else:\n",
    "            arr[a] = right[r]\n",
    "            r += 1\n",
    "    \n",
    "def _merge_sort(arr, start, end, merge):\n",
    "    if start < end:\n",
    "        mid = int((start + end) / 2)\n",
    "        _merge_sort(arr, start, mid, merge)\n",
    "        _merge_sort(arr, mid+1, end, merge)\n",
    "        merge(arr, start, mid, end)\n",
    "    return arr\n",
    "    \n",
    "def merge_sort_sentinel(arr):\n",
    "    return _merge_sort(arr, 0, len(arr)-1, merge_sentinel)\n",
    "    \n",
    "\n",
    "def test_sort(sortfunc):\n",
    "    input = [random.randint(-50, 50) for _ in range(9)]\n",
    "    expected = sorted(input)\n",
    "    print(input)\n",
    "    actual = sortfunc(input.copy())\n",
    "    assert actual == expected, \"\\n{} != \\n{}\".format(actual, expected)\n",
    "    print(actual)\n",
    "    print('PASSED')\n",
    "\n",
    "test_sort(merge_sort_sentinel)"
   ]
  },
  {
   "cell_type": "markdown",
   "metadata": {},
   "source": [
    "### Modified merge sort without sentinel values\n",
    "Only the merge function differs, rest of the algorithm is the same."
   ]
  },
  {
   "cell_type": "code",
   "execution_count": 84,
   "metadata": {},
   "outputs": [
    {
     "name": "stdout",
     "output_type": "stream",
     "text": [
      "[-7, -49, -27, 32, 39, -28, -31, 20, 24]\n",
      "[-49, -31, -28, -27, -7, 20, 24, 32, 39]\n",
      "PASSED\n"
     ]
    }
   ],
   "source": [
    "def merge_check_empty(arr, start, mid, end):\n",
    "    left = arr[start:mid+1]\n",
    "    right = arr[mid+1:end+1]\n",
    "    l = 0\n",
    "    r = 0\n",
    "    left_length = len(left)\n",
    "    right_length = len(right)\n",
    "    for a in range(start, end+1):\n",
    "        if not l < left_length:\n",
    "            # left has been exhausted, fill remaining right\n",
    "            arr[a] = right[r]\n",
    "            r += 1\n",
    "        elif not r < right_length:\n",
    "            # right has been exhausted, fill remaining left\n",
    "            arr[a] = left[l]\n",
    "            l += 1\n",
    "        elif left[l] <= right[r]:\n",
    "            arr[a] = left[l]\n",
    "            l += 1\n",
    "        else:\n",
    "            arr[a] = right[r]\n",
    "            r += 1\n",
    "\n",
    "def merge_sort(arr):\n",
    "    return _merge_sort(arr, 0, len(arr)-1, merge_check_empty)\n",
    "\n",
    "test_sort(merge_sort)"
   ]
  },
  {
   "cell_type": "markdown",
   "metadata": {},
   "source": [
    "This method incurs two extra check for each iteration of the loop, which incurs a performance penalty.\n",
    "However, the sorting algorithm can now be used with data that cannot be meaningfully compared to `math.inf`"
   ]
  },
  {
   "cell_type": "markdown",
   "metadata": {},
   "source": [
    "## Excercise 7\n",
    "Use mathematical induction to show that when $n$ is an exact power of 2, the solution of the recurrence\n",
    "\n",
    "$$T(n)=\\begin{cases} 2 & \\text{if}\\; n = 2 \\\\ 2T(n/2)+n &\\text{if}\\; n = 2^k, \\text{for}\\; k>1\\end{cases}$$\n",
    "\n",
    "is $T(n)=n\\lg n$"
   ]
  },
  {
   "cell_type": "code",
   "execution_count": null,
   "metadata": {
    "collapsed": true
   },
   "outputs": [],
   "source": [
    "# TODO: perform on paper"
   ]
  },
  {
   "cell_type": "markdown",
   "metadata": {},
   "source": [
    "## Exercise 8\n",
    "Show that for any real constants a and b, where $b > 0$, the following holds: $(n+a)^b = \\Theta(n^b)$"
   ]
  },
  {
   "cell_type": "code",
   "execution_count": 1,
   "metadata": {
    "collapsed": true
   },
   "outputs": [],
   "source": [
    "# TODO: perform on paper\n",
    "# lower bound and upper bound separately"
   ]
  },
  {
   "cell_type": "markdown",
   "metadata": {},
   "source": [
    "## Exercise 9\n",
    "\n",
    "Explain why the statement, \"The running time of algorithm A is at least $O(n^2)$\" is meaningless."
   ]
  },
  {
   "cell_type": "markdown",
   "metadata": {},
   "source": [
    "$O$ (big-O) notation is defined as the asymptotic *upper* bound of the execution time. Thus it does not make sense to claim that the execution time is higher than this.\n",
    "When making statements about the lower bound, one should instead use $\\Omega(n^2)$ for an asymptotically tight bound, or $\\omega(n^2)$ for one that is not asymptotically tight.  "
   ]
  },
  {
   "cell_type": "markdown",
   "metadata": {},
   "source": [
    "## Challenge 1\n",
    "Cormen et al, Problem 3-2. Fill in the table, provide arguments for your answers."
   ]
  },
  {
   "cell_type": "markdown",
   "metadata": {
    "collapsed": true
   },
   "source": [
    "![Unfilled](problem-3-2-table.png)"
   ]
  },
  {
   "cell_type": "code",
   "execution_count": 85,
   "metadata": {
    "collapsed": true
   },
   "outputs": [],
   "source": [
    "# TODO: plot each pair"
   ]
  }
 ],
 "metadata": {
  "kernelspec": {
   "display_name": "Python 3",
   "language": "python",
   "name": "python3"
  },
  "language_info": {
   "codemirror_mode": {
    "name": "ipython",
    "version": 3
   },
   "file_extension": ".py",
   "mimetype": "text/x-python",
   "name": "python",
   "nbconvert_exporter": "python",
   "pygments_lexer": "ipython3",
   "version": "3.6.2"
  }
 },
 "nbformat": 4,
 "nbformat_minor": 2
}
