{
 "cells": [
  {
   "cell_type": "markdown",
   "metadata": {},
   "source": [
    "## 1 PID Concept\n",
    "\n",
    "## 1.1 Exercise 1\n",
    "Here are some questions about the PID-controller. Use your own words.\n",
    "\n",
    "> (a) Why a pure P-controller will generate stationary error/offset when used for\n",
    "most of the existing systems?\n",
    "\n",
    "A P-controller applies output proportional to the error. For many systems this will reach a equlibrium near the setpoint, but never reaching it. As Kp gain is higher one can get closer, but at risk of overshoot or instability.\n",
    "\n",
    "> (b) Why the addition of the integral term may remove the stationary error in most\n",
    "of the cases?\n",
    "\n",
    "A stationary error will, if not removed, cause the integral of the error to grow over time.\n",
    "With an I-controller high integral values causes it to take action to counteract, which elimitates the stationary error. \n",
    "\n",
    "> (c) Which controller is the fastest and what controller is the slowest among the\n",
    "pure P-controller, I-controller and D-controller? What does this mean for\n",
    "systems with high-frequency motion and systems with low frequency motion?\n",
    "\n",
    "P is faster than I, as I requires values to build up over time. D is theoretically faster than P, as its value suggests potential future values of the system. \n",
    "\n",
    "When a fast system is needed and a bit of stationary error is acceptable and measurement/process noise is low, a PD controller can be used. If a system does is OK with slow response time, one can use a PI regulator. Not using a D-term can make the system more stable in presence of noise.\n",
    "\n",
    "> (d) What is the main motivation for introducing the D-gain in the controller? Can\n",
    "you suggest another way to achieve the same effect you described?\n",
    "\n",
    "The D-gain is used to counteract oscillations around the setpoint. As a system with inertia or time-delay has been set into motion towards a setpoint, the amount of should be reduced before one gets to the setpoint - or overshoot will happen. The P term does not do this fast enough.\n",
    "\n",
    "> (e) Sum up the main effects of each term P, I and D individually on: (i) response\n",
    "time; (ii) stationary error/offset; (iii) overshoot; (iv) noise; (v) stability\n",
    "\n",
    "Template for the comparative table\n",
    "```\n",
    "P I D\n",
    "\n",
    "Response time.  Decreases. Decreases. Faster settle time \n",
    "Error offset. Decreases. Eliminates. No effect\n",
    "Overshoot.  Increases. Increases. Decreases\n",
    "Noise.   Minor. Minor. Increases.\n",
    "Stability. Decreases. Decreases. Sometimes improves \n",
    "```"
   ]
  },
  {
   "cell_type": "markdown",
   "metadata": {},
   "source": [
    "## 1.2 Exercise 2\n",
    "\n",
    "In MATLAB/Simulink, create a PID controller for the system plant\n",
    "$G(s) = \\frac{Y(s)}{X(s)} = \\frac{s+1}{s^2−5s+6}$\n",
    "to track its output y(t) to x(t) = 1. Find a suitable tuning for that.\n",
    "\n",
    "Plot cases for pure P-controller, PI-controller, and PID-controller.\n",
    "Discuss about the differences."
   ]
  },
  {
   "cell_type": "code",
   "execution_count": 2,
   "metadata": {
    "collapsed": true
   },
   "outputs": [],
   "source": [
    "%matplotlib inline\n",
    "import numpy\n",
    "import scipy\n",
    "import scipy.signal\n",
    "import matplotlib.pyplot as plt\n",
    "import pandas"
   ]
  },
  {
   "cell_type": "markdown",
   "metadata": {},
   "source": [
    "Transfer function of PID regulator $$\\frac{Kd s^2 + Kp s + Ki}{s}$$"
   ]
  },
  {
   "cell_type": "code",
   "execution_count": 25,
   "metadata": {},
   "outputs": [
    {
     "name": "stdout",
     "output_type": "stream",
     "text": [
      "TransferFunctionContinuous(\n",
      "array([  1., 102., 102.,   1.]),\n",
      "array([   1.,   97., -402.,  113.,  557.,   66.]),\n",
      "dt: None\n",
      ")\n"
     ]
    },
    {
     "data": {
      "text/plain": [
       "<matplotlib.axes._subplots.AxesSubplot at 0x7fc53d00e470>"
      ]
     },
     "execution_count": 25,
     "metadata": {},
     "output_type": "execute_result"
    },
    {
     "data": {
      "image/png": "[encoded data removed]",
      "text/plain": [
       "<matplotlib.figure.Figure at 0x7fc53d13c5c0>"
      ]
     },
     "metadata": {},
     "output_type": "display_data"
    }
   ],
   "source": [
    "def plant_system():\n",
    "    num, den = (1, 1), (1, -5, 6)\n",
    "    return scipy.signal.TransferFunction(num, den)\n",
    "# looks like system is fundamentally unstable, tends to infinity as t->\n",
    "\n",
    "def pid(Kp, Ki, Kd):\n",
    "    num, den = (Kd, Kp, Ki), (1, 0)\n",
    "    return scipy.signal.TransferFunction(num, den)  \n",
    "\n",
    "def series(A, B):\n",
    "    P = numpy.polynomial.Polynomial\n",
    "    num = P(A.num) * P(B.num)\n",
    "    den = P(A.den) * P(B.den)\n",
    "    return scipy.signal.TransferFunction(num.coef, den.coef)\n",
    "    \n",
    "def feedback(forward, backward=None, sign=-1):\n",
    "    if backward is None:\n",
    "        backward = scipy.signal.TransferFunction((1), (1))\n",
    "\n",
    "    num1, den1 = forward.num, forward.den\n",
    "    num2, den2 = forward.den, backward.den\n",
    "    polymul = numpy.polymul\n",
    "    polyadd = numpy.polyadd\n",
    "    \n",
    "    num = polymul(num1, den2)\n",
    "    den = polyadd(polymul(den2, den1), -sign * polymul(num2, num1))\n",
    "    return scipy.signal.TransferFunction(num, den)   \n",
    "\n",
    "times = numpy.linspace(0, 5.0)\n",
    "initial = 0.0\n",
    "G = plant_system()\n",
    "C = pid(10.1, 0.1, 0.1)\n",
    "system = feedback(series(C, G))\n",
    "_,YY = scipy.signal.step(system, initial, T=times)\n",
    "\n",
    "print(system)\n",
    "\n",
    "df = pandas.DataFrame({'time': times, 'output': YY})\n",
    "df.plot(x='time', figsize=(12,6))"
   ]
  },
  {
   "cell_type": "code",
   "execution_count": 5,
   "metadata": {},
   "outputs": [
    {
     "data": {
      "image/png": "[encoded data removed]",
      "text/plain": [
       "<matplotlib.figure.Figure at 0x7f86a343b198>"
      ]
     },
     "metadata": {},
     "output_type": "display_data"
    }
   ],
   "source": [
    "# Initially based on https://apmonitor.com/pdc/index.php/Main/SolveDifferentialEquations\n",
    "\n",
    "import numpy as np\n",
    "from scipy.integrate import odeint\n",
    "import matplotlib.pyplot as plt\n",
    "\n",
    "# https://stackoverflow.com/questions/45560737/python-how-to-solve-an-ordinary-differential-equation-with-integral-term-in-it\n",
    "def pid_orig(t, Y):\n",
    "    x1, x2, x3 = Y\n",
    "    e=x1-1\n",
    "    x1dot = x2\n",
    "    edot = x1dot\n",
    "    x3dot = e\n",
    "    u=kp*e+kd*edot+ki*x3\n",
    "    x2dot=u-5*x1-2*x2\n",
    "    return [x1dot, x2dot, x3dot]\n",
    "\n",
    "# function that returns dy/dt\n",
    "def model(y,t,k):\n",
    "    dydt = -k * y\n",
    "    return dydt\n",
    "\n",
    "# initial condition\n",
    "y0 = 5\n",
    "\n",
    "# time points\n",
    "t = np.linspace(0,20,100)\n",
    "\n",
    "# solve ODEs\n",
    "k = 0.1\n",
    "y1 = odeint(model,y0,t,args=(k,))\n",
    "k = 0.2\n",
    "y2 = odeint(model,y0,t,args=(k,))\n",
    "k = 0.5\n",
    "y3 = odeint(model,y0,t,args=(k,))\n",
    "\n",
    "# plot results\n",
    "plt.plot(t,y1,'r-',linewidth=2,label='k=0.1')\n",
    "plt.plot(t,y2,'b--',linewidth=2,label='k=0.2')\n",
    "plt.plot(t,y3,'g:',linewidth=2,label='k=0.5')\n",
    "plt.xlabel('time')\n",
    "plt.ylabel('y(t)')\n",
    "plt.legend()\n",
    "plt.show()"
   ]
  },
  {
   "cell_type": "markdown",
   "metadata": {},
   "source": [
    "# 2 Implementation on AUV\n",
    "Now, let us use the controller for the AUV discussed in the List 1.\n",
    "\n",
    "## 2.1\n",
    "\n",
    "(a) Use the dynamic equations that we found in Exercise 1. Assume that our goal\n",
    "is to make the AUV move with constant velocity v d . Find the expression for\n",
    "a control signal u(t) by using a P-controller. Find the dynamic equations in\n",
    "closed loop.\n",
    "\n",
    "(b) Find the new gain, stationary value and transient in closed loop with the P-\n",
    "controller as a function of K p . What is the effect of increasing K p ? Point out\n",
    "the positive and negative effects of augmenting the gain K p .\n",
    "\n",
    "(c) Find the dynamics of the AUV in closed loop with a PID-controller. Write\n",
    "the system as a first order differential equation in matrix form.\n",
    "\n",
    "(d) Draw the block diagram for the system with PID controller.\n",
    "\n",
    "(e) Assume, as in Exercise 1, that m = 200kg and k = 100kg/s . Implement the\n",
    "block diagram in MATLAB/Simulink. Find values for K p , K i , K d that give\n",
    "us fast response with little oscillations. Remember to choose feasible/realistic\n",
    "values in the real world, for example K p < 5 and not K p > 10000000 (which\n",
    "would demand a gigantic energy cost).\n",
    "\n",
    "(f) Set K d = 0 . Tune K p and K i so that the system becomes critically damped .\n",
    "\n",
    "(g) Find the dynamic equations for the system with the PI-controller. Based on it,\n",
    "calculate values for K p and K i so that the system becomes critically damped .\n",
    "Do the values correspond with the values that you found by tuning in the\n",
    "previous item (f)?"
   ]
  },
  {
   "cell_type": "markdown",
   "metadata": {},
   "source": [
    "# 3. Digital PID\n",
    "\n",
    "## 3.1 Exercise 4\n",
    "(a) What is the difference between the Backward Euler, Forward Euler and Tustin\n",
    "method for implementing the integral or derivative part?\n",
    "\n",
    "(b) Write an equation for the PID-controller in digital domain, where the Back-\n",
    "ward Euler method is used. Use the time period T .\n",
    "\n",
    "(c) What is the effect of a high time period in the system stability?\n",
    "\n",
    "(d) Draw a block diagram for the digital PID controller. Include the block of A/D\n",
    "and D/A converter."
   ]
  },
  {
   "cell_type": "code",
   "execution_count": null,
   "metadata": {
    "collapsed": true
   },
   "outputs": [],
   "source": []
  }
 ],
 "metadata": {
  "kernelspec": {
   "display_name": "Python 3",
   "language": "python",
   "name": "python3"
  },
  "language_info": {
   "codemirror_mode": {
    "name": "ipython",
    "version": 3
   },
   "file_extension": ".py",
   "mimetype": "text/x-python",
   "name": "python",
   "nbconvert_exporter": "python",
   "pygments_lexer": "ipython3",
   "version": "3.6.4"
  }
 },
 "nbformat": 4,
 "nbformat_minor": 2
}
