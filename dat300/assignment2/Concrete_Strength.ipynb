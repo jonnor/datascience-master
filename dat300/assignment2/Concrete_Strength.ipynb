{
 "cells": [
  {
   "cell_type": "markdown",
   "metadata": {
    "colab_type": "text",
    "id": "1zYpvPzwz3m_"
   },
   "source": [
    "# Predicting Concrete Strength with Neural Networks\n",
    "DAT300, group CA2-10. Jon Nordby and Espen Sønneland.\n",
    "\n",
    "\n",
    "## Kaggle setup\n",
    "Downloads data from https://www.kaggle.com/c/dat300-2018-concrete"
   ]
  },
  {
   "cell_type": "code",
   "execution_count": 1,
   "metadata": {
    "colab": {
     "base_uri": "https://localhost:8080/",
     "height": 208
    },
    "colab_type": "code",
    "id": "paWTz67gLwxY",
    "outputId": "b242b3b8-a017-4896-9f42-e7b129e9112d"
   },
   "outputs": [
    {
     "name": "stdout",
     "output_type": "stream",
     "text": [
      "Requirement already satisfied: kaggle in /usr/local/lib/python3.6/dist-packages (1.5.0)\n",
      "Requirement already satisfied: urllib3<1.23.0,>=1.15 in /usr/local/lib/python3.6/dist-packages (from kaggle) (1.22)\n",
      "Requirement already satisfied: python-slugify in /usr/local/lib/python3.6/dist-packages (from kaggle) (1.2.6)\n",
      "Requirement already satisfied: certifi in /usr/local/lib/python3.6/dist-packages (from kaggle) (2018.10.15)\n",
      "Requirement already satisfied: six>=1.10 in /usr/local/lib/python3.6/dist-packages (from kaggle) (1.11.0)\n",
      "Requirement already satisfied: tqdm in /usr/local/lib/python3.6/dist-packages (from kaggle) (4.28.1)\n",
      "Requirement already satisfied: python-dateutil in /usr/local/lib/python3.6/dist-packages (from kaggle) (2.5.3)\n",
      "Requirement already satisfied: requests in /usr/local/lib/python3.6/dist-packages (from kaggle) (2.18.4)\n",
      "Requirement already satisfied: Unidecode>=0.04.16 in /usr/local/lib/python3.6/dist-packages (from python-slugify->kaggle) (1.0.22)\n",
      "Requirement already satisfied: idna<2.7,>=2.5 in /usr/local/lib/python3.6/dist-packages (from requests->kaggle) (2.6)\n",
      "Requirement already satisfied: chardet<3.1.0,>=3.0.2 in /usr/local/lib/python3.6/dist-packages (from requests->kaggle) (3.0.4)\n"
     ]
    }
   ],
   "source": [
    "!pip install kaggle"
   ]
  },
  {
   "cell_type": "code",
   "execution_count": 2,
   "metadata": {
    "colab": {
     "base_uri": "https://localhost:8080/",
     "height": 34
    },
    "colab_type": "code",
    "id": "x240wcGZL1OH",
    "outputId": "d2c50696-08cf-4885-c7b6-d5738a2db5e5"
   },
   "outputs": [
    {
     "name": "stdout",
     "output_type": "stream",
     "text": [
      "Installed to /root/.kaggle/kaggle.json\n"
     ]
    }
   ],
   "source": [
    "import io, os\n",
    "\n",
    "import googleapiclient.discovery\n",
    "import googleapiclient.http\n",
    "import google.colab\n",
    "\n",
    "def colab_kaggle_install_apikey():\n",
    "  \"\"\" \n",
    "  Copies 'kaggle.json' from Google Drive to Colaboratory environment\n",
    "  \n",
    "  Based on https://medium.com/@move37timm/using-kaggle-api-for-google-colaboratory-d18645f93648\n",
    "  \"\"\"\n",
    "  \n",
    "  google.colab.auth.authenticate_user()\n",
    "\n",
    "  drive_service = googleapiclient.discovery.build('drive', 'v3')\n",
    "  results = drive_service.files().list(q=\"name = 'kaggle.json'\", fields=\"files(id)\").execute()\n",
    "  kaggle_api_key = results.get('files', [])\n",
    "  if len(kaggle_api_key) == 0:\n",
    "    raise ValueError(\"Could not find kaggle.json in Google Drive\")\n",
    "\n",
    "  filename = \"/root/.kaggle/kaggle.json\"\n",
    "  os.makedirs(os.path.dirname(filename), exist_ok=True)\n",
    "\n",
    "  request = drive_service.files().get_media(fileId=kaggle_api_key[0]['id'])\n",
    "  fh = io.FileIO(filename, 'wb')\n",
    "  downloader = googleapiclient.http.MediaIoBaseDownload(fh, request)\n",
    "  done = False\n",
    "  while done is False:\n",
    "      status, done = downloader.next_chunk()\n",
    "  os.chmod(filename, 600)\n",
    "  print('Installed to {}'.format(filename))\n",
    "  \n",
    "colab_kaggle_install_apikey()"
   ]
  },
  {
   "cell_type": "code",
   "execution_count": 3,
   "metadata": {
    "colab": {
     "base_uri": "https://localhost:8080/",
     "height": 69
    },
    "colab_type": "code",
    "id": "xxZKXQt8g60X",
    "outputId": "0f42c7d8-dbe2-4eae-de35-b84c6756e5c7"
   },
   "outputs": [
    {
     "name": "stdout",
     "output_type": "stream",
     "text": [
      "Concrete_sampleSubmission.csv: Skipping, found more recently modified local copy (use --force to force download)\n",
      "Concrete_test.csv: Skipping, found more recently modified local copy (use --force to force download)\n",
      "Concrete_train.csv: Skipping, found more recently modified local copy (use --force to force download)\n"
     ]
    }
   ],
   "source": [
    "!kaggle competitions download -c dat300-2018-concrete -p data/"
   ]
  },
  {
   "cell_type": "code",
   "execution_count": 0,
   "metadata": {
    "colab": {},
    "colab_type": "code",
    "id": "yjXtVMqphifK"
   },
   "outputs": [],
   "source": [
    "import time\n",
    "\n",
    "import pandas\n",
    "import numpy\n",
    "import matplotlib.pyplot as plt\n",
    "\n",
    "import sklearn\n",
    "\n",
    "import sklearn.preprocessing\n",
    "import sklearn.model_selection\n",
    "import sklearn.pipeline\n",
    "\n",
    "import sklearn.linear_model\n",
    "import sklearn.ensemble\n",
    "import sklearn.svm\n",
    "\n",
    "import keras\n",
    "import keras.wrappers.scikit_learn"
   ]
  },
  {
   "cell_type": "code",
   "execution_count": 5,
   "metadata": {
    "colab": {
     "base_uri": "https://localhost:8080/",
     "height": 206
    },
    "colab_type": "code",
    "id": "rnDG8pJghzpY",
    "outputId": "ee703842-9a14-4c55-dc41-406b66649456"
   },
   "outputs": [
    {
     "data": {
      "text/html": [
       "<div>\n",
       "<style scoped>\n",
       "    .dataframe tbody tr th:only-of-type {\n",
       "        vertical-align: middle;\n",
       "    }\n",
       "\n",
       "    .dataframe tbody tr th {\n",
       "        vertical-align: top;\n",
       "    }\n",
       "\n",
       "    .dataframe thead th {\n",
       "        text-align: right;\n",
       "    }\n",
       "</style>\n",
       "<table border=\"1\" class=\"dataframe\">\n",
       "  <thead>\n",
       "    <tr style=\"text-align: right;\">\n",
       "      <th></th>\n",
       "      <th>Cement</th>\n",
       "      <th>BlastFurnaceSlag</th>\n",
       "      <th>FlyAsh</th>\n",
       "      <th>Water</th>\n",
       "      <th>Superplasticizer</th>\n",
       "      <th>CoarseAggregate</th>\n",
       "      <th>FineAggregate</th>\n",
       "      <th>Age</th>\n",
       "      <th>ConcreteCompressiveStrength</th>\n",
       "    </tr>\n",
       "  </thead>\n",
       "  <tbody>\n",
       "    <tr>\n",
       "      <th>0</th>\n",
       "      <td>525.000000</td>\n",
       "      <td>0.000000</td>\n",
       "      <td>0.000000</td>\n",
       "      <td>189.000000</td>\n",
       "      <td>0.0</td>\n",
       "      <td>1125.000000</td>\n",
       "      <td>613.000000</td>\n",
       "      <td>7</td>\n",
       "      <td>42.419998</td>\n",
       "    </tr>\n",
       "    <tr>\n",
       "      <th>1</th>\n",
       "      <td>276.000000</td>\n",
       "      <td>116.000000</td>\n",
       "      <td>90.000000</td>\n",
       "      <td>180.000000</td>\n",
       "      <td>9.0</td>\n",
       "      <td>870.000000</td>\n",
       "      <td>768.000000</td>\n",
       "      <td>28</td>\n",
       "      <td>44.279999</td>\n",
       "    </tr>\n",
       "    <tr>\n",
       "      <th>2</th>\n",
       "      <td>182.000000</td>\n",
       "      <td>45.200001</td>\n",
       "      <td>122.000000</td>\n",
       "      <td>170.199997</td>\n",
       "      <td>8.2</td>\n",
       "      <td>1059.400024</td>\n",
       "      <td>780.700012</td>\n",
       "      <td>100</td>\n",
       "      <td>48.669998</td>\n",
       "    </tr>\n",
       "    <tr>\n",
       "      <th>3</th>\n",
       "      <td>212.600006</td>\n",
       "      <td>0.000000</td>\n",
       "      <td>100.400002</td>\n",
       "      <td>159.399994</td>\n",
       "      <td>10.4</td>\n",
       "      <td>1003.799988</td>\n",
       "      <td>903.799988</td>\n",
       "      <td>100</td>\n",
       "      <td>47.740002</td>\n",
       "    </tr>\n",
       "    <tr>\n",
       "      <th>4</th>\n",
       "      <td>251.399994</td>\n",
       "      <td>0.000000</td>\n",
       "      <td>118.300003</td>\n",
       "      <td>188.500000</td>\n",
       "      <td>6.4</td>\n",
       "      <td>1028.400024</td>\n",
       "      <td>757.700012</td>\n",
       "      <td>100</td>\n",
       "      <td>44.209999</td>\n",
       "    </tr>\n",
       "  </tbody>\n",
       "</table>\n",
       "</div>"
      ],
      "text/plain": [
       "       Cement  BlastFurnaceSlag      FlyAsh       Water  Superplasticizer  \\\n",
       "0  525.000000          0.000000    0.000000  189.000000               0.0   \n",
       "1  276.000000        116.000000   90.000000  180.000000               9.0   \n",
       "2  182.000000         45.200001  122.000000  170.199997               8.2   \n",
       "3  212.600006          0.000000  100.400002  159.399994              10.4   \n",
       "4  251.399994          0.000000  118.300003  188.500000               6.4   \n",
       "\n",
       "   CoarseAggregate  FineAggregate  Age  ConcreteCompressiveStrength  \n",
       "0      1125.000000     613.000000    7                    42.419998  \n",
       "1       870.000000     768.000000   28                    44.279999  \n",
       "2      1059.400024     780.700012  100                    48.669998  \n",
       "3      1003.799988     903.799988  100                    47.740002  \n",
       "4      1028.400024     757.700012  100                    44.209999  "
      ]
     },
     "execution_count": 5,
     "metadata": {
      "tags": []
     },
     "output_type": "execute_result"
    }
   ],
   "source": [
    "dataset = pandas.read_csv('data/Concrete_train.csv')\n",
    "target_column = 'ConcreteCompressiveStrength'\n",
    "feature_columns = list(set(dataset.columns) - set([target_column]))\n",
    "\n",
    "dataset.head()"
   ]
  },
  {
   "cell_type": "code",
   "execution_count": 8,
   "metadata": {
    "colab": {
     "base_uri": "https://localhost:8080/",
     "height": 320
    },
    "colab_type": "code",
    "id": "QCtj7AMgkZ_Z",
    "outputId": "e8336a45-071b-4752-b8d2-492d19865ba1"
   },
   "outputs": [
    {
     "data": {
      "text/html": [
       "<div>\n",
       "<style scoped>\n",
       "    .dataframe tbody tr th:only-of-type {\n",
       "        vertical-align: middle;\n",
       "    }\n",
       "\n",
       "    .dataframe tbody tr th {\n",
       "        vertical-align: top;\n",
       "    }\n",
       "\n",
       "    .dataframe thead th {\n",
       "        text-align: right;\n",
       "    }\n",
       "</style>\n",
       "<table border=\"1\" class=\"dataframe\">\n",
       "  <thead>\n",
       "    <tr style=\"text-align: right;\">\n",
       "      <th></th>\n",
       "      <th>Cement</th>\n",
       "      <th>BlastFurnaceSlag</th>\n",
       "      <th>FlyAsh</th>\n",
       "      <th>Water</th>\n",
       "      <th>Superplasticizer</th>\n",
       "      <th>CoarseAggregate</th>\n",
       "      <th>FineAggregate</th>\n",
       "      <th>Age</th>\n",
       "      <th>ConcreteCompressiveStrength</th>\n",
       "    </tr>\n",
       "  </thead>\n",
       "  <tbody>\n",
       "    <tr>\n",
       "      <th>count</th>\n",
       "      <td>721.000000</td>\n",
       "      <td>721.000000</td>\n",
       "      <td>721.000000</td>\n",
       "      <td>721.000000</td>\n",
       "      <td>721.000000</td>\n",
       "      <td>721.000000</td>\n",
       "      <td>721.000000</td>\n",
       "      <td>721.000000</td>\n",
       "      <td>721.000000</td>\n",
       "    </tr>\n",
       "    <tr>\n",
       "      <th>mean</th>\n",
       "      <td>277.400416</td>\n",
       "      <td>77.038835</td>\n",
       "      <td>56.515395</td>\n",
       "      <td>182.490569</td>\n",
       "      <td>6.051040</td>\n",
       "      <td>971.709986</td>\n",
       "      <td>770.042163</td>\n",
       "      <td>44.049931</td>\n",
       "      <td>35.321817</td>\n",
       "    </tr>\n",
       "    <tr>\n",
       "      <th>std</th>\n",
       "      <td>104.586506</td>\n",
       "      <td>87.651090</td>\n",
       "      <td>65.031169</td>\n",
       "      <td>20.920979</td>\n",
       "      <td>5.660229</td>\n",
       "      <td>77.788102</td>\n",
       "      <td>80.282289</td>\n",
       "      <td>60.614426</td>\n",
       "      <td>16.706825</td>\n",
       "    </tr>\n",
       "    <tr>\n",
       "      <th>min</th>\n",
       "      <td>102.000000</td>\n",
       "      <td>0.000000</td>\n",
       "      <td>0.000000</td>\n",
       "      <td>121.800003</td>\n",
       "      <td>0.000000</td>\n",
       "      <td>801.000000</td>\n",
       "      <td>594.000000</td>\n",
       "      <td>1.000000</td>\n",
       "      <td>2.330000</td>\n",
       "    </tr>\n",
       "    <tr>\n",
       "      <th>25%</th>\n",
       "      <td>190.000000</td>\n",
       "      <td>0.000000</td>\n",
       "      <td>0.000000</td>\n",
       "      <td>167.000000</td>\n",
       "      <td>0.000000</td>\n",
       "      <td>932.000000</td>\n",
       "      <td>724.299988</td>\n",
       "      <td>7.000000</td>\n",
       "      <td>22.950001</td>\n",
       "    </tr>\n",
       "    <tr>\n",
       "      <th>50%</th>\n",
       "      <td>254.000000</td>\n",
       "      <td>24.000000</td>\n",
       "      <td>0.000000</td>\n",
       "      <td>185.699997</td>\n",
       "      <td>6.100000</td>\n",
       "      <td>968.000000</td>\n",
       "      <td>776.400024</td>\n",
       "      <td>28.000000</td>\n",
       "      <td>33.950001</td>\n",
       "    </tr>\n",
       "    <tr>\n",
       "      <th>75%</th>\n",
       "      <td>349.000000</td>\n",
       "      <td>145.000000</td>\n",
       "      <td>118.300003</td>\n",
       "      <td>192.000000</td>\n",
       "      <td>10.000000</td>\n",
       "      <td>1028.400024</td>\n",
       "      <td>821.000000</td>\n",
       "      <td>56.000000</td>\n",
       "      <td>45.080002</td>\n",
       "    </tr>\n",
       "    <tr>\n",
       "      <th>max</th>\n",
       "      <td>540.000000</td>\n",
       "      <td>359.399994</td>\n",
       "      <td>200.100006</td>\n",
       "      <td>247.000000</td>\n",
       "      <td>32.200001</td>\n",
       "      <td>1145.000000</td>\n",
       "      <td>992.599976</td>\n",
       "      <td>365.000000</td>\n",
       "      <td>82.599998</td>\n",
       "    </tr>\n",
       "  </tbody>\n",
       "</table>\n",
       "</div>"
      ],
      "text/plain": [
       "           Cement  BlastFurnaceSlag      FlyAsh       Water  Superplasticizer  \\\n",
       "count  721.000000        721.000000  721.000000  721.000000        721.000000   \n",
       "mean   277.400416         77.038835   56.515395  182.490569          6.051040   \n",
       "std    104.586506         87.651090   65.031169   20.920979          5.660229   \n",
       "min    102.000000          0.000000    0.000000  121.800003          0.000000   \n",
       "25%    190.000000          0.000000    0.000000  167.000000          0.000000   \n",
       "50%    254.000000         24.000000    0.000000  185.699997          6.100000   \n",
       "75%    349.000000        145.000000  118.300003  192.000000         10.000000   \n",
       "max    540.000000        359.399994  200.100006  247.000000         32.200001   \n",
       "\n",
       "       CoarseAggregate  FineAggregate         Age  ConcreteCompressiveStrength  \n",
       "count       721.000000     721.000000  721.000000                   721.000000  \n",
       "mean        971.709986     770.042163   44.049931                    35.321817  \n",
       "std          77.788102      80.282289   60.614426                    16.706825  \n",
       "min         801.000000     594.000000    1.000000                     2.330000  \n",
       "25%         932.000000     724.299988    7.000000                    22.950001  \n",
       "50%         968.000000     776.400024   28.000000                    33.950001  \n",
       "75%        1028.400024     821.000000   56.000000                    45.080002  \n",
       "max        1145.000000     992.599976  365.000000                    82.599998  "
      ]
     },
     "execution_count": 8,
     "metadata": {
      "tags": []
     },
     "output_type": "execute_result"
    }
   ],
   "source": [
    "dataset.describe() \n",
    " "
   ]
  },
  {
   "cell_type": "markdown",
   "metadata": {
    "colab_type": "text",
    "id": "_x8rcdyI00ej"
   },
   "source": [
    "## Create models for comparisons\n",
    "\n",
    "Baseline estimators from scikit-learn. Neural Networks using Keras with Tensorflow backend, using the scikit-learn estimator wrapper to have a compatible interface."
   ]
  },
  {
   "cell_type": "code",
   "execution_count": 130,
   "metadata": {
    "colab": {
     "base_uri": "https://localhost:8080/",
     "height": 260
    },
    "colab_type": "code",
    "id": "95TZAqyApRA7",
    "outputId": "174b09c4-47af-49a9-87d3-a8aeea82f82a"
   },
   "outputs": [
    {
     "name": "stdout",
     "output_type": "stream",
     "text": [
      "training RandomForest...took 11.035164 seconds. Test score: 4.241193\n",
      "training MLP 64-32-16 tanh...took 35.818386 seconds. Test score: 4.450910\n",
      "training MLP 64-32-16 Relu...took 35.861743 seconds. Test score: 4.406305\n",
      "training MLP 512-258-128 Relu...took 55.518952 seconds. Test score: 4.023252\n",
      "training MLP 1024-512-256 Relu...took 101.675818 seconds. Test score: 3.654873\n",
      "training MLP 2048-1024-512 Relu...took 267.830899 seconds. Test score: 3.731886\n",
      "training MLP 1024-512-256-64 Relu...took 104.819233 seconds. Test score: 3.679037\n",
      "training Poly4-Ridge...took 6.462159 seconds. Test score: 6.259076\n",
      "training Poly3-Ridge...took 2.131347 seconds. Test score: 5.433845\n",
      "training Poly2-Ridge...took 0.699401 seconds. Test score: 6.678878\n",
      "training Poly1-Ridge...took 0.319804 seconds. Test score: 8.676622\n",
      "training SVM linear...took 20.341797 seconds. Test score: 9.253163\n",
      "training SVM poly3...took 21.690072 seconds. Test score: 6.913316\n",
      "training SVM rbf...took 31.874187 seconds. Test score: 4.604682\n"
     ]
    }
   ],
   "source": [
    "\n",
    "def train_evaluate_model(X, Y, model, gridparams, gridcv=5, evalcv=5, test_size=0.3, rng=1):\n",
    "  \n",
    "    scoring = 'neg_mean_absolute_error'\n",
    "    metric = sklearn.metrics.mean_absolute_error\n",
    "  \n",
    "    X_train, X_test, Y_train, Y_test = \\\n",
    "      sklearn.model_selection.train_test_split(X, Y, test_size=test_size, random_state=rng)\n",
    "    \n",
    " \n",
    "    # Find hyperparameters\n",
    "    train_start = time.time()\n",
    "\n",
    "    estimator = model\n",
    "    if gridparams is None:\n",
    "      details = None\n",
    "    else:\n",
    "      grid = sklearn.model_selection.GridSearchCV(model, gridparams, cv=gridcv, scoring=scoring,\n",
    "                                                  iid=False, refit=False, return_train_score=True)\n",
    "      grid.fit(X_train, Y_train)\n",
    "      details = grid.cv_results_ \n",
    "      estimator.set_params(**grid.best_params_)\n",
    "\n",
    "\n",
    "    # Fit with all training data\n",
    "    history = estimator.fit(X_train, Y_train)\n",
    "    if not getattr(history, 'history', None):\n",
    "      history = None # only want the Keras History instances\n",
    "\n",
    "    train_time = time.time() - train_start\n",
    "    \n",
    "    # Evaluate   \n",
    "    evaluate_start = time.time()\n",
    "    train_score = metric(Y_train, estimator.predict(X_train))\n",
    "    test_score = metric(Y_test, estimator.predict(X_test))\n",
    "    evaluate_time =  time.time() - evaluate_start\n",
    "    \n",
    "    return test_score, history, details, train_time, evaluate_time, train_score, estimator\n",
    "\n",
    "def build_mlp(layer_sizes, activation='relu'):\n",
    "    Dense = keras.layers.Dense\n",
    "  \n",
    "    model = keras.Sequential()\n",
    "    for i, size in enumerate(layer_sizes):\n",
    "      params = dict(activation=activation)\n",
    "      if i == 0:\n",
    "        params['input_dim'] = 8\n",
    "      model.add(Dense(size, **params))\n",
    "      #print('i', size, i, params)\n",
    "    model.add(Dense(1))\n",
    "    \n",
    "    optimizer = keras.optimizers.Adam(lr=0.001*5.0)\n",
    "    \n",
    "    model.compile(loss='mean_absolute_error', optimizer=optimizer)\n",
    "    \n",
    "    return model\n",
    "\n",
    "def KerasMLP(layer_sizes, activation):\n",
    "  def build_func():\n",
    "    return build_mlp(layer_sizes, activation)\n",
    "  \n",
    "  early_stop = keras.callbacks.EarlyStopping(monitor='val_loss',\n",
    "                                             min_delta=0.0, patience=50, verbose=0,\n",
    "                                             mode='auto', baseline=None,\n",
    "                                             restore_best_weights=True)\n",
    "\n",
    "  reduce_lr = keras.callbacks.ReduceLROnPlateau(monitor='val_loss', factor=0.33,\n",
    "                              patience=20, min_lr=0.0001, verbose=0)\n",
    "  \n",
    "  Wrapper = keras.wrappers.scikit_learn.KerasRegressor  \n",
    "  w = Wrapper(build_func, epochs=500, batch_size=50,\n",
    "              callbacks=[reduce_lr], validation_split=0.25, verbose=0)\n",
    "  return w\n",
    "  \n",
    "def PolyRidge(degree):\n",
    "    m = sklearn.pipeline.make_pipeline(\n",
    "      sklearn.preprocessing.PolynomialFeatures(degree),\n",
    "      sklearn.linear_model.Ridge(),\n",
    "    )\n",
    "    return m\n",
    " \n",
    "A_params = numpy.geomspace(0.001, 1000.0, 20)\n",
    "C_params = numpy.geomspace(0.1, 1000.0, 12)\n",
    "gamma_params = numpy.geomspace(0.01, 10.0, 12)\n",
    "\n",
    "models = {\n",
    "    'RandomForest': ( sklearn.ensemble.RandomForestRegressor(n_estimators=50),\n",
    "                     {'max_depth': numpy.linspace(3, 50, 20)}),\n",
    "    \n",
    "    'MLP 64-32-16 tanh': ( KerasMLP([64,32,16],'tanh'), None ),\n",
    "    \n",
    "    #'MLP 16-8-4 Relu': ( KerasMLP([16,8,4],'relu'), None ),\n",
    "    #'MLP 32-16-8 Relu': ( KerasMLP([32,16,8],'relu'), None ),\n",
    "    'MLP 64-32-16 Relu': ( KerasMLP([64,32,16],'relu'), None ),\n",
    "    #'MLP 128-64-32 Relu': ( KerasMLP([128,64,32],'relu'), None ),\n",
    "    #'MLP 258-128-64 Relu': ( KerasMLP([256,128,64],'relu'), None ),\n",
    "    'MLP 512-258-128 Relu': ( KerasMLP([512,256,128],'relu'), None ),\n",
    "    'MLP 1024-512-256 Relu': ( KerasMLP([1024,512,256],'relu'), None ),\n",
    "    'MLP 2048-1024-512 Relu': ( KerasMLP([2048,1024,512],'relu'), None ),\n",
    "    \n",
    "    'MLP 1024-512-256-64 Relu': ( KerasMLP([1024,512,256,64],'relu'), None ),\n",
    "\n",
    "    #'MLP wide 512-128 Relu': ( KerasMLP([512,128],'relu'), None ),\n",
    "    #'MLP wide 1024-128 Relu': ( KerasMLP([1024,128],'relu'), None ),\n",
    "    #'MLP wide 2048-256 Relu': ( KerasMLP([2048,256],'relu'), None ),\n",
    "    #'MLP wide 2048-256 tanh': ( KerasMLP([2048,256],'tanh'), None ),\n",
    "\n",
    "    #'MLP deep 128-128-128-32 Relu': ( KerasMLP([128,128,128,32],'relu'), None ),\n",
    "    #'MLP deep 256-256-256-64 Relu': ( KerasMLP([256,256,256,64],'relu'), None ),\n",
    "\n",
    "    'Poly4-Ridge': ( PolyRidge(4) , { 'ridge__alpha': A_params }),\n",
    "    'Poly3-Ridge': ( PolyRidge(3) , { 'ridge__alpha': A_params }),\n",
    "    'Poly2-Ridge': ( PolyRidge(2) , { 'ridge__alpha': A_params }),\n",
    "    'Poly1-Ridge': ( PolyRidge(1) , { 'ridge__alpha': A_params }),\n",
    "    \n",
    "     # XXX: SVM, kernel=poly freezes when passing gamma\n",
    "    'SVM linear': ( sklearn.svm.SVR(kernel='linear'), { 'C': C_params } ),\n",
    "    'SVM poly3': ( sklearn.svm.SVR(kernel='poly', degree=3), { 'C': C_params } ),\n",
    "    'SVM rbf': ( sklearn.svm.SVR(kernel='rbf'), { 'C': C_params, 'gamma': gamma_params } ),\n",
    "}\n",
    "\n",
    "scaler = sklearn.preprocessing.StandardScaler()\n",
    "X = scaler.fit_transform(dataset[feature_columns])\n",
    "Y = dataset[target_column].values\n",
    "\n",
    "results = {}\n",
    "for i, model in enumerate(models.items()):\n",
    "    name, values = model\n",
    "    estimator, params = values\n",
    "    print('training {}...'.format(name), end='')\n",
    "    r = train_evaluate_model(X, Y, estimator, params)\n",
    "    assert len(r) == 7, len(r)\n",
    "    print('took {:1f} seconds. Test score: {:2f}'.format(r[3]+r[4], r[0]))\n",
    "    results[name] = r"
   ]
  },
  {
   "cell_type": "markdown",
   "metadata": {
    "colab_type": "text",
    "id": "CcCyINz1x6l7"
   },
   "source": [
    "## Plot learning progress of Neural Network"
   ]
  },
  {
   "cell_type": "code",
   "execution_count": 132,
   "metadata": {
    "colab": {
     "base_uri": "https://localhost:8080/",
     "height": 504
    },
    "colab_type": "code",
    "id": "ch9WkJystnKr",
    "outputId": "687d3abc-6743-445c-9163-043b475839f2"
   },
   "outputs": [
    {
     "data": {
      "text/plain": [
       "<matplotlib.axes._subplots.AxesSubplot at 0x7fa431bbf630>"
      ]
     },
     "execution_count": 132,
     "metadata": {
      "tags": []
     },
     "output_type": "execute_result"
    },
    {
     "data": {
      "image/png": "[encoded data removed]",
      "text/plain": [
       "<matplotlib.figure.Figure at 0x7fa431b54ba8>"
      ]
     },
     "metadata": {
      "tags": []
     },
     "output_type": "display_data"
    }
   ],
   "source": [
    "val = { n : r[1].history['val_loss'] for n,r in results.items() if r[1] }\n",
    "def pad_to(length, v):\n",
    "  a = numpy.full(length, numpy.nan)\n",
    "  a[0:len(v)] = v\n",
    "  return a\n",
    "\n",
    "longest = max([ len(v) for v in val.values() ])\n",
    "val = { k: pad_to(longest, v) for k,v in val.items() }\n",
    "val = pandas.DataFrame(val)\n",
    "val.plot(figsize=(16, 8), ylim=(3,7))"
   ]
  },
  {
   "cell_type": "markdown",
   "metadata": {
    "colab_type": "text",
    "id": "hVRX2Zrix2e2"
   },
   "source": [
    "Using `tanh` instead of `ReLu` activation converges significantly slower, and thus performs worse with same amount of training time. For that  reason we focus on *ReLu*."
   ]
  },
  {
   "cell_type": "markdown",
   "metadata": {
    "colab_type": "text",
    "id": "HT-nc4NexnQu"
   },
   "source": [
    "# Summary of results"
   ]
  },
  {
   "cell_type": "code",
   "execution_count": 133,
   "metadata": {
    "colab": {
     "base_uri": "https://localhost:8080/",
     "height": 489
    },
    "colab_type": "code",
    "id": "SA7CzJaWtfKq",
    "outputId": "cf82dc21-7c37-41f8-9b1d-1ca154b319ad"
   },
   "outputs": [
    {
     "data": {
      "text/html": [
       "<div>\n",
       "<style scoped>\n",
       "    .dataframe tbody tr th:only-of-type {\n",
       "        vertical-align: middle;\n",
       "    }\n",
       "\n",
       "    .dataframe tbody tr th {\n",
       "        vertical-align: top;\n",
       "    }\n",
       "\n",
       "    .dataframe thead th {\n",
       "        text-align: right;\n",
       "    }\n",
       "</style>\n",
       "<table border=\"1\" class=\"dataframe\">\n",
       "  <thead>\n",
       "    <tr style=\"text-align: right;\">\n",
       "      <th></th>\n",
       "      <th>model</th>\n",
       "      <th>params</th>\n",
       "      <th>predict_time</th>\n",
       "      <th>test_score</th>\n",
       "      <th>train_score</th>\n",
       "      <th>train_time</th>\n",
       "    </tr>\n",
       "  </thead>\n",
       "  <tbody>\n",
       "    <tr>\n",
       "      <th>4</th>\n",
       "      <td>MLP 1024-512-256 Relu</td>\n",
       "      <td>{}</td>\n",
       "      <td>3.632936</td>\n",
       "      <td>3.654873</td>\n",
       "      <td>1.628134</td>\n",
       "      <td>98.042882</td>\n",
       "    </tr>\n",
       "    <tr>\n",
       "      <th>6</th>\n",
       "      <td>MLP 1024-512-256-64 Relu</td>\n",
       "      <td>{}</td>\n",
       "      <td>3.708816</td>\n",
       "      <td>3.679037</td>\n",
       "      <td>1.587300</td>\n",
       "      <td>101.110417</td>\n",
       "    </tr>\n",
       "    <tr>\n",
       "      <th>5</th>\n",
       "      <td>MLP 2048-1024-512 Relu</td>\n",
       "      <td>{}</td>\n",
       "      <td>3.762365</td>\n",
       "      <td>3.731886</td>\n",
       "      <td>1.592286</td>\n",
       "      <td>264.068533</td>\n",
       "    </tr>\n",
       "    <tr>\n",
       "      <th>3</th>\n",
       "      <td>MLP 512-258-128 Relu</td>\n",
       "      <td>{}</td>\n",
       "      <td>3.562694</td>\n",
       "      <td>4.023252</td>\n",
       "      <td>2.049588</td>\n",
       "      <td>51.956258</td>\n",
       "    </tr>\n",
       "    <tr>\n",
       "      <th>0</th>\n",
       "      <td>RandomForest</td>\n",
       "      <td>{'max_depth': 37.631578947368425}</td>\n",
       "      <td>0.009444</td>\n",
       "      <td>4.241193</td>\n",
       "      <td>1.619001</td>\n",
       "      <td>11.025720</td>\n",
       "    </tr>\n",
       "    <tr>\n",
       "      <th>2</th>\n",
       "      <td>MLP 64-32-16 Relu</td>\n",
       "      <td>{}</td>\n",
       "      <td>3.519528</td>\n",
       "      <td>4.406305</td>\n",
       "      <td>2.826139</td>\n",
       "      <td>32.342215</td>\n",
       "    </tr>\n",
       "    <tr>\n",
       "      <th>1</th>\n",
       "      <td>MLP 64-32-16 tanh</td>\n",
       "      <td>{}</td>\n",
       "      <td>3.459194</td>\n",
       "      <td>4.450910</td>\n",
       "      <td>2.454563</td>\n",
       "      <td>32.359193</td>\n",
       "    </tr>\n",
       "    <tr>\n",
       "      <th>13</th>\n",
       "      <td>SVM rbf</td>\n",
       "      <td>{'C': 432.87612810830615, 'gamma': 0.065793322...</td>\n",
       "      <td>0.012139</td>\n",
       "      <td>4.604682</td>\n",
       "      <td>2.474714</td>\n",
       "      <td>31.862048</td>\n",
       "    </tr>\n",
       "    <tr>\n",
       "      <th>8</th>\n",
       "      <td>Poly3-Ridge</td>\n",
       "      <td>{'ridge__alpha': 1.438449888287663}</td>\n",
       "      <td>0.012279</td>\n",
       "      <td>5.433845</td>\n",
       "      <td>3.157740</td>\n",
       "      <td>2.119068</td>\n",
       "    </tr>\n",
       "    <tr>\n",
       "      <th>7</th>\n",
       "      <td>Poly4-Ridge</td>\n",
       "      <td>{'ridge__alpha': 26.366508987303554}</td>\n",
       "      <td>0.019643</td>\n",
       "      <td>6.259076</td>\n",
       "      <td>2.819240</td>\n",
       "      <td>6.442516</td>\n",
       "    </tr>\n",
       "    <tr>\n",
       "      <th>9</th>\n",
       "      <td>Poly2-Ridge</td>\n",
       "      <td>{'ridge__alpha': 1.438449888287663}</td>\n",
       "      <td>0.002223</td>\n",
       "      <td>6.678878</td>\n",
       "      <td>5.223345</td>\n",
       "      <td>0.697177</td>\n",
       "    </tr>\n",
       "    <tr>\n",
       "      <th>12</th>\n",
       "      <td>SVM poly3</td>\n",
       "      <td>{'C': 35.11191734215131}</td>\n",
       "      <td>0.005360</td>\n",
       "      <td>6.913316</td>\n",
       "      <td>5.357967</td>\n",
       "      <td>21.684712</td>\n",
       "    </tr>\n",
       "    <tr>\n",
       "      <th>10</th>\n",
       "      <td>Poly1-Ridge</td>\n",
       "      <td>{'ridge__alpha': 0.001}</td>\n",
       "      <td>0.000665</td>\n",
       "      <td>8.676622</td>\n",
       "      <td>7.665250</td>\n",
       "      <td>0.319139</td>\n",
       "    </tr>\n",
       "    <tr>\n",
       "      <th>11</th>\n",
       "      <td>SVM linear</td>\n",
       "      <td>{'C': 1000.0}</td>\n",
       "      <td>0.004122</td>\n",
       "      <td>9.253163</td>\n",
       "      <td>7.407687</td>\n",
       "      <td>20.337675</td>\n",
       "    </tr>\n",
       "  </tbody>\n",
       "</table>\n",
       "</div>"
      ],
      "text/plain": [
       "                       model  \\\n",
       "4      MLP 1024-512-256 Relu   \n",
       "6   MLP 1024-512-256-64 Relu   \n",
       "5     MLP 2048-1024-512 Relu   \n",
       "3       MLP 512-258-128 Relu   \n",
       "0               RandomForest   \n",
       "2          MLP 64-32-16 Relu   \n",
       "1          MLP 64-32-16 tanh   \n",
       "13                   SVM rbf   \n",
       "8                Poly3-Ridge   \n",
       "7                Poly4-Ridge   \n",
       "9                Poly2-Ridge   \n",
       "12                 SVM poly3   \n",
       "10               Poly1-Ridge   \n",
       "11                SVM linear   \n",
       "\n",
       "                                               params  predict_time  \\\n",
       "4                                                  {}      3.632936   \n",
       "6                                                  {}      3.708816   \n",
       "5                                                  {}      3.762365   \n",
       "3                                                  {}      3.562694   \n",
       "0                   {'max_depth': 37.631578947368425}      0.009444   \n",
       "2                                                  {}      3.519528   \n",
       "1                                                  {}      3.459194   \n",
       "13  {'C': 432.87612810830615, 'gamma': 0.065793322...      0.012139   \n",
       "8                 {'ridge__alpha': 1.438449888287663}      0.012279   \n",
       "7                {'ridge__alpha': 26.366508987303554}      0.019643   \n",
       "9                 {'ridge__alpha': 1.438449888287663}      0.002223   \n",
       "12                           {'C': 35.11191734215131}      0.005360   \n",
       "10                            {'ridge__alpha': 0.001}      0.000665   \n",
       "11                                      {'C': 1000.0}      0.004122   \n",
       "\n",
       "    test_score  train_score  train_time  \n",
       "4     3.654873     1.628134   98.042882  \n",
       "6     3.679037     1.587300  101.110417  \n",
       "5     3.731886     1.592286  264.068533  \n",
       "3     4.023252     2.049588   51.956258  \n",
       "0     4.241193     1.619001   11.025720  \n",
       "2     4.406305     2.826139   32.342215  \n",
       "1     4.450910     2.454563   32.359193  \n",
       "13    4.604682     2.474714   31.862048  \n",
       "8     5.433845     3.157740    2.119068  \n",
       "7     6.259076     2.819240    6.442516  \n",
       "9     6.678878     5.223345    0.697177  \n",
       "12    6.913316     5.357967   21.684712  \n",
       "10    8.676622     7.665250    0.319139  \n",
       "11    9.253163     7.407687   20.337675  "
      ]
     },
     "execution_count": 133,
     "metadata": {
      "tags": []
     },
     "output_type": "execute_result"
    }
   ],
   "source": [
    "def selected(r):\n",
    "  # return a dictionary of data about the model selected by GridSearchCV\n",
    "  cv_results = r[2]\n",
    "  if cv_results is None:\n",
    "    return {}\n",
    "  df = pandas.DataFrame(cv_results)\n",
    "  s = df.sort_values('rank_test_score', ascending=True)\n",
    "  s = s.to_dict('rows')[0]\n",
    "  return s\n",
    "\n",
    "df = pandas.DataFrame({\n",
    "    'model': list(results.keys()),\n",
    "    'test_score': [ r[0] for r in results.values() ],\n",
    "    'train_score': [ r[5] for r in results.values() ],\n",
    "    'train_time': [ r[3] for r in results.values() ],\n",
    "    'predict_time': [ r[4] for r in results.values() ],\n",
    "    'params': [ selected(r).get('params', {}) for r in results.values() ],\n",
    "})\n",
    "df.sort_values(by='test_score', ascending=True)"
   ]
  },
  {
   "cell_type": "code",
   "execution_count": 134,
   "metadata": {
    "colab": {
     "base_uri": "https://localhost:8080/",
     "height": 555
    },
    "colab_type": "code",
    "id": "RpnRhJI50TMy",
    "outputId": "2a115588-0651-4397-df82-7ba04cdd5596"
   },
   "outputs": [
    {
     "name": "stderr",
     "output_type": "stream",
     "text": [
      "/usr/local/lib/python3.6/dist-packages/pandas/plotting/_core.py:1716: UserWarning: Pandas doesn't allow columns to be created via a new attribute name - see https://pandas.pydata.org/pandas-docs/stable/indexing.html#attribute-access\n",
      "  series.name = label\n"
     ]
    },
    {
     "data": {
      "text/plain": [
       "<matplotlib.axes._subplots.AxesSubplot at 0x7fa433ee02e8>"
      ]
     },
     "execution_count": 134,
     "metadata": {
      "tags": []
     },
     "output_type": "execute_result"
    },
    {
     "data": {
      "image/png": "[encoded data removed]",
      "text/plain": [
       "<matplotlib.figure.Figure at 0x7fa4361aaf60>"
      ]
     },
     "metadata": {
      "tags": []
     },
     "output_type": "display_data"
    }
   ],
   "source": [
    "desc = df.sort_values(by='test_score', ascending=False)\n",
    "desc.plot(kind='barh',x='model', y=['train_score', 'test_score'], legend='reverse', figsize=(8,8))"
   ]
  },
  {
   "cell_type": "markdown",
   "metadata": {
    "colab_type": "text",
    "id": "y7Pc8DekyrSR"
   },
   "source": [
    "The baseline non-linear estimators RandomForest and SVM RBF got Mean-Absolute-Error (MAE) results of 4.2-4.6. Ridge linear regression on Polynomial features were unable to go under MAE 5.0.  Pure linear models were unable to get under MAE 8.0. This suggest quite complex non-linear relationships between concrete strength and the contents of the concrete.\n",
    "\n",
    "Generally bigger Neural Networks perform better. Both adding additional layers in depth, and increasing the size of layers increase the ability to represent the non-linearities of the system.\n",
    "\n",
    "We were suprised by the number of neurons needed, especially considering that we only have 8 features. And that we were able to successfully train networks with over 1 million weights with only 900 instances in our dataset.\n",
    "\n",
    "To reach MAE 3.6-3.7 with the Neural Networks, a critical addition was to use `ReduceLROnPlateau` to reduce learning rate. Before this, the learning progress was chaotic and noisy after epoch 100 (seemingly regardless of hyperparameters), and it was hard to get below MAE 4.0."
   ]
  },
  {
   "cell_type": "markdown",
   "metadata": {
    "colab_type": "text",
    "id": "CLIlxhe441XR"
   },
   "source": [
    "## Accuracy versus inference time"
   ]
  },
  {
   "cell_type": "code",
   "execution_count": 142,
   "metadata": {
    "colab": {
     "base_uri": "https://localhost:8080/",
     "height": 518
    },
    "colab_type": "code",
    "id": "HWz70md950jL",
    "outputId": "b984db0d-afc4-4dd9-841d-95a5b7d05d9f"
   },
   "outputs": [
    {
     "data": {
      "text/plain": [
       "<matplotlib.axes._subplots.AxesSubplot at 0x7fa42f98def0>"
      ]
     },
     "execution_count": 142,
     "metadata": {
      "tags": []
     },
     "output_type": "execute_result"
    },
    {
     "data": {
      "image/png": "[encoded data removed]",
      "text/plain": [
       "<matplotlib.figure.Figure at 0x7fa42f931160>"
      ]
     },
     "metadata": {
      "tags": []
     },
     "output_type": "display_data"
    }
   ],
   "source": [
    "df.plot.scatter('predict_time', 'test_score', logx=True, figsize=(12, 8))"
   ]
  },
  {
   "cell_type": "markdown",
   "metadata": {
    "colab_type": "text",
    "id": "oWXG8EDA487Z"
   },
   "source": [
    "The Neural Network methods are more than two orders-of-magnitude slower than the scikit-learn methods, even the networks that perform similarly to RandomForest and SVM RBF. \n",
    "\n",
    "There is very little time difference between the smallest and largest neural networks, which suggest that there significant some constant-time overhead involved. Possibly this could be reduced by using the CPU for inference. "
   ]
  },
  {
   "cell_type": "markdown",
   "metadata": {
    "colab_type": "text",
    "id": "IadEk4GYzpUC"
   },
   "source": [
    "# Kaggle submission"
   ]
  },
  {
   "cell_type": "code",
   "execution_count": 126,
   "metadata": {
    "colab": {
     "base_uri": "https://localhost:8080/",
     "height": 69
    },
    "colab_type": "code",
    "id": "BWkwXK_bhki1",
    "outputId": "03506eeb-5a5b-4f80-8f1d-4a245ba86938"
   },
   "outputs": [
    {
     "name": "stdout",
     "output_type": "stream",
     "text": [
      "means 37.26594 35.32181697919556\n",
      "b'Successfully submitted to Concrete strength'\n"
     ]
    },
    {
     "data": {
      "text/plain": [
       "'pred_MLP_1024-512-256_Relu.csv'"
      ]
     },
     "execution_count": 126,
     "metadata": {
      "tags": []
     },
     "output_type": "execute_result"
    }
   ],
   "source": [
    "import subprocess\n",
    "\n",
    "def make_submission(data, modelname, competition, submit=True):\n",
    "  X_comp = scaler.transform(data[feature_columns])\n",
    "  trained = results[modelname][6]\n",
    "  Y_pred = trained.predict(X_comp)\n",
    "  #print(X_comp.mean(axis=0), X_comp.std(axis=0))\n",
    "  predictions = pandas.DataFrame({\n",
    "      'ID': range(1, len(data)+1),\n",
    "      'ConcreteCompressiveStrength': Y_pred,\n",
    "  })\n",
    "  print('means', predictions.ConcreteCompressiveStrength.mean(),\n",
    "        dataset.ConcreteCompressiveStrength.mean())\n",
    "\n",
    "  filename = 'pred_{}.csv'.format(modelname.replace(' ', '_'))\n",
    "  predictions.to_csv(filename, index=False, columns=['ID', 'ConcreteCompressiveStrength'])\n",
    "  \n",
    "  if submit:\n",
    "    args = [\n",
    "        'kaggle', 'competitions', 'submit',\n",
    "        '-c', competition,\n",
    "        '-f', filename,\n",
    "        '-m', 'bla'\n",
    "    ]\n",
    "    try:\n",
    "      out = subprocess.check_output(args)\n",
    "    except subprocess.CalledProcessError as e:\n",
    "        print('error', e)\n",
    "    print(out)\n",
    "  \n",
    "  return filename\n",
    "  \n",
    "competeset = pandas.read_csv('data/Concrete_test.csv')\n",
    "make_submission(competeset, 'MLP 1024-512-256 Relu', 'dat300-2018-concrete')"
   ]
  },
  {
   "cell_type": "code",
   "execution_count": 0,
   "metadata": {
    "colab": {},
    "colab_type": "code",
    "id": "JQw0ygULOBep"
   },
   "outputs": [],
   "source": []
  }
 ],
 "metadata": {
  "colab": {
   "collapsed_sections": [],
   "name": "Concrete Strength.ipynb",
   "provenance": [],
   "version": "0.3.2"
  },
  "kernelspec": {
   "display_name": "Python 3",
   "language": "python",
   "name": "python3"
  },
  "language_info": {
   "codemirror_mode": {
    "name": "ipython",
    "version": 3
   },
   "file_extension": ".py",
   "mimetype": "text/x-python",
   "name": "python",
   "nbconvert_exporter": "python",
   "pygments_lexer": "ipython3",
   "version": "3.7.0"
  }
 },
 "nbformat": 4,
 "nbformat_minor": 1
}
