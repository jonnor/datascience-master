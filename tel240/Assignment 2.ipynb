{
 "cells": [
  {
   "cell_type": "markdown",
   "metadata": {},
   "source": [
    "## 1 PID Concept\n",
    "\n",
    "## 1.1 Exercise 1\n",
    "Here are some questions about the PID-controller. Use your own words.\n",
    "\n",
    "(a) Why a pure P-controller will generate stationary error/offset when used for\n",
    "most of the existing systems?\n",
    "\n",
    "(b) Why the addition of the integral term may remove the stationary error in most\n",
    "of the cases?\n",
    "\n",
    "(c) Which controller is the fastest and what controller is the slowest among the\n",
    "pure P-controller, I-controller and D-controller? What does this mean for\n",
    "systems with high-frequency motion and systems with low frequency motion?\n",
    "\n",
    "(d) What is the main motivation for introducing the D-gain in the controller? Can\n",
    "you suggest another way to achieve the same effect you described?\n",
    "\n",
    "(e) Sum up the main effects of each term P, I and D individually on: (i) response\n",
    "time; (ii) stationary error/offset; (iii) overshoot; (iv) noise; (v) stability\n",
    "\n",
    "\n",
    "Template for the comparative table\n",
    "```\n",
    "P I D\n",
    "\n",
    "Response time\n",
    "Error offset\n",
    "Overshoot\n",
    "Noise\n",
    "Stability\n",
    "```"
   ]
  },
  {
   "cell_type": "markdown",
   "metadata": {},
   "source": [
    "## 1.2 Exercise 2\n",
    "\n",
    "In MATLAB/Simulink, create a PID controller for the system plant\n",
    "`G(s) = Y (s) / X(s) = s+1 / s 2 −5s+6`\n",
    "to track its output y(t) to x(t) = 1. Find a suitable tuning for that.\n",
    "\n",
    "Plot cases for pure P-controller, PI-controller, and PID-controller.\n",
    "Discuss about the differences."
   ]
  },
  {
   "cell_type": "markdown",
   "metadata": {},
   "source": [
    "# 2 Implementation on AUV\n",
    "Now, let us use the controller for the AUV discussed in the List 1.\n",
    "\n",
    "## 2.1\n",
    "\n",
    "(a) Use the dynamic equations that we found in Exercise 1. Assume that our goal\n",
    "is to make the AUV move with constant velocity v d . Find the expression for\n",
    "a control signal u(t) by using a P-controller. Find the dynamic equations in\n",
    "closed loop.\n",
    "\n",
    "(b) Find the new gain, stationary value and transient in closed loop with the P-\n",
    "controller as a function of K p . What is the effect of increasing K p ? Point out\n",
    "the positive and negative effects of augmenting the gain K p .\n",
    "\n",
    "(c) Find the dynamics of the AUV in closed loop with a PID-controller. Write\n",
    "the system as a first order differential equation in matrix form.\n",
    "\n",
    "(d) Draw the block diagram for the system with PID controller.\n",
    "\n",
    "(e) Assume, as in Exercise 1, that m = 200kg and k = 100kg/s . Implement the\n",
    "block diagram in MATLAB/Simulink. Find values for K p , K i , K d that give\n",
    "us fast response with little oscillations. Remember to choose feasible/realistic\n",
    "values in the real world, for example K p < 5 and not K p > 10000000 (which\n",
    "would demand a gigantic energy cost).\n",
    "\n",
    "(f) Set K d = 0 . Tune K p and K i so that the system becomes critically damped .\n",
    "\n",
    "(g) Find the dynamic equations for the system with the PI-controller. Based on it,\n",
    "calculate values for K p and K i so that the system becomes critically damped .\n",
    "Do the values correspond with the values that you found by tuning in the\n",
    "previous item (f)?"
   ]
  },
  {
   "cell_type": "markdown",
   "metadata": {},
   "source": [
    "# 3. Digital PID\n",
    "\n",
    "## 3.1 Exercise 4\n",
    "(a) What is the difference between the Backward Euler, Forward Euler and Tustin\n",
    "method for implementing the integral or derivative part?\n",
    "\n",
    "(b) Write an equation for the PID-controller in digital domain, where the Back-\n",
    "ward Euler method is used. Use the time period T .\n",
    "\n",
    "(c) What is the effect of a high time period in the system stability?\n",
    "\n",
    "(d) Draw a block diagram for the digital PID controller. Include the block of A/D\n",
    "and D/A converter."
   ]
  },
  {
   "cell_type": "code",
   "execution_count": null,
   "metadata": {
    "collapsed": true
   },
   "outputs": [],
   "source": []
  }
 ],
 "metadata": {
  "kernelspec": {
   "display_name": "Python 3",
   "language": "python",
   "name": "python3"
  },
  "language_info": {
   "codemirror_mode": {
    "name": "ipython",
    "version": 3
   },
   "file_extension": ".py",
   "mimetype": "text/x-python",
   "name": "python",
   "nbconvert_exporter": "python",
   "pygments_lexer": "ipython3",
   "version": "3.6.4"
  }
 },
 "nbformat": 4,
 "nbformat_minor": 2
}
