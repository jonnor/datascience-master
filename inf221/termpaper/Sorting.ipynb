{
 "cells": [
  {
   "cell_type": "markdown",
   "metadata": {},
   "source": [
    "Jon Nordby <jonnord@nmbu.no>\n",
    "\n",
    "\n",
    "## Background\n",
    "The article compares the \n",
    "\n",
    "### Insertion sort\n",
    "\n",
    "\n",
    "\n",
    "### Merge sort\n",
    " \n",
    "### Quicksort\n",
    "### Heapsort\n",
    "\n",
    "\n",
    "### Insertion sort\n",
    "### Merge sort\n",
    " \n",
    "### Quicksort\n",
    "### Heapsort\n",
    "    \n",
    "\n",
    "### Summary of expected execution times\n",
    "\n",
    "Best, Average, Worst\n",
    "\n",
    "Insertion sort \t$n$ | $n^{2}$ | $n^{2}$\n",
    "\n",
    "Merge sort | $n\\log ⁡n$ | $n\\log ⁡n$ | $n\\log ⁡n$\n",
    "\n",
    "Heapsort | $n \\log ⁡n$ | $n\\log n$ | $n\\log n$\n",
    "\n",
    "Quicksort |\t$n\\log n$ | $n\\log n$ |\t$n^{2}$\n",
    "\n",
    "    \n",
    "\n",
    "https://en.wikipedia.org/wiki/Sorting_algorithm\n"
   ]
  },
  {
   "cell_type": "markdown",
   "metadata": {},
   "source": [
    "## Methods\n",
    "\n",
    "\n",
    "The methods section should include\n",
    "\n",
    "\n",
    "\n",
    "In addition to the actual code, the section should contain brief descriptions of the code. Provide docstrings, but avoid inline comments in Python code.\n",
    "\n",
    "Also describe you strategy for collecting benchmark data."
   ]
  },
  {
   "cell_type": "code",
   "execution_count": 53,
   "metadata": {},
   "outputs": [
    {
     "name": "stdout",
     "output_type": "stream",
     "text": [
      "The line_profiler extension is already loaded. To reload it, use:\n",
      "  %reload_ext line_profiler\n"
     ]
    }
   ],
   "source": [
    "%load_ext line_profiler\n",
    "\n",
    "%matplotlib inline\n",
    "import matplotlib\n",
    "import matplotlib.pyplot as plt\n",
    "\n",
    "import math\n",
    "import random\n",
    "import time\n",
    "import os\n",
    "import sys\n",
    "import timeit\n",
    "import statistics\n",
    "\n",
    "import numpy\n",
    "import pandas\n",
    "import string\n",
    "import hypothesis.strategies"
   ]
  },
  {
   "cell_type": "markdown",
   "metadata": {},
   "source": [
    "### Test data generation"
   ]
  },
  {
   "cell_type": "code",
   "execution_count": 70,
   "metadata": {},
   "outputs": [],
   "source": [
    "def random_integers(length, number_range=30000000):\n",
    "    r = number_range\n",
    "    return [random.randint(-r, r) for _ in range(length)]\n",
    "\n",
    "def random_floats(length, number_range=30000000):\n",
    "    r = number_range\n",
    "    return [random.uniform(-r, r) for _ in range(length)]\n",
    "    \n",
    "def random_numpy(length):\n",
    "    return numpy.random.random(length)\n",
    "\n",
    "def random_strings(length, stringlength=20):\n",
    "    t = hypothesis.strategies.text(alphabet=string.printable, average_size=stringlength)\n",
    "    return [ t.example() for _ in range(length) ]\n",
    "\n",
    "def identical_strings(length, val=None):\n",
    "    if val is None:\n",
    "        val = random_strings(1)[0]\n",
    "    return [ val for _ in range(length) ]\n",
    "\n",
    "def identical_integers(length, val=None):\n",
    "    if val is None:\n",
    "        val = random.randint(0, 100000)\n",
    "    return [ val for _ in range(length) ]\n",
    "\n",
    "def ascending_integers(length, start=0):\n",
    "    return [ start + i for i in range(length) ]\n",
    "\n",
    "def descending_integers(length):\n",
    "    return list(reversed(ascending_integers(length)))\n",
    "\n",
    "input_data_types = [\n",
    "    random_integers,\n",
    "    random_strings,\n",
    "    ascending_integers,\n",
    "    descending_integers,\n",
    "    identical_integers,\n",
    "    identical_strings,\n",
    "]"
   ]
  },
  {
   "cell_type": "code",
   "execution_count": 71,
   "metadata": {},
   "outputs": [],
   "source": [
    "file_sizes = []\n",
    "file_names = []\n",
    "for root, dirs, files in os.walk('/'):\n",
    "    file_names += files\n",
    "    for f in files:\n",
    "        try:\n",
    "            s = os.path.getsize(os.path.join(root, f))\n",
    "            file_sizes.append(s)\n",
    "        except PermissionError:\n",
    "            pass\n",
    "        except FileNotFoundError:\n",
    "            pass\n",
    "        except Exception as e:\n",
    "            print('Unhandled Exception', e.__name__, str(e))\n",
    "    file_sizes += sizes\n",
    "\n",
    "assert len(file_names) > 10e3\n",
    "assert sum(file_sizes) > 10e9\n",
    "    \n",
    "def real_filenames(length):\n",
    "    return [ random.choice(file_names) for _ in range(length) ]\n",
    "\n",
    "def real_filesizes(length):\n",
    "    return [ random.choice(file_sizes) for _ in range(length) ]\n",
    "\n",
    "input_data_types += [\n",
    "    real_filesizes,\n",
    "    real_filenames,\n",
    "]"
   ]
  },
  {
   "cell_type": "markdown",
   "metadata": {},
   "source": [
    "### Correctness\n",
    "\n",
    "\n",
    "Correctness is checked against Python as oracle\n"
   ]
  },
  {
   "cell_type": "code",
   "execution_count": 4,
   "metadata": {},
   "outputs": [
    {
     "data": {
      "text/plain": [
       "'tests passed'"
      ]
     },
     "execution_count": 4,
     "metadata": {},
     "output_type": "execute_result"
    }
   ],
   "source": [
    "def test_sort_with_data(sort, data_generator, examples=50, **kwargs):\n",
    "    for t in range(examples): \n",
    "        data = data_generator(**kwargs)\n",
    "        expected = sorted(data)\n",
    "        out = data # in-place sorting\n",
    "        sort(out)\n",
    "        assert list(out) == expected, \"{} != {}\".format(out, expected)\n",
    "    \n",
    "def test_sort(sort, N=10):\n",
    "    test_sort_with_data(sort, random_strings, length=N)\n",
    "    test_sort_with_data(sort, random_integers, length=N)\n",
    "    test_sort_with_data(sort, random_numpy, length=N)\n",
    "    return 'tests passed'\n",
    "\n",
    "def python_sort(data):\n",
    "    data.sort()\n",
    "    return None\n",
    "        \n",
    "test_sort(python_sort)"
   ]
  },
  {
   "cell_type": "markdown",
   "metadata": {},
   "source": [
    "### Insertion sort\n",
    "\n",
    "Based on pseudo-code from ..."
   ]
  },
  {
   "cell_type": "code",
   "execution_count": 5,
   "metadata": {},
   "outputs": [
    {
     "data": {
      "text/plain": [
       "'tests passed'"
      ]
     },
     "execution_count": 5,
     "metadata": {},
     "output_type": "execute_result"
    }
   ],
   "source": [
    "def insertion_sort(s):\n",
    "    for i in range(1, len(s)):\n",
    "        val = s[i]\n",
    "        j = i - 1\n",
    "        while j >= 0 and s[j] > val:\n",
    "            s[j+1] = s[j]\n",
    "            j = j - 1\n",
    "        s[j+1] = val\n",
    "    return s\n",
    "\n",
    "test_sort(insertion_sort)"
   ]
  },
  {
   "cell_type": "markdown",
   "metadata": {},
   "source": [
    "### Merge sort\n",
    "\n"
   ]
  },
  {
   "cell_type": "code",
   "execution_count": 6,
   "metadata": {},
   "outputs": [
    {
     "ename": "AssertionError",
     "evalue": "[ 0.07314134  0.07314134  0.07314134  0.19939435  0.24044121  0.25042331\n  0.25042331  0.25042331  0.38846835  0.76697732] != [0.073141335161589827, 0.19571699190783798, 0.19939434822545465, 0.24044120637297905, 0.25042330651854983, 0.38846834792912777, 0.47784287746115717, 0.59512360801403674, 0.70641963464940905, 0.76697731785299617]",
     "output_type": "error",
     "traceback": [
      "\u001b[0;31m---------------------------------------------------------------------------\u001b[0m",
      "\u001b[0;31mAssertionError\u001b[0m                            Traceback (most recent call last)",
      "\u001b[0;32m<ipython-input-6-ac5e553be28f>\u001b[0m in \u001b[0;36m<module>\u001b[0;34m()\u001b[0m\n\u001b[1;32m     34\u001b[0m     \u001b[0;32mreturn\u001b[0m \u001b[0m_merge_sort_check\u001b[0m\u001b[0;34m(\u001b[0m\u001b[0marr\u001b[0m\u001b[0;34m,\u001b[0m \u001b[0;36m0\u001b[0m\u001b[0;34m,\u001b[0m \u001b[0mlen\u001b[0m\u001b[0;34m(\u001b[0m\u001b[0marr\u001b[0m\u001b[0;34m)\u001b[0m\u001b[0;34m-\u001b[0m\u001b[0;36m1\u001b[0m\u001b[0;34m)\u001b[0m\u001b[0;34m\u001b[0m\u001b[0m\n\u001b[1;32m     35\u001b[0m \u001b[0;34m\u001b[0m\u001b[0m\n\u001b[0;32m---> 36\u001b[0;31m \u001b[0mtest_sort\u001b[0m\u001b[0;34m(\u001b[0m\u001b[0mmergesort\u001b[0m\u001b[0;34m)\u001b[0m\u001b[0;34m\u001b[0m\u001b[0m\n\u001b[0m",
      "\u001b[0;32m<ipython-input-4-eb2e66bdb2f9>\u001b[0m in \u001b[0;36mtest_sort\u001b[0;34m(sort, N)\u001b[0m\n\u001b[1;32m     10\u001b[0m     \u001b[0mtest_sort_with_data\u001b[0m\u001b[0;34m(\u001b[0m\u001b[0msort\u001b[0m\u001b[0;34m,\u001b[0m \u001b[0mrandom_strings\u001b[0m\u001b[0;34m,\u001b[0m \u001b[0mlength\u001b[0m\u001b[0;34m=\u001b[0m\u001b[0mN\u001b[0m\u001b[0;34m)\u001b[0m\u001b[0;34m\u001b[0m\u001b[0m\n\u001b[1;32m     11\u001b[0m     \u001b[0mtest_sort_with_data\u001b[0m\u001b[0;34m(\u001b[0m\u001b[0msort\u001b[0m\u001b[0;34m,\u001b[0m \u001b[0mrandom_integers\u001b[0m\u001b[0;34m,\u001b[0m \u001b[0mlength\u001b[0m\u001b[0;34m=\u001b[0m\u001b[0mN\u001b[0m\u001b[0;34m)\u001b[0m\u001b[0;34m\u001b[0m\u001b[0m\n\u001b[0;32m---> 12\u001b[0;31m     \u001b[0mtest_sort_with_data\u001b[0m\u001b[0;34m(\u001b[0m\u001b[0msort\u001b[0m\u001b[0;34m,\u001b[0m \u001b[0mrandom_numpy\u001b[0m\u001b[0;34m,\u001b[0m \u001b[0mlength\u001b[0m\u001b[0;34m=\u001b[0m\u001b[0mN\u001b[0m\u001b[0;34m)\u001b[0m\u001b[0;34m\u001b[0m\u001b[0m\n\u001b[0m\u001b[1;32m     13\u001b[0m     \u001b[0;32mreturn\u001b[0m \u001b[0;34m'tests passed'\u001b[0m\u001b[0;34m\u001b[0m\u001b[0m\n\u001b[1;32m     14\u001b[0m \u001b[0;34m\u001b[0m\u001b[0m\n",
      "\u001b[0;32m<ipython-input-4-eb2e66bdb2f9>\u001b[0m in \u001b[0;36mtest_sort_with_data\u001b[0;34m(sort, data_generator, examples, **kwargs)\u001b[0m\n\u001b[1;32m      5\u001b[0m         \u001b[0mout\u001b[0m \u001b[0;34m=\u001b[0m \u001b[0mdata\u001b[0m \u001b[0;31m# in-place sorting\u001b[0m\u001b[0;34m\u001b[0m\u001b[0m\n\u001b[1;32m      6\u001b[0m         \u001b[0msort\u001b[0m\u001b[0;34m(\u001b[0m\u001b[0mout\u001b[0m\u001b[0;34m)\u001b[0m\u001b[0;34m\u001b[0m\u001b[0m\n\u001b[0;32m----> 7\u001b[0;31m         \u001b[0;32massert\u001b[0m \u001b[0mlist\u001b[0m\u001b[0;34m(\u001b[0m\u001b[0mout\u001b[0m\u001b[0;34m)\u001b[0m \u001b[0;34m==\u001b[0m \u001b[0mexpected\u001b[0m\u001b[0;34m,\u001b[0m \u001b[0;34m\"{} != {}\"\u001b[0m\u001b[0;34m.\u001b[0m\u001b[0mformat\u001b[0m\u001b[0;34m(\u001b[0m\u001b[0mout\u001b[0m\u001b[0;34m,\u001b[0m \u001b[0mexpected\u001b[0m\u001b[0;34m)\u001b[0m\u001b[0;34m\u001b[0m\u001b[0m\n\u001b[0m\u001b[1;32m      8\u001b[0m \u001b[0;34m\u001b[0m\u001b[0m\n\u001b[1;32m      9\u001b[0m \u001b[0;32mdef\u001b[0m \u001b[0mtest_sort\u001b[0m\u001b[0;34m(\u001b[0m\u001b[0msort\u001b[0m\u001b[0;34m,\u001b[0m \u001b[0mN\u001b[0m\u001b[0;34m=\u001b[0m\u001b[0;36m10\u001b[0m\u001b[0;34m)\u001b[0m\u001b[0;34m:\u001b[0m\u001b[0;34m\u001b[0m\u001b[0m\n",
      "\u001b[0;31mAssertionError\u001b[0m: [ 0.07314134  0.07314134  0.07314134  0.19939435  0.24044121  0.25042331\n  0.25042331  0.25042331  0.38846835  0.76697732] != [0.073141335161589827, 0.19571699190783798, 0.19939434822545465, 0.24044120637297905, 0.25042330651854983, 0.38846834792912777, 0.47784287746115717, 0.59512360801403674, 0.70641963464940905, 0.76697731785299617]"
     ]
    }
   ],
   "source": [
    "def merge_check_empty(arr, start, mid, end):\n",
    "    \"\"\"Merge arr[start:mid] with arr[mid:end]\"\"\"\n",
    "    left = arr[start:mid+1]\n",
    "    right = arr[mid+1:end+1]\n",
    "    l = 0\n",
    "    r = 0\n",
    "    left_length = len(left)\n",
    "    right_length = len(right)\n",
    "    for a in range(start, end+1):\n",
    "        if not l < left_length:\n",
    "            # left has been exhausted, fill remaining right\n",
    "            arr[a] = right[r]\n",
    "            r += 1\n",
    "        elif not r < right_length:\n",
    "            # right has been exhausted, fill remaining left\n",
    "            arr[a] = left[l]\n",
    "            l += 1\n",
    "        elif left[l] <= right[r]:\n",
    "            arr[a] = left[l]\n",
    "            l += 1\n",
    "        else:\n",
    "            arr[a] = right[r]\n",
    "            r += 1\n",
    "\n",
    "def _merge_sort_check(arr, start, end):\n",
    "    if start < end:\n",
    "        mid = int((start + end) / 2)\n",
    "        _merge_sort_check(arr, start, mid)\n",
    "        _merge_sort_check(arr, mid+1, end)\n",
    "        merge_check_empty(arr, start, mid, end)\n",
    "    return arr\n",
    "\n",
    "def mergesort(arr):\n",
    "    return _merge_sort_check(arr, 0, len(arr)-1)\n",
    "\n",
    "test_sort(mergesort)"
   ]
  },
  {
   "cell_type": "markdown",
   "metadata": {},
   "source": [
    "### Heapsort\n"
   ]
  },
  {
   "cell_type": "code",
   "execution_count": 7,
   "metadata": {},
   "outputs": [
    {
     "data": {
      "text/plain": [
       "'tests passed'"
      ]
     },
     "execution_count": 7,
     "metadata": {},
     "output_type": "execute_result"
    }
   ],
   "source": [
    "def max_heapify_iterative(H, length, top):\n",
    "    p = top\n",
    "    while True:\n",
    "        l = 2*p + 1\n",
    "        r = 2*p + 2\n",
    "        largest = p\n",
    "        if l < length and H[l] > H[largest]:\n",
    "            largest = l\n",
    "        if r < length and H[r] > H[largest]:\n",
    "            largest = r\n",
    "        if largest != p:\n",
    "            H[largest], H[p] = H[p], H[largest]\n",
    "            p = largest\n",
    "        else:\n",
    "            break\n",
    "\n",
    "def build_max_heap_iterative(A, length):\n",
    "    H = A\n",
    "    for i in range(length//2, -1, -1):\n",
    "        max_heapify_iterative(H, length, i)\n",
    "    return H\n",
    "\n",
    "def heapsort(A):\n",
    "    length = len(A)\n",
    "    build_max_heap_iterative(A, length)\n",
    "    for i in range(length-1, 0, -1):\n",
    "        A[0], A[i] = A[i], A[0]\n",
    "        length -= 1\n",
    "        max_heapify_iterative(A, length, 0)\n",
    "\n",
    "test_sort(heapsort)"
   ]
  },
  {
   "cell_type": "markdown",
   "metadata": {},
   "source": [
    "### Quicksort\n",
    "\n",
    "Pivot choice scheme"
   ]
  },
  {
   "cell_type": "code",
   "execution_count": 8,
   "metadata": {},
   "outputs": [
    {
     "data": {
      "text/plain": [
       "'tests passed'"
      ]
     },
     "execution_count": 8,
     "metadata": {},
     "output_type": "execute_result"
    }
   ],
   "source": [
    "def partition(A, low, high):\n",
    "    pivot = A[high]\n",
    "    i = low-1\n",
    "    for j in range(low, high):\n",
    "        if A[j] <= pivot:\n",
    "            i += 1\n",
    "            A[i], A[j] = A[j], A[i]\n",
    "\n",
    "    if A[high] < A[i+1]:\n",
    "        A[i+1], A[high] = A[high], A[i+1]\n",
    "    return i+1\n",
    "\n",
    "def _quicksort(A, low, high):\n",
    "    if low < high:\n",
    "        pivot = partition(A, low, high)\n",
    "        _quicksort(A, low, pivot-1)\n",
    "        _quicksort(A, pivot+1, high)\n",
    "    \n",
    "def quicksort(A):\n",
    "    return _quicksort(A, 0, len(A)-1)\n",
    "\n",
    "test_sort(quicksort, N=50)"
   ]
  },
  {
   "cell_type": "markdown",
   "metadata": {},
   "source": [
    "## Quicksort compiled with Numba\n",
    "\n",
    "Numba is a just-in-time compilation framework for Python. Python that is marked with the `numba.jit` decorator gets compiled to native code on first execution using LLVM. Numba will attempt to specialize the function by introspecting the types of the function arguments.\n",
    "\n",
    "Quicksort was chosen because it is the algorithm that is expected to be fastest (in average case)."
   ]
  },
  {
   "cell_type": "code",
   "execution_count": 9,
   "metadata": {},
   "outputs": [
    {
     "data": {
      "text/plain": [
       "'tests passed'"
      ]
     },
     "execution_count": 9,
     "metadata": {},
     "output_type": "execute_result"
    }
   ],
   "source": [
    "import numba\n",
    "@numba.jit()\n",
    "def partition_numba(A, low, high):\n",
    "    pivot = A[high]\n",
    "    i = low-1\n",
    "    for j in range(low, high):\n",
    "        if A[j] <= pivot:\n",
    "            i += 1\n",
    "            A[i], A[j] = A[j], A[i]\n",
    "\n",
    "    if A[high] < A[i+1]:\n",
    "        A[i+1], A[high] = A[high], A[i+1]\n",
    "    return i+1\n",
    "\n",
    "@numba.jit()\n",
    "def _quicksort_numba(A, low, high):\n",
    "    if low < high:\n",
    "        pivot = partition_numba(A, low, high)\n",
    "        _quicksort_numba(A, low, pivot-1)\n",
    "        _quicksort_numba(A, pivot+1, high)\n",
    "\n",
    "@numba.jit()\n",
    "def quicksort_numba(A):\n",
    "    return _quicksort_numba(A, 0, len(A)-1)\n",
    "\n",
    "test_sort(quicksort_numba, N=50)"
   ]
  },
  {
   "cell_type": "markdown",
   "metadata": {},
   "source": [
    "## Benchmarking"
   ]
  },
  {
   "cell_type": "code",
   "execution_count": 76,
   "metadata": {
    "collapsed": true
   },
   "outputs": [],
   "source": [
    "def benchmark_sort(sort, data, repeats=3):\n",
    "\n",
    "    # FIXME: run just copy alone and check that it is very low influence (or subtract it)\n",
    "    #copytimer = timeit.Timer('data.copy()', globals=locals()) \n",
    "    \n",
    "    \n",
    "    timer = timeit.Timer('sort(data.copy())', globals=locals())\n",
    "    ntimes, firsttime = timer.autorange()\n",
    "    times = [firsttime] + timer.repeat(repeats-1, ntimes)\n",
    "    best = min(times) / ntimes\n",
    "    print('b', len(data), ntimes, best)\n",
    "    return best"
   ]
  },
  {
   "cell_type": "code",
   "execution_count": null,
   "metadata": {
    "scrolled": false
   },
   "outputs": [
    {
     "name": "stdout",
     "output_type": "stream",
     "text": [
      "b 1 1000000 1.2871710360013823e-06\n",
      "b 4 100000 1.4191013859999657e-05\n",
      "b 16 10000 5.224435349991836e-05\n",
      "b 64 1000 0.0002967345100005332\n",
      "b 256 1000 0.0013223405680000723\n",
      "b 1 1000000 1.2822996989998501e-06\n",
      "b 4 10000 2.21088903999771e-05\n",
      "b 16 10000 0.00011597907380019024\n"
     ]
    }
   ],
   "source": [
    "inefficient_sorts = { insertion_sort }\n",
    "efficient_sorts = { heapsort, quicksort, mergesort }\n",
    "custom_sorts = inefficient_sorts | efficient_sorts\n",
    "native_sorts = { python_sort, quicksort_numba }\n",
    "all_sorts = inefficient_sorts | efficient_sorts | native_sorts\n",
    "\n",
    "def benchmark_comparison(data_generator, max_n=8192, algorithms=None, logstep=4):\n",
    "    if algorithms is None:\n",
    "        algorithms = custom_sorts | { python_sort }\n",
    "    \n",
    "    N = [ logstep**i for i in range(0, int(math.log(max_n, logstep)+1)) ]\n",
    "    \n",
    "    inputs = [ data_generator(n) for n in N ]\n",
    "    series = { 'N': N }\n",
    "    for func in algorithms:\n",
    "        name = func.__name__\n",
    "        series[name] = [ benchmark_sort(func, i) for i in inputs ]        \n",
    "    return pandas.DataFrame(series)\n",
    "\n",
    "def plot_data_versus_algorithms(data_types=None, max_n=1024, algorithms=None, ymax=None, figsize=(16, 22)):\n",
    "    if data_types is None:\n",
    "        data_types = input_data_types\n",
    "    if ymax is None:\n",
    "        ylim = None\n",
    "    else:\n",
    "        ylim = (0, ymax)\n",
    "    \n",
    "    fig, axes = plt.subplots(nrows=math.ceil(len(data_types)/2), ncols=2)\n",
    "    for idx, data_source in enumerate(data_types):\n",
    "        col, row = idx % 2, idx // 2\n",
    "        df = benchmark_comparison(data_source, algorithms=algorithms, max_n=max_n)\n",
    "        title = data_source.__name__.replace('_', ' ')\n",
    "        legend = idx == 0\n",
    "        ax = df.plot(x='N', ax=axes[row][col], legend=legend, figsize=figsize, title=title, ylim=ylim)\n",
    "        ax.set_xlabel(\"Number of items (N)\")\n",
    "        ax.set_ylabel(\"Execution time [s]\")\n",
    "\n",
    "    return fig\n",
    "\n",
    "\n",
    "# FIXME: move down to results\n",
    "plot_data_versus_algorithms(ymax=0.020, max_n=256);  "
   ]
  },
  {
   "cell_type": "markdown",
   "metadata": {},
   "source": [
    "## Results"
   ]
  },
  {
   "cell_type": "code",
   "execution_count": 73,
   "metadata": {},
   "outputs": [
    {
     "data": {
      "image/png": "[encoded data removed]",
      "text/plain": [
       "<matplotlib.figure.Figure at 0x7f3f9f6af748>"
      ]
     },
     "metadata": {},
     "output_type": "display_data"
    }
   ],
   "source": [
    "plot_data_versus_algorithms(algorithms=native_sorts, ymax=0.002, max_n=256);"
   ]
  },
  {
   "cell_type": "markdown",
   "metadata": {},
   "source": [
    "\n",
    "\n",
    "TODO: algo compare with theory\n",
    "for each sort function, plot results acrosss N on different input data distributions\n",
    "max_n=1000000, except insertion sort\n",
    "Use a helper function for each plot\n",
    "Make comments for each, compared with expected\n",
    "\n",
    "MAYBE: find values for c for fitting the (expected) O() bounds, insert into plot as reference\n",
    "Should be done using an optimizer. Report the error (distance-squared?)?\n",
    "\n",
    "TODO: algo comparison\n",
    "For each data type, plots execution times for all sorting functions\n",
    "\n",
    "\n",
    "TODO: Numbas improvement\n",
    "for each data type, plot versus original/numpy/Python\n",
    ", plot improvement over original\n",
    "\n",
    "## Discussion\n",
    "\n",
    "Discuss your results in light of the expectations from the theoretical runtime analysis we performed in class for different types of test data. Comment on unexpected or surprising results. Try to interpret your results.\n",
    "\n",
    "\n",
    "Large differences even within same polyminoal class \n",
    "Improvements that exist to algorithms for improving bad cases\n",
    "\n",
    "## Conclusions"
   ]
  },
  {
   "cell_type": "code",
   "execution_count": null,
   "metadata": {
    "collapsed": true
   },
   "outputs": [],
   "source": []
  }
 ],
 "metadata": {
  "kernelspec": {
   "display_name": "Python 3",
   "language": "python",
   "name": "python3"
  },
  "language_info": {
   "codemirror_mode": {
    "name": "ipython",
    "version": 3
   },
   "file_extension": ".py",
   "mimetype": "text/x-python",
   "name": "python",
   "nbconvert_exporter": "python",
   "pygments_lexer": "ipython3",
   "version": "3.6.3"
  }
 },
 "nbformat": 4,
 "nbformat_minor": 2
}
